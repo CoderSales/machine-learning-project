{
  "cells": [
    {
      "cell_type": "markdown",
      "metadata": {
        "colab_type": "text",
        "id": "view-in-github"
      },
      "source": [
        "<a href=\"https://colab.research.google.com/github/Coder731/machine-learning-project/blob/main/SLF_Project_LearnerNotebook_LowCode_2.ipynb\" target=\"_parent\"><img src=\"https://colab.research.google.com/assets/colab-badge.svg\" alt=\"Open In Colab\"/></a>"
      ]
    },
    {
      "cell_type": "code",
      "execution_count": 1,
      "metadata": {
        "id": "zeF8YaNKDPyK"
      },
      "outputs": [
        {
          "name": "stdout",
          "output_type": "stream",
          "text": [
            "<class 'pandas.core.frame.DataFrame'>\n",
            "RangeIndex: 3454 entries, 0 to 3453\n",
            "Data columns (total 15 columns):\n",
            " #   Column                 Non-Null Count  Dtype  \n",
            "---  ------                 --------------  -----  \n",
            " 0   brand_name             3454 non-null   object \n",
            " 1   os                     3454 non-null   object \n",
            " 2   screen_size            3454 non-null   float64\n",
            " 3   4g                     3454 non-null   object \n",
            " 4   5g                     3454 non-null   object \n",
            " 5   main_camera_mp         3275 non-null   float64\n",
            " 6   selfie_camera_mp       3452 non-null   float64\n",
            " 7   int_memory             3450 non-null   float64\n",
            " 8   ram                    3450 non-null   float64\n",
            " 9   battery                3448 non-null   float64\n",
            " 10  weight                 3447 non-null   float64\n",
            " 11  release_year           3454 non-null   int64  \n",
            " 12  days_used              3454 non-null   int64  \n",
            " 13  normalized_used_price  3454 non-null   float64\n",
            " 14  normalized_new_price   3454 non-null   float64\n",
            "dtypes: float64(9), int64(2), object(4)\n",
            "memory usage: 404.9+ KB\n",
            "\n",
            "___________________1\n",
            " data.head(2):\n",
            "   brand_name       os  screen_size   4g   5g  main_camera_mp  \\\n",
            "0      Honor  Android         14.5  yes   no            13.0   \n",
            "1      Honor  Android         17.3  yes  yes            13.0   \n",
            "\n",
            "   selfie_camera_mp  int_memory  ram  battery  weight  release_year  \\\n",
            "0               5.0        64.0  3.0   3020.0   146.0          2020   \n",
            "1              16.0       128.0  8.0   4300.0   213.0          2020   \n",
            "\n",
            "   days_used  normalized_used_price  normalized_new_price  \n",
            "0        127               4.307572              4.715100  \n",
            "1        325               5.162097              5.519018   \n",
            "___________________2\n",
            " data.shape:\n",
            " (3454, 15) \n",
            "___________________3\n",
            " data.info():\n",
            " None \n",
            "___________________4\n",
            " data.describe().T:\n",
            "                         count         mean          std          min  \\\n",
            "screen_size            3454.0    13.713115     3.805280     5.080000   \n",
            "main_camera_mp         3275.0     9.460208     4.815461     0.080000   \n",
            "selfie_camera_mp       3452.0     6.554229     6.970372     0.000000   \n",
            "int_memory             3450.0    54.573099    84.972371     0.010000   \n",
            "ram                    3450.0     4.036122     1.365105     0.020000   \n",
            "battery                3448.0  3133.402697  1299.682844   500.000000   \n",
            "weight                 3447.0   182.751871    88.413228    69.000000   \n",
            "release_year           3454.0  2015.965258     2.298455  2013.000000   \n",
            "days_used              3454.0   674.869716   248.580166    91.000000   \n",
            "normalized_used_price  3454.0     4.364712     0.588914     1.536867   \n",
            "normalized_new_price   3454.0     5.233107     0.683637     2.901422   \n",
            "\n",
            "                               25%          50%          75%          max  \n",
            "screen_size              12.700000    12.830000    15.340000    30.710000  \n",
            "main_camera_mp            5.000000     8.000000    13.000000    48.000000  \n",
            "selfie_camera_mp          2.000000     5.000000     8.000000    32.000000  \n",
            "int_memory               16.000000    32.000000    64.000000  1024.000000  \n",
            "ram                       4.000000     4.000000     4.000000    12.000000  \n",
            "battery                2100.000000  3000.000000  4000.000000  9720.000000  \n",
            "weight                  142.000000   160.000000   185.000000   855.000000  \n",
            "release_year           2014.000000  2015.500000  2018.000000  2020.000000  \n",
            "days_used               533.500000   690.500000   868.750000  1094.000000  \n",
            "normalized_used_price     4.033931     4.405133     4.755700     6.619433  \n",
            "normalized_new_price      4.790342     5.245892     5.673718     7.847841  \n"
          ]
        },
        {
          "data": {
            "application/javascript": "\n            setTimeout(function() {\n                var nbb_cell_id = 1;\n                var nbb_unformatted_code = \"%load_ext nb_black\\n\\n\\nimport numpy as np\\nimport pandas as pd\\nimport matplotlib.pyplot as plt\\nimport seaborn as sns\\nfrom sklearn.model_selection import train_test_split\\nfrom sklearn.linear_model import LinearRegression\\nfrom sklearn.metrics import mean_absolute_error, mean_squared_error, r2_score\\nimport statsmodels.api as sm\\nfrom statsmodels.stats.outliers_influence import variance_inflation_factor\\nimport io\\nfrom string import Template\\ndata = pd.read_csv(\\\"used_device_data.csv\\\")\\nprint(\\n    '\\\\n___________________1\\\\n',\\n    'data.head(2):\\\\n',\\n    data.head(2),\\n    '\\\\n___________________2\\\\n',\\n    'data.shape:\\\\n',\\n    data.shape,\\n    '\\\\n___________________3\\\\n',\\n    'data.info():\\\\n',\\n    data.info(),\\n    '\\\\n___________________4\\\\n',\\n    'data.describe().T:\\\\n',\\n    data.describe().T)\";\n                var nbb_formatted_code = \"%load_ext nb_black\\n\\n\\nimport numpy as np\\nimport pandas as pd\\nimport matplotlib.pyplot as plt\\nimport seaborn as sns\\nfrom sklearn.model_selection import train_test_split\\nfrom sklearn.linear_model import LinearRegression\\nfrom sklearn.metrics import mean_absolute_error, mean_squared_error, r2_score\\nimport statsmodels.api as sm\\nfrom statsmodels.stats.outliers_influence import variance_inflation_factor\\nimport io\\nfrom string import Template\\n\\ndata = pd.read_csv(\\\"used_device_data.csv\\\")\\nprint(\\n    \\\"\\\\n___________________1\\\\n\\\",\\n    \\\"data.head(2):\\\\n\\\",\\n    data.head(2),\\n    \\\"\\\\n___________________2\\\\n\\\",\\n    \\\"data.shape:\\\\n\\\",\\n    data.shape,\\n    \\\"\\\\n___________________3\\\\n\\\",\\n    \\\"data.info():\\\\n\\\",\\n    data.info(),\\n    \\\"\\\\n___________________4\\\\n\\\",\\n    \\\"data.describe().T:\\\\n\\\",\\n    data.describe().T,\\n)\";\n                var nbb_cells = Jupyter.notebook.get_cells();\n                for (var i = 0; i < nbb_cells.length; ++i) {\n                    if (nbb_cells[i].input_prompt_number == nbb_cell_id) {\n                        if (nbb_cells[i].get_text() == nbb_unformatted_code) {\n                             nbb_cells[i].set_text(nbb_formatted_code);\n                        }\n                        break;\n                    }\n                }\n            }, 500);\n            ",
            "text/plain": [
              "<IPython.core.display.Javascript object>"
            ]
          },
          "metadata": {},
          "output_type": "display_data"
        }
      ],
      "source": [
        "%load_ext nb_black\n",
        "\n",
        "\n",
        "import numpy as np\n",
        "import pandas as pd\n",
        "import matplotlib.pyplot as plt\n",
        "import seaborn as sns\n",
        "from sklearn.model_selection import train_test_split\n",
        "from sklearn.linear_model import LinearRegression\n",
        "from sklearn.metrics import mean_absolute_error, mean_squared_error, r2_score\n",
        "import statsmodels.api as sm\n",
        "from statsmodels.stats.outliers_influence import variance_inflation_factor\n",
        "import io\n",
        "from string import Template\n",
        "data = pd.read_csv(\"used_device_data.csv\")\n",
        "print(\n",
        "    '\\n___________________1\\n',\n",
        "    'data.head(2):\\n',\n",
        "    data.head(2),\n",
        "    '\\n___________________2\\n',\n",
        "    'data.shape:\\n',\n",
        "    data.shape,\n",
        "    '\\n___________________3\\n',\n",
        "    'data.info():\\n',\n",
        "    data.info(),\n",
        "    '\\n___________________4\\n',\n",
        "    'data.describe().T:\\n',\n",
        "    data.describe().T)"
      ]
    },
    {
      "cell_type": "code",
      "execution_count": 2,
      "metadata": {
        "colab": {
          "base_uri": "https://localhost:8080/"
        },
        "id": "azoB3Vsc53dk",
        "outputId": "fe74651d-9dc5-41c3-b383-06ae88660401"
      },
      "outputs": [
        {
          "name": "stdout",
          "output_type": "stream",
          "text": [
            "current_col_headg_in_brakts_n_quotes: [\"brand_name\"]\n",
            "data[brand_name].unique():\n",
            "['Honor' 'Others' 'HTC' 'Huawei' 'Infinix' 'Lava' 'Lenovo' 'LG' 'Meizu'\n",
            " 'Micromax' 'Motorola' 'Nokia' 'OnePlus' 'Oppo' 'Realme' 'Samsung' 'Vivo'\n",
            " 'Xiaomi' 'ZTE' 'Apple' 'Asus' 'Coolpad' 'Acer' 'Alcatel' 'BlackBerry'\n",
            " 'Celkon' 'Gionee' 'Google' 'Karbonn' 'Microsoft' 'Panasonic' 'Sony'\n",
            " 'Spice' 'XOLO']\n",
            "\n",
            "current_col_headg_in_brakts_n_quotes: [\"os\"]\n",
            "data[os].unique():\n",
            "['Android' 'Others' 'iOS' 'Windows']\n",
            "\n",
            "current_col_headg_in_brakts_n_quotes: [\"screen_size\"]\n",
            "data[screen_size].unique():\n",
            "[14.5  17.3  16.69 25.5  15.32 16.23 13.84 15.77 15.47 15.9  16.74 25.43\n",
            " 20.32 15.29 12.88 15.24 15.37 16.71 25.6  15.34 16.59 16.81 20.42 10.16\n",
            " 17.78 17.32 15.39 12.7  15.44  5.28 15.27 15.8  15.72 12.83  7.62  7.75\n",
            " 10.03 15.42 16.56  5.18 16.64 16.94 16.33 10.29 16.43 12.93 16.36 16.66\n",
            " 16.21 17.5  16.13 16.28 14.4  15.21 20.12 16.89 16.48 16.31 25.53 12.73\n",
            " 20.55 30.71 27.94 25.45 18.01 14.35 16.15 23.04 10.34 10.24 12.78 12.75\n",
            " 23.01 11.81 11.84 10.36 11.76 12.9  17.4  14.55 12.8   7.65 10.21  5.08\n",
            "  5.13  5.23 20.35 12.57 18.08 17.65 14.83 15.06 13.08 15.14 30.56 19.96\n",
            " 19.94 25.4  11.89 15.62 17.83  7.85  7.67 16.08 17.73 12.52 20.4   7.82\n",
            " 15.11 13.87 13.61  5.16 10.08 25.55 15.7  14.88 15.95 15.82  7.7  14.53\n",
            " 17.86 12.85 13.34 11.48  7.98 30.53  7.8  12.12  8.31  6.68 10.31 11.56\n",
            " 14.86 14.94 13.79 13.56 15.16 12.67 10.19 16.84 17.81 14.81]\n",
            "\n",
            "current_col_headg_in_brakts_n_quotes: [\"4g\"]\n",
            "data[4g].unique():\n",
            "['yes' 'no']\n",
            "\n",
            "current_col_headg_in_brakts_n_quotes: [\"5g\"]\n",
            "data[5g].unique():\n",
            "['no' 'yes']\n",
            "\n",
            "current_col_headg_in_brakts_n_quotes: [\"main_camera_mp\"]\n",
            "data[main_camera_mp].unique():\n",
            "[13.    8.    5.   10.5   3.15   nan  2.   16.    0.3  12.   14.5  48.\n",
            "  3.   21.    1.3  13.1  24.    0.08 20.7  23.    1.   18.   12.2  12.3\n",
            " 20.   20.2   4.   12.5  10.    6.5   6.7  41.   20.1  12.6  16.3  22.6\n",
            " 19.   21.5  21.2   8.1   1.2  22.5 ]\n",
            "\n",
            "current_col_headg_in_brakts_n_quotes: [\"selfie_camera_mp\"]\n",
            "data[selfie_camera_mp].unique():\n",
            "[ 5.   16.    8.   32.    2.    0.3  13.   14.5  24.   10.    1.3  20.\n",
            " 25.    0.   12.    7.    1.2   3.    2.1   1.    4.    1.1    nan 10.5\n",
            "  1.6   1.8   3.5   0.9   1.25 18.    1.9   9.    3.7  16.3   5.1   2.2\n",
            " 14.    0.65]\n",
            "\n",
            "current_col_headg_in_brakts_n_quotes: [\"int_memory\"]\n",
            "data[int_memory].unique():\n",
            "[6.400e+01 1.280e+02 3.200e+01 1.600e+01 2.560e+02 5.120e+02 8.000e+00\n",
            " 4.000e+00 5.000e-01 2.000e-01 1.000e-01 6.000e-02       nan 1.024e+03\n",
            " 2.400e+01 1.000e-02]\n",
            "\n",
            "current_col_headg_in_brakts_n_quotes: [\"ram\"]\n",
            "data[ram].unique():\n",
            "[ 3.    8.    6.    4.    2.    1.   12.    0.5   0.25  0.03   nan  0.02\n",
            "  1.5 ]\n",
            "\n",
            "current_col_headg_in_brakts_n_quotes: [\"battery\"]\n",
            "data[battery].unique():\n",
            "[3020.  4300.  4200.  7250.  5000.  4000.  3400.  4100.  3750.  5100.\n",
            " 5680.  3850.  3075.  3300.  3930.  4500.  7500.  6100.  3500.  1700.\n",
            " 6000.  3200.  3000.  7000.  3590.  4050.  8400.  1470.  3450.  8200.\n",
            " 1540.  3600.  1500.  2000.  1020.  1200.  4085.  4230.  4025.  4035.\n",
            " 4020.  4065.  3130.  3090.  3820.  2700.  4315.  4350.  4030.  3700.\n",
            " 3260.  3940.  1900.  2920.  4520.  4800.  5020.  2600.  7040.  7600.\n",
            " 2800.  9720.  5770.5 8827.  7812.  5124.  3230.  2200.  1760.  3100.\n",
            " 3240.  2840.  1800.  2460.  4080.  4420.  2870.  2420.  5910.  4550.\n",
            " 2300.  1300.  2100.  2500.  4600.  1630.  2955.  2400.  7300.  4960.\n",
            " 2640.  2710.  2580.  2850.  2050.  2150.  2960.  2610.  2910.  2820.\n",
            " 1400.  1000.  4060.   750.   850.  3050.  3150.  2350.  3140.  1850.\n",
            " 1350.  1920.  1420.  1750.  8000.  4400.  1280.  3830.  3210.  2980.\n",
            " 3969.  3174.  2658.  2942.  5493.  2716.  2691.  1821.  2256.  8134.\n",
            " 2900.  1960.  7306.  1624.  2750.  1715.  3937.  7340.  6470.  2915.\n",
            " 1810.  8600.  1560.  1510.  6600.  2950.  4130.  4680.  2650.  7800.\n",
            " 3480.  5900.  2070.  3010.  1600.  4890.  2040.  3030.  3950.  2060.\n",
            " 2110.  2865.  3910.  1820.  1170.  5070.  4270.  1840.  2520.  3410.\n",
            " 2515.  2880.  1450.  2180.  4180.  3180.  6180.  2020.  2250.   820.\n",
            "  620.  3080.  3120.  3620.  2470.  7280.  3800.  2630.  1150.  4070.\n",
            " 4010.  2670.  6020.  3065.  2530.  1950.  3430.  3520.  2770.  9240.\n",
            " 3340.  1730.  2550.  4150.  8380.  2965.  2730.  6700.  1650.  1230.\n",
            " 1860.  3650.  2280.  6660.  4360.  2680.  1975.  4450.  1625.  2620.\n",
            " 2560.  5180.  3350.  3760.  4850.  4250.  9300.  4290.  4900.  6200.\n",
            " 2410.  9600.  6400.  6340.  9000.  3550.  2660.  1940.  2125.  7400.\n",
            " 2540.   950.  2440.  3570.  3070.  3360.  3235.  3060.  2760.  3095.\n",
            "    nan 2260.  2450.  1905.  3510.  2390.  3900.  3220.  1980.  2130.\n",
            " 1785.  3320.  2970.  2990.  1100.  1830.  5300.  1430.  1010.  1110.\n",
            " 5200.  5400.  2525.  3765.  3730.  4120.  2320.  2140.  3610.   800.\n",
            " 2210.  1030.  4700.  4380.  6150.  5870.  7900.  2430.  6800.  9500.\n",
            " 8220.  2330.  2030.  3330.  3580.  3540.  2930.  2370.  3315.  3425.\n",
            " 3250.  3225.  4015.  3160.  5830.  1780.  1880.  5500.  8620.  2860.\n",
            " 6190.  2230.   500.  3630.  2705.  2480.  4260.  4045.  5260.  4160.\n",
            " 4720.  4780.  4235.  3046.  3110. ]\n",
            "\n",
            "current_col_headg_in_brakts_n_quotes: [\"weight\"]\n",
            "data[weight].unique():\n",
            "[146.   213.   480.   185.   176.   144.   164.   165.   150.   206.\n",
            " 171.5  172.   173.   453.6  170.   160.   180.   192.   182.   163.\n",
            " 310.   189.   450.   226.   460.   183.   178.   198.   196.   163.5\n",
            " 498.   340.   320.   171.   196.8  136.1  350.   209.   147.6  520.\n",
            " 580.   305.   236.   159.   655.   196.5  219.   127.   218.   148.\n",
            " 152.   186.   194.   175.   179.   140.45 199.   184.   166.   146.5\n",
            "  89.    85.   210.   203.   200.    90.5   91.3  220.    88.2   86.5\n",
            " 168.   181.   169.5  190.   215.   135.   191.   195.   313.   141.\n",
            " 206.5  153.   234.   204.1  181.5  190.2  197.   198.1  219.5  198.5\n",
            " 193.   186.7  191.5  190.5  218.5  217.3  217.   189.5  130.   145.\n",
            " 208.   205.   188.   241.   173.8  157.   154.   187.   467.   168.1\n",
            " 420.   256.   653.   169.   338.   184.7  330.   191.6  242.   505.2\n",
            " 138.   176.6  355.   374.   641.   471.   483.   468.   299.   158.\n",
            " 136.   508.    90.   295.1  325.   279.   285.   390.   400.   153.2\n",
            " 544.3  260.   126.   147.5  125.   353.8  142.   540.   110.   118.\n",
            " 120.   119.   116.   155.   360.   298.   159.5  134.   122.   323.\n",
            " 315.   380.   229.   560.   410.   140.   339.9  151.   415.   245.\n",
            " 147.   156.   163.9  159.95 149.   174.   144.9  142.95 335.    98.\n",
            " 114.   101.    93.   149.1  121.1  327.   100.    95.    77.9  162.\n",
            " 103.   128.   136.5  117.4  177.6   96.   108.   119.5  115.   109.\n",
            " 139.   143.6  167.5  209.8  137.   155.3  143.   118.5  212.   156.5\n",
            " 135.5  204.4  119.8  149.7  146.4  139.2   97.   156.2   98.9  118.7\n",
            " 129.   143.1  150.5  143.5  402.   645.4  282.   472.4  289.   357.\n",
            "  80.   131.9  153.7  147.7  129.4  110.6  137.7  124.9  176.9  113.6\n",
            " 122.7  140.7  500.   369.   295.   337.   290.   303.   345.   456.\n",
            " 300.5  631.   177.   469.   202.   677.   437.   113.   713.   331.\n",
            " 112.   132.   214.   510.   223.   232.   490.   270.   430.   158.4\n",
            " 233.   133.5  170.1  272.   155.1  265.   280.   525.   148.8  269.\n",
            " 328.   595.   550.   105.   522.   585.   302.   370.   167.   137.5\n",
            " 142.6  207.   106.   404.   133.   124.    69.   243.   470.   250.\n",
            " 161.   115.3  102.    78.2  173.4  138.5  597.   292.   142.5   92.\n",
            " 121.   154.5  130.5  135.6  238.   168.2  207.7  147.2  167.6  136.6\n",
            " 211.   125.3  180.3   97.7  142.9  115.35 517.   230.   850.   855.\n",
            " 294.8  239.   626.   319.8  340.2  372.   157.5  149.8  140.1  138.9\n",
            " 425.   123.   123.9  107.   475.   316.   326.   495.   278.   141.5\n",
            " 131.   228.   433.   620.   329.   384.   114.5  104.5  176.5   87.5\n",
            " 126.5   75.   187.1  168.5  115.4  204.   153.8  254.   300.   637.\n",
            " 155.6  225.   259.   509.   666.8  467.2  117.   619.   419.   615.\n",
            " 163.3  145.2  605.   401.   244.9  339.   165.4  172.3  166.5  141.8\n",
            " 309.   144.6  169.8  489.   347.   165.9  124.4  129.6  344.   146.8\n",
            " 535.8  523.   342.   293.   126.6  113.4  104.6  159.9  122.5  141.2\n",
            " 133.2  115.5  103.3  310.5  306.    98.6  141.9  127.9  136.3  134.1\n",
            " 675.9  196.6  153.5  140.6  125.9  171.8  138.3   88.1   81.    82.6\n",
            "  91.8   79.    78.4   78.6  318.    99.8  100.6  128.7   89.3   83.6\n",
            " 111.4  110.2  101.3  101.1   89.6   98.2   97.3  103.7  356.   132.5\n",
            " 140.75 154.85 146.7  612.   621.   406.   680.   660.   263.   358.\n",
            " 201.   364.   429.   184.8  283.   322.   110.3  393.   136.9  130.3\n",
            " 123.8  107.6  294.   465.   135.8  276.   487.    91.   162.5  753.\n",
            " 750.   740.   732.   730.2  477.   134.2  121.9  118.9  118.2  130.4\n",
            "  99.5  118.8  314.   119.1  128.5  143.9  100.5  130.1   89.2  120.6\n",
            " 139.1  148.5  167.4  221.   164.4  137.4  389.   143.8  170.6  439.\n",
            " 426.   171.7  123.3  196.3  354.4  630.5  671.3  598.7  190.25 149.3\n",
            " 162.8  183.2  157.8  158.6  183.5  172.5  140.5  167.8  167.9  342.5\n",
            " 485.   131.5     nan 148.85 151.3  171.1  158.8  174.9  149.5  194.8\n",
            " 172.9  139.3  189.9  135.55 117.9  127.6  153.4  152.9  189.4  183.6\n",
            " 181.4  214.5  201.8  253.   222.   240.  ]\n",
            "\n",
            "current_col_headg_in_brakts_n_quotes: [\"release_year\"]\n",
            "data[release_year].unique():\n",
            "[2020 2019 2013 2014 2016 2018 2015 2017]\n",
            "\n",
            "current_col_headg_in_brakts_n_quotes: [\"days_used\"]\n",
            "data[days_used].unique():\n",
            "[ 127  325  162  345  293  223  234  219  161  327  268  344  537  336\n",
            "  230  248  395  421  532  266  321  933  187  499  497  202  493   91\n",
            "  299  354  306  231  205  211  120  139   93  460  256  206  488  516\n",
            "  289  477  195  244  376  406  462  333  284  445  375  666  819  245\n",
            "  173  316  468  356  233  419  267  461  423  528  254  370  482  691\n",
            "  273  349  343  352  142   92  166  329  383  443  257  380  255  512\n",
            "  200  210  216  724  628  750  186  449  190  459  517  332 1016  956\n",
            "  680  733 1029  242  220  310  193  272  288  110  208  458  294  271\n",
            "  100  146  397  411  276  392  296  664 1076  317  338  111  167  399\n",
            "  909  135  523  414  153  125  123  413  246  145  300  118  312  226\n",
            "  199  279  212  188  264  259  500  391  204  456  224  451  455  431\n",
            "  334  415  931  407  470  280  318  301  319  184  265  169  478  382\n",
            "  374  396  235  278  386  347  330  474  385  506  595  420  138  346\n",
            "  362  355  141  228  213  504  371  201  311  524  388  251 1048  194\n",
            "  323  489  328  134  240  102  305  215  133  181  433  505  351  364\n",
            "  253  269  207  518  307  274  520  539  610  835  320  359  704  429\n",
            "  531  426  401  424  902  126  196  471  438  393  463  693  965  348\n",
            "  198  405  900  757  652 1051  897  260  322  148  232  281  122  218\n",
            "  277  282  587  917  486   97  247  450  258  430  313  222  852  168\n",
            "  290  243  513  452  440  335  221 1064  601  827  840 1073 1091  214\n",
            "  252  342  578  918  662 1050 1046  770  759 1041  932  836  737 1057\n",
            "  473  726  699 1085 1079  617  570  714  549  893  767  824  988  961\n",
            "  942  874  899  994  592  934  603  697 1044  579  569  723  886  936\n",
            "  685  611  920 1007  642  719 1082  690  801 1015  635  901  946  656\n",
            "  905  562  761  825  558  302  670  591  586  538  600  707  636  564\n",
            "  716  751  823  839  687  619  866  884  754 1063  769  989  811  911\n",
            "  987  649 1006  708  813  780  622 1040  566  736  658  686  976  713\n",
            "  732  629 1092  786  829  803  702  672  929  718  969  794  892  654\n",
            "  921  632  867  787  809  753  951  701  955  785  653  834  568  571\n",
            "  606  540  906  967  904  684  764  837  692  817  831  858  608 1084\n",
            "  789  585  898  597  573 1042  847  616  681  492  683  725  879  816\n",
            "  580  650  974  805  924  758  945 1047  614  689  957  706  643  739\n",
            "  609  563  646  833  960 1008  556  661  783  998  695 1088  977  822\n",
            "  878  790  552  821  925 1032  496  250  543  525  583  641  673  815\n",
            "  604  541 1026  894  667  778  572  547  914  877  995 1070  712  727\n",
            "  665  669  624  773  594  565  872  551  676  985  575  535  511  722\n",
            "  781  868  818  542  797  612  755  588  796  582 1055  981  862  927\n",
            "  553  599  980  928  545 1003  700  999 1089  715  997 1014  880  885\n",
            "  777  747  953  749  970  557  626  857  860 1059 1023 1022  772  846\n",
            "  731  645  766  705 1013  800  679 1081  947  910  550 1083  674  869\n",
            "  887  593  710 1011  561  607  554  560 1094  903  696  625  574  774\n",
            "  760  814  784  720  895  889  740 1090  856  637  959  979 1056 1024\n",
            "  639  581 1038  782  729  728 1028  793  855  883  990  745 1060  850\n",
            "  567  454  890  756  843  992  546  863  930  688  802  590  630 1035\n",
            " 1027  779 1034  655  791  671  851  555  820 1078  703  848  939  735\n",
            "  613  377  711  792  962 1031  944 1061 1030  966  854  623  660  873\n",
            "  694  941 1069 1054  950 1000  738  682  602  475 1021  584  372  410\n",
            "  283  663  675 1039 1001  826  668  806  634  678  621  384  859  744\n",
            "  948  828  748  559  916  795  598  986 1066 1002  973  640  838  768\n",
            "  620  996 1018  845 1072  515  476  381  434  295  442  389  365  441\n",
            "  448  651  387  453  530  457  522  762  788  896  808 1049  926 1009\n",
            "  975  631 1037 1010 1005  870  964  644  698  638  807  922  742  949\n",
            "  938  804 1019  913  849  830 1077  799 1062  677  912  577  765  502\n",
            "  464  436  509  480  763  752  841  963  940  548  958 1045 1074  876\n",
            "  881  618  865 1012  954  721 1033  627  369  394  487  494  366  743\n",
            "  746  730  576  864  741  983  709  798  776 1025  775  952  888  853\n",
            "  633  984 1093  810  605  908 1043  734 1052  871  596  937 1017  390\n",
            "  368  447  373  533  842  659 1020  501  485  648  469  417  717 1067\n",
            "  875  238  412  507  444  527 1065  915  968  978  844 1068  919  832\n",
            "  657  972 1087  422  416  291  428  526  363  298  339  465  923  907\n",
            "  882  971 1071  589 1075  935  544 1004 1080 1086  262  991  615  647\n",
            "  982 1053  943  237  261  408  479  861  353  446  427  891  812 1036\n",
            "  771  466  404  203  508  119  239  182  151  285  297  350  174  292\n",
            "  491  379  249  341  227  357  236  121  113  165  197  108  154  340\n",
            "  128  156   96  361  164  112  514  217  179  275  286  129  326  360\n",
            "  263  308  101  176  435  481  367  159  225  503   98  124  315  149]\n",
            "\n",
            "current_col_headg_in_brakts_n_quotes: [\"normalized_used_price\"]\n",
            "data[normalized_used_price].unique():\n",
            "[4.30757245 5.16209665 5.11108377 ... 5.03773152 4.35734965 4.34976167]\n",
            "\n",
            "current_col_headg_in_brakts_n_quotes: [\"normalized_new_price\"]\n",
            "data[normalized_new_price].unique():\n",
            "[4.71510025 5.51901794 5.88463072 ... 6.25153773 4.62418819 4.27999391]\n",
            "\n"
          ]
        },
        {
          "data": {
            "application/javascript": "\n            setTimeout(function() {\n                var nbb_cell_id = 2;\n                var nbb_unformatted_code = \"# duplicates\\nheadings_list=list(data.columns.values)\\ncountT=0\\ncountF=0\\na=0\\nholder={'a':'0','b':'1'}\\nstring_holder=' : '\\nholder_duplicates_counted={}\\n\\n# then run for loop:\\nfor head_n, heading in enumerate(headings_list):\\n  hold_key=heading\\n  strg_var='\\\\\\\"{}\\\\\\\"'.format(heading)\\n  hold_value=headings_list[head_n] # hold_value=list[#]\\n  col_el_1=data[headings_list[head_n]].head(1).to_string(index=False) # col_hold=df[list[#]]\\n  # hold_value_3=headings_list['{}'.format(strg_var)] # hold_value_3=headings_list[\\\"heading\\\"]\\n  # print(\\\"col_el_1:\\\",col_el_1)\\n   # put strg_var between square brackets\\n  current_col_headg_in_brakts_n_quotes='[{}]'.format(strg_var)\\n  print(\\\"current_col_headg_in_brakts_n_quotes:\\\",current_col_headg_in_brakts_n_quotes)\\n  data_col_i=data[Template(\\\"$obj\\\").substitute(obj=heading)].head(2).to_string(index=False)\\n  # print(\\\"data_col_i (first 2 row(cell)values in col):\\\")\\n  # print(data_col_i)\\n  print(\\\"data[\\\",Template(\\\"$heading\\\").substitute(heading=heading),\\\"].unique():\\\\n\\\",data[heading].unique(),sep=\\\"\\\")\\n  print(\\\"\\\")\\n\\n  # pre variable(s):\\n  outer_key=heading\\n  # assemble dictionary within dictionary (depth of 2 at least):\\n  Template(\\\"$outer_key\\\").substitute(outer_key=outer_key)\\n  # heading1 : value_is_inner_dictionary\\n  # inner_dictionary is:\\n  # key : value\\n  \\n  # if head_n==1:\\n  #   break\";\n                var nbb_formatted_code = \"# duplicates\\nheadings_list = list(data.columns.values)\\ncountT = 0\\ncountF = 0\\na = 0\\nholder = {\\\"a\\\": \\\"0\\\", \\\"b\\\": \\\"1\\\"}\\nstring_holder = \\\" : \\\"\\nholder_duplicates_counted = {}\\n\\n# then run for loop:\\nfor head_n, heading in enumerate(headings_list):\\n    hold_key = heading\\n    strg_var = '\\\"{}\\\"'.format(heading)\\n    hold_value = headings_list[head_n]  # hold_value=list[#]\\n    col_el_1 = (\\n        data[headings_list[head_n]].head(1).to_string(index=False)\\n    )  # col_hold=df[list[#]]\\n    # hold_value_3=headings_list['{}'.format(strg_var)] # hold_value_3=headings_list[\\\"heading\\\"]\\n    # print(\\\"col_el_1:\\\",col_el_1)\\n    # put strg_var between square brackets\\n    current_col_headg_in_brakts_n_quotes = \\\"[{}]\\\".format(strg_var)\\n    print(\\\"current_col_headg_in_brakts_n_quotes:\\\", current_col_headg_in_brakts_n_quotes)\\n    data_col_i = (\\n        data[Template(\\\"$obj\\\").substitute(obj=heading)].head(2).to_string(index=False)\\n    )\\n    # print(\\\"data_col_i (first 2 row(cell)values in col):\\\")\\n    # print(data_col_i)\\n    print(\\n        \\\"data[\\\",\\n        Template(\\\"$heading\\\").substitute(heading=heading),\\n        \\\"].unique():\\\\n\\\",\\n        data[heading].unique(),\\n        sep=\\\"\\\",\\n    )\\n    print(\\\"\\\")\\n\\n    # pre variable(s):\\n    outer_key = heading\\n    # assemble dictionary within dictionary (depth of 2 at least):\\n    Template(\\\"$outer_key\\\").substitute(outer_key=outer_key)\\n    # heading1 : value_is_inner_dictionary\\n    # inner_dictionary is:\\n    # key : value\\n\\n    # if head_n==1:\\n    #   break\";\n                var nbb_cells = Jupyter.notebook.get_cells();\n                for (var i = 0; i < nbb_cells.length; ++i) {\n                    if (nbb_cells[i].input_prompt_number == nbb_cell_id) {\n                        if (nbb_cells[i].get_text() == nbb_unformatted_code) {\n                             nbb_cells[i].set_text(nbb_formatted_code);\n                        }\n                        break;\n                    }\n                }\n            }, 500);\n            ",
            "text/plain": [
              "<IPython.core.display.Javascript object>"
            ]
          },
          "metadata": {},
          "output_type": "display_data"
        }
      ],
      "source": [
        "# duplicates\n",
        "headings_list=list(data.columns.values)\n",
        "countT=0\n",
        "countF=0\n",
        "a=0\n",
        "holder={'a':'0','b':'1'}\n",
        "string_holder=' : '\n",
        "holder_duplicates_counted={}\n",
        "\n",
        "# then run for loop:\n",
        "for head_n, heading in enumerate(headings_list):\n",
        "  hold_key=heading\n",
        "  strg_var='\\\"{}\\\"'.format(heading)\n",
        "  hold_value=headings_list[head_n] # hold_value=list[#]\n",
        "  col_el_1=data[headings_list[head_n]].head(1).to_string(index=False) # col_hold=df[list[#]]\n",
        "  # hold_value_3=headings_list['{}'.format(strg_var)] # hold_value_3=headings_list[\"heading\"]\n",
        "  # print(\"col_el_1:\",col_el_1)\n",
        "   # put strg_var between square brackets\n",
        "  current_col_headg_in_brakts_n_quotes='[{}]'.format(strg_var)\n",
        "  print(\"current_col_headg_in_brakts_n_quotes:\",current_col_headg_in_brakts_n_quotes)\n",
        "  data_col_i=data[Template(\"$obj\").substitute(obj=heading)].head(2).to_string(index=False)\n",
        "  # print(\"data_col_i (first 2 row(cell)values in col):\")\n",
        "  # print(data_col_i)\n",
        "  print(\"data[\",Template(\"$heading\").substitute(heading=heading),\"].unique():\\n\",data[heading].unique(),sep=\"\")\n",
        "  print(\"\")\n",
        "\n",
        "  # pre variable(s):\n",
        "  outer_key=heading\n",
        "  # assemble dictionary within dictionary (depth of 2 at least):\n",
        "  Template(\"$outer_key\").substitute(outer_key=outer_key)\n",
        "  # heading1 : value_is_inner_dictionary\n",
        "  # inner_dictionary is:\n",
        "  # key : value\n",
        "  \n",
        "  # if head_n==1:\n",
        "  #   break"
      ]
    },
    {
      "attachments": {},
      "cell_type": "markdown",
      "metadata": {},
      "source": [
        "TODO:\n",
        "get duplicated values list for each column\n",
        "=)\n",
        "if duplicated = True \n",
        "- for each value\n",
        "- in a column\n",
        "- for first value only\n",
        "update dict / append to list\n",
        "of duplicates\n",
        "duplicates = []\n",
        "or\n",
        "duplicates={key_is_entry_which_is_duplicated:value_is_incrementing_count_of_duplicated_entry}\n",
        "CURRENT\n",
        "Replicate first key :value .update()"
      ]
    },
    {
      "cell_type": "code",
      "execution_count": 3,
      "metadata": {},
      "outputs": [
        {
          "name": "stdout",
          "output_type": "stream",
          "text": [
            "{'a': '0', 'b': '1', 'normalized_new_price': 'False\\nFalse\\nFalse\\nFalse\\nFalse\\nFalse\\nFalse\\nFalse\\nFalse\\nFalse\\nFalse\\nFalse\\nFalse\\nFalse\\nFalse\\nFalse\\nFalse\\nFalse\\nFalse\\nFalse\\nFalse\\nFalse\\nFalse\\nFalse\\nFalse\\nFalse\\nFalse\\nFalse\\nFalse\\nFalse\\nFalse\\nFalse\\nFalse\\nFalse\\nFalse\\nFalse\\nFalse\\nFalse\\nFalse\\nFalse\\nFalse\\nFalse\\nFalse\\nFalse\\nFalse\\nFalse\\nFalse\\nFalse\\nFalse\\nFalse\\nFalse\\nFalse\\nFalse\\nFalse\\nFalse\\nFalse\\nFalse\\nFalse\\nFalse\\nFalse\\nFalse\\nFalse\\nFalse\\nFalse\\nFalse\\nFalse\\nFalse\\nFalse\\nFalse\\nFalse\\nFalse\\nFalse\\nFalse\\nFalse\\nFalse\\nFalse\\nFalse\\nFalse\\nFalse\\nFalse\\nFalse\\nFalse\\nFalse\\nFalse\\nFalse\\nFalse\\nFalse\\nFalse\\nFalse\\nFalse\\nFalse\\nFalse\\nFalse\\nFalse\\nFalse\\nFalse\\nFalse\\nFalse\\nFalse\\nFalse\\nFalse\\nFalse\\nFalse\\nFalse\\nFalse\\nFalse\\nFalse\\nFalse\\nFalse\\nFalse\\nFalse\\nFalse\\nFalse\\nFalse\\nFalse\\nFalse\\nFalse\\nFalse\\nFalse\\nFalse\\nFalse\\nFalse\\nFalse\\nFalse\\nFalse\\nFalse\\nFalse\\nFalse\\nFalse\\nFalse\\nFalse\\nFalse\\n True\\nFalse\\nFalse\\nFalse\\nFalse\\nFalse\\nFalse\\nFalse\\nFalse\\nFalse\\nFalse\\nFalse\\nFalse\\nFalse\\nFalse\\nFalse\\nFalse\\nFalse\\nFalse\\nFalse\\nFalse\\nFalse\\nFalse\\nFalse\\nFalse\\nFalse\\nFalse\\nFalse\\nFalse\\nFalse\\nFalse\\nFalse\\nFalse\\nFalse\\nFalse\\nFalse\\nFalse\\nFalse\\nFalse\\nFalse\\nFalse\\nFalse\\nFalse\\nFalse\\nFalse\\nFalse\\nFalse\\nFalse\\nFalse\\nFalse\\nFalse\\nFalse\\nFalse\\nFalse\\nFalse\\nFalse\\nFalse\\nFalse\\nFalse\\nFalse\\nFalse\\nFalse\\nFalse\\nFalse\\nFalse\\nFalse\\nFalse\\nFalse\\n True\\nFalse\\nFalse\\nFalse\\nFalse\\nFalse\\nFalse\\nFalse\\nFalse\\nFalse\\nFalse\\nFalse\\nFalse\\nFalse\\nFalse\\nFalse\\nFalse\\nFalse\\nFalse\\nFalse\\nFalse\\nFalse\\nFalse\\nFalse\\nFalse\\nFalse\\nFalse\\nFalse\\nFalse\\nFalse\\nFalse\\nFalse\\nFalse\\nFalse\\nFalse\\nFalse\\nFalse\\nFalse\\nFalse\\nFalse\\nFalse\\nFalse\\nFalse\\nFalse\\nFalse\\nFalse\\nFalse\\nFalse\\nFalse\\nFalse\\nFalse\\nFalse\\nFalse\\nFalse\\nFalse\\nFalse\\nFalse\\nFalse\\nFalse\\nFalse\\nFalse\\nFalse\\nFalse\\nFalse\\nFalse\\nFalse\\nFalse\\nFalse\\nFalse\\nFalse\\n True\\nFalse\\nFalse\\nFalse\\nFalse\\nFalse\\nFalse\\nFalse\\nFalse\\nFalse\\nFalse\\nFalse\\nFalse\\nFalse\\nFalse\\nFalse\\nFalse\\n True\\nFalse\\nFalse\\nFalse\\nFalse\\nFalse\\nFalse\\nFalse\\nFalse\\nFalse\\nFalse\\nFalse\\nFalse\\nFalse\\nFalse\\nFalse\\nFalse\\nFalse\\nFalse\\nFalse\\nFalse\\nFalse\\nFalse\\nFalse\\nFalse\\nFalse\\nFalse\\nFalse\\nFalse\\nFalse\\nFalse\\nFalse\\nFalse\\nFalse\\nFalse\\nFalse\\nFalse\\nFalse\\nFalse\\nFalse\\nFalse\\nFalse\\nFalse\\nFalse\\nFalse\\nFalse\\nFalse\\nFalse\\nFalse\\nFalse\\nFalse\\nFalse\\nFalse\\nFalse\\nFalse\\nFalse\\nFalse\\nFalse\\nFalse\\nFalse\\nFalse\\nFalse\\nFalse\\nFalse\\nFalse\\nFalse\\nFalse\\nFalse\\nFalse\\nFalse\\n True\\nFalse\\nFalse\\nFalse\\nFalse\\nFalse\\nFalse\\nFalse\\nFalse\\nFalse\\nFalse\\nFalse\\nFalse\\nFalse\\nFalse\\nFalse\\nFalse\\nFalse\\nFalse\\nFalse\\nFalse\\nFalse\\nFalse\\nFalse\\nFalse\\nFalse\\nFalse\\nFalse\\n True\\nFalse\\nFalse\\nFalse\\nFalse\\nFalse\\nFalse\\nFalse\\nFalse\\nFalse\\nFalse\\nFalse\\nFalse\\nFalse\\nFalse\\nFalse\\nFalse\\nFalse\\nFalse\\nFalse\\nFalse\\nFalse\\nFalse\\nFalse\\nFalse\\nFalse\\nFalse\\nFalse\\nFalse\\nFalse\\nFalse\\nFalse\\nFalse\\nFalse\\nFalse\\nFalse\\nFalse\\nFalse\\nFalse\\nFalse\\nFalse\\nFalse\\nFalse\\nFalse\\nFalse\\nFalse\\nFalse\\nFalse\\nFalse\\nFalse\\nFalse\\nFalse\\n True\\nFalse\\nFalse\\nFalse\\nFalse\\nFalse\\nFalse\\nFalse\\nFalse\\nFalse\\nFalse\\nFalse\\nFalse\\nFalse\\nFalse\\nFalse\\nFalse\\nFalse\\nFalse\\nFalse\\nFalse\\nFalse\\nFalse\\nFalse\\n True\\nFalse\\nFalse\\nFalse\\nFalse\\nFalse\\nFalse\\nFalse\\nFalse\\nFalse\\nFalse\\nFalse\\nFalse\\nFalse\\nFalse\\nFalse\\nFalse\\nFalse\\nFalse\\nFalse\\nFalse\\nFalse\\nFalse\\n True\\nFalse\\nFalse\\nFalse\\n True\\nFalse\\nFalse\\nFalse\\nFalse\\nFalse\\nFalse\\nFalse\\nFalse\\nFalse\\nFalse\\nFalse\\nFalse\\nFalse\\nFalse\\n True\\nFalse\\nFalse\\nFalse\\nFalse\\nFalse\\nFalse\\nFalse\\nFalse\\nFalse\\nFalse\\nFalse\\nFalse\\nFalse\\n True\\nFalse\\nFalse\\nFalse\\nFalse\\nFalse\\nFalse\\nFalse\\nFalse\\nFalse\\nFalse\\nFalse\\nFalse\\nFalse\\nFalse\\nFalse\\nFalse\\nFalse\\nFalse\\nFalse\\nFalse\\nFalse\\nFalse\\nFalse\\nFalse\\nFalse\\nFalse\\nFalse\\nFalse\\nFalse\\nFalse\\nFalse\\nFalse\\nFalse\\nFalse\\nFalse\\nFalse\\nFalse\\nFalse\\nFalse\\nFalse\\nFalse\\nFalse\\nFalse\\nFalse\\nFalse\\nFalse\\nFalse\\nFalse\\nFalse\\nFalse\\nFalse\\nFalse\\nFalse\\nFalse\\nFalse\\nFalse\\nFalse\\nFalse\\nFalse\\nFalse\\nFalse\\n True\\nFalse\\nFalse\\nFalse\\nFalse\\nFalse\\nFalse\\nFalse\\nFalse\\nFalse\\nFalse\\nFalse\\nFalse\\nFalse\\nFalse\\nFalse\\nFalse\\nFalse\\nFalse\\nFalse\\nFalse\\nFalse\\nFalse\\nFalse\\nFalse\\nFalse\\nFalse\\nFalse\\nFalse\\nFalse\\nFalse\\nFalse\\n True\\nFalse\\nFalse\\nFalse\\nFalse\\nFalse\\n True\\nFalse\\nFalse\\nFalse\\n True\\nFalse\\nFalse\\nFalse\\nFalse\\nFalse\\nFalse\\nFalse\\nFalse\\nFalse\\nFalse\\nFalse\\nFalse\\nFalse\\nFalse\\nFalse\\n True\\nFalse\\nFalse\\nFalse\\nFalse\\nFalse\\nFalse\\nFalse\\nFalse\\nFalse\\nFalse\\nFalse\\nFalse\\nFalse\\nFalse\\nFalse\\nFalse\\nFalse\\nFalse\\nFalse\\nFalse\\nFalse\\nFalse\\nFalse\\nFalse\\nFalse\\nFalse\\nFalse\\nFalse\\nFalse\\nFalse\\nFalse\\nFalse\\nFalse\\nFalse\\nFalse\\nFalse\\nFalse\\n True\\nFalse\\nFalse\\n True\\nFalse\\nFalse\\nFalse\\nFalse\\nFalse\\nFalse\\n True\\nFalse\\nFalse\\nFalse\\nFalse\\nFalse\\nFalse\\nFalse\\nFalse\\nFalse\\nFalse\\nFalse\\nFalse\\nFalse\\nFalse\\nFalse\\nFalse\\nFalse\\nFalse\\nFalse\\nFalse\\n True\\nFalse\\nFalse\\nFalse\\nFalse\\nFalse\\nFalse\\n True\\nFalse\\nFalse\\nFalse\\nFalse\\nFalse\\nFalse\\nFalse\\nFalse\\nFalse\\nFalse\\nFalse\\nFalse\\nFalse\\nFalse\\nFalse\\nFalse\\nFalse\\nFalse\\nFalse\\nFalse\\nFalse\\nFalse\\nFalse\\nFalse\\n True\\nFalse\\nFalse\\nFalse\\nFalse\\nFalse\\nFalse\\n True\\n True\\nFalse\\nFalse\\nFalse\\nFalse\\nFalse\\nFalse\\nFalse\\nFalse\\nFalse\\nFalse\\nFalse\\nFalse\\nFalse\\nFalse\\nFalse\\nFalse\\nFalse\\nFalse\\nFalse\\nFalse\\nFalse\\n True\\nFalse\\nFalse\\nFalse\\nFalse\\nFalse\\nFalse\\nFalse\\nFalse\\nFalse\\nFalse\\nFalse\\nFalse\\nFalse\\nFalse\\nFalse\\nFalse\\nFalse\\nFalse\\n True\\nFalse\\n True\\nFalse\\nFalse\\nFalse\\nFalse\\nFalse\\nFalse\\nFalse\\nFalse\\nFalse\\nFalse\\nFalse\\nFalse\\nFalse\\nFalse\\nFalse\\nFalse\\nFalse\\nFalse\\nFalse\\nFalse\\nFalse\\nFalse\\nFalse\\nFalse\\nFalse\\n True\\n True\\nFalse\\nFalse\\nFalse\\nFalse\\nFalse\\nFalse\\n True\\nFalse\\nFalse\\nFalse\\nFalse\\nFalse\\nFalse\\nFalse\\nFalse\\nFalse\\nFalse\\nFalse\\n True\\nFalse\\nFalse\\nFalse\\nFalse\\nFalse\\nFalse\\nFalse\\nFalse\\nFalse\\nFalse\\nFalse\\nFalse\\nFalse\\nFalse\\nFalse\\nFalse\\n True\\nFalse\\nFalse\\nFalse\\nFalse\\nFalse\\nFalse\\nFalse\\nFalse\\nFalse\\nFalse\\nFalse\\nFalse\\nFalse\\nFalse\\nFalse\\nFalse\\nFalse\\nFalse\\nFalse\\nFalse\\nFalse\\nFalse\\nFalse\\nFalse\\nFalse\\nFalse\\nFalse\\nFalse\\nFalse\\nFalse\\n True\\nFalse\\nFalse\\n True\\nFalse\\nFalse\\nFalse\\nFalse\\n True\\nFalse\\nFalse\\nFalse\\nFalse\\nFalse\\nFalse\\nFalse\\nFalse\\nFalse\\nFalse\\nFalse\\nFalse\\nFalse\\nFalse\\nFalse\\nFalse\\nFalse\\nFalse\\nFalse\\nFalse\\nFalse\\nFalse\\nFalse\\nFalse\\nFalse\\nFalse\\nFalse\\nFalse\\nFalse\\nFalse\\nFalse\\nFalse\\nFalse\\n True\\nFalse\\nFalse\\nFalse\\nFalse\\nFalse\\nFalse\\nFalse\\nFalse\\nFalse\\nFalse\\nFalse\\nFalse\\nFalse\\nFalse\\nFalse\\nFalse\\nFalse\\nFalse\\nFalse\\nFalse\\nFalse\\nFalse\\nFalse\\n True\\nFalse\\nFalse\\nFalse\\nFalse\\nFalse\\nFalse\\nFalse\\nFalse\\nFalse\\nFalse\\nFalse\\nFalse\\nFalse\\nFalse\\nFalse\\nFalse\\nFalse\\nFalse\\nFalse\\nFalse\\nFalse\\nFalse\\nFalse\\nFalse\\nFalse\\nFalse\\nFalse\\nFalse\\nFalse\\nFalse\\nFalse\\nFalse\\nFalse\\nFalse\\nFalse\\n True\\nFalse\\nFalse\\nFalse\\nFalse\\nFalse\\nFalse\\nFalse\\nFalse\\nFalse\\nFalse\\nFalse\\nFalse\\nFalse\\nFalse\\nFalse\\nFalse\\nFalse\\nFalse\\nFalse\\n True\\nFalse\\nFalse\\nFalse\\nFalse\\nFalse\\nFalse\\nFalse\\nFalse\\nFalse\\nFalse\\nFalse\\nFalse\\nFalse\\nFalse\\nFalse\\nFalse\\nFalse\\nFalse\\nFalse\\nFalse\\nFalse\\nFalse\\nFalse\\nFalse\\nFalse\\nFalse\\nFalse\\nFalse\\nFalse\\nFalse\\nFalse\\nFalse\\nFalse\\nFalse\\nFalse\\nFalse\\nFalse\\nFalse\\nFalse\\nFalse\\nFalse\\nFalse\\nFalse\\nFalse\\nFalse\\nFalse\\nFalse\\nFalse\\nFalse\\nFalse\\nFalse\\nFalse\\nFalse\\nFalse\\n True\\nFalse\\nFalse\\nFalse\\nFalse\\nFalse\\nFalse\\nFalse\\nFalse\\nFalse\\nFalse\\nFalse\\nFalse\\nFalse\\nFalse\\nFalse\\nFalse\\nFalse\\nFalse\\n True\\nFalse\\nFalse\\nFalse\\nFalse\\nFalse\\nFalse\\nFalse\\nFalse\\nFalse\\nFalse\\nFalse\\nFalse\\nFalse\\nFalse\\nFalse\\n True\\nFalse\\nFalse\\nFalse\\nFalse\\nFalse\\nFalse\\nFalse\\nFalse\\nFalse\\nFalse\\nFalse\\nFalse\\nFalse\\nFalse\\nFalse\\nFalse\\n True\\nFalse\\nFalse\\nFalse\\nFalse\\n True\\nFalse\\nFalse\\nFalse\\nFalse\\nFalse\\nFalse\\nFalse\\nFalse\\nFalse\\n True\\nFalse\\nFalse\\nFalse\\nFalse\\nFalse\\nFalse\\nFalse\\nFalse\\nFalse\\nFalse\\n True\\nFalse\\nFalse\\nFalse\\nFalse\\nFalse\\nFalse\\nFalse\\nFalse\\nFalse\\nFalse\\nFalse\\nFalse\\nFalse\\nFalse\\nFalse\\nFalse\\nFalse\\nFalse\\nFalse\\nFalse\\nFalse\\nFalse\\nFalse\\nFalse\\nFalse\\nFalse\\nFalse\\nFalse\\nFalse\\nFalse\\nFalse\\n True\\nFalse\\nFalse\\nFalse\\nFalse\\nFalse\\nFalse\\nFalse\\nFalse\\nFalse\\nFalse\\nFalse\\nFalse\\nFalse\\nFalse\\nFalse\\nFalse\\nFalse\\n True\\nFalse\\nFalse\\nFalse\\nFalse\\nFalse\\nFalse\\nFalse\\nFalse\\nFalse\\nFalse\\nFalse\\nFalse\\nFalse\\nFalse\\nFalse\\nFalse\\nFalse\\nFalse\\nFalse\\nFalse\\nFalse\\nFalse\\nFalse\\nFalse\\nFalse\\nFalse\\nFalse\\n True\\nFalse\\nFalse\\nFalse\\nFalse\\nFalse\\nFalse\\nFalse\\nFalse\\nFalse\\nFalse\\n True\\nFalse\\nFalse\\nFalse\\nFalse\\nFalse\\nFalse\\nFalse\\n True\\nFalse\\nFalse\\nFalse\\nFalse\\nFalse\\nFalse\\nFalse\\nFalse\\nFalse\\nFalse\\nFalse\\nFalse\\nFalse\\nFalse\\nFalse\\nFalse\\nFalse\\nFalse\\nFalse\\nFalse\\nFalse\\nFalse\\nFalse\\nFalse\\nFalse\\nFalse\\nFalse\\nFalse\\nFalse\\nFalse\\nFalse\\n True\\n True\\nFalse\\nFalse\\nFalse\\nFalse\\nFalse\\nFalse\\nFalse\\n True\\n True\\nFalse\\n True\\nFalse\\nFalse\\nFalse\\nFalse\\nFalse\\nFalse\\nFalse\\nFalse\\nFalse\\nFalse\\nFalse\\nFalse\\nFalse\\n True\\nFalse\\nFalse\\nFalse\\nFalse\\n True\\nFalse\\nFalse\\nFalse\\nFalse\\nFalse\\nFalse\\nFalse\\nFalse\\nFalse\\n True\\nFalse\\nFalse\\nFalse\\nFalse\\n True\\nFalse\\nFalse\\nFalse\\nFalse\\nFalse\\nFalse\\nFalse\\nFalse\\nFalse\\nFalse\\nFalse\\nFalse\\nFalse\\nFalse\\nFalse\\nFalse\\nFalse\\nFalse\\n True\\n True\\n True\\nFalse\\nFalse\\nFalse\\nFalse\\nFalse\\nFalse\\nFalse\\nFalse\\nFalse\\nFalse\\nFalse\\nFalse\\nFalse\\nFalse\\nFalse\\nFalse\\nFalse\\nFalse\\nFalse\\nFalse\\n True\\nFalse\\nFalse\\nFalse\\nFalse\\nFalse\\nFalse\\nFalse\\nFalse\\nFalse\\nFalse\\nFalse\\nFalse\\nFalse\\nFalse\\nFalse\\nFalse\\nFalse\\n True\\n True\\nFalse\\nFalse\\nFalse\\nFalse\\nFalse\\nFalse\\nFalse\\nFalse\\n True\\n True\\nFalse\\nFalse\\nFalse\\nFalse\\nFalse\\nFalse\\nFalse\\nFalse\\nFalse\\nFalse\\nFalse\\nFalse\\nFalse\\nFalse\\nFalse\\nFalse\\n True\\nFalse\\nFalse\\nFalse\\nFalse\\nFalse\\nFalse\\nFalse\\nFalse\\nFalse\\nFalse\\n True\\nFalse\\nFalse\\nFalse\\n True\\nFalse\\nFalse\\nFalse\\nFalse\\nFalse\\nFalse\\nFalse\\nFalse\\nFalse\\nFalse\\nFalse\\nFalse\\n True\\nFalse\\nFalse\\nFalse\\nFalse\\nFalse\\nFalse\\nFalse\\nFalse\\nFalse\\nFalse\\nFalse\\n True\\nFalse\\n True\\nFalse\\nFalse\\nFalse\\nFalse\\n True\\nFalse\\nFalse\\nFalse\\n True\\nFalse\\nFalse\\nFalse\\nFalse\\nFalse\\nFalse\\nFalse\\nFalse\\nFalse\\nFalse\\n True\\n True\\nFalse\\nFalse\\nFalse\\n True\\nFalse\\n True\\n True\\nFalse\\nFalse\\nFalse\\nFalse\\nFalse\\nFalse\\nFalse\\nFalse\\nFalse\\nFalse\\nFalse\\nFalse\\nFalse\\nFalse\\nFalse\\n True\\n True\\nFalse\\nFalse\\nFalse\\nFalse\\n True\\nFalse\\nFalse\\nFalse\\nFalse\\nFalse\\nFalse\\nFalse\\nFalse\\nFalse\\nFalse\\nFalse\\nFalse\\nFalse\\nFalse\\nFalse\\nFalse\\n True\\nFalse\\n True\\nFalse\\nFalse\\nFalse\\nFalse\\nFalse\\nFalse\\nFalse\\nFalse\\nFalse\\nFalse\\nFalse\\nFalse\\nFalse\\n True\\n True\\nFalse\\nFalse\\nFalse\\nFalse\\nFalse\\n True\\nFalse\\nFalse\\nFalse\\nFalse\\nFalse\\nFalse\\nFalse\\nFalse\\nFalse\\nFalse\\nFalse\\n True\\nFalse\\n True\\n True\\nFalse\\nFalse\\nFalse\\nFalse\\nFalse\\nFalse\\nFalse\\nFalse\\n True\\nFalse\\nFalse\\n True\\nFalse\\nFalse\\n True\\nFalse\\nFalse\\nFalse\\nFalse\\nFalse\\nFalse\\nFalse\\nFalse\\nFalse\\nFalse\\nFalse\\nFalse\\nFalse\\n True\\nFalse\\nFalse\\nFalse\\nFalse\\nFalse\\nFalse\\nFalse\\nFalse\\nFalse\\nFalse\\nFalse\\nFalse\\nFalse\\nFalse\\nFalse\\n True\\n True\\nFalse\\nFalse\\n True\\nFalse\\nFalse\\nFalse\\nFalse\\nFalse\\nFalse\\n True\\nFalse\\nFalse\\nFalse\\nFalse\\nFalse\\nFalse\\nFalse\\nFalse\\nFalse\\nFalse\\nFalse\\nFalse\\nFalse\\n True\\nFalse\\nFalse\\nFalse\\nFalse\\nFalse\\nFalse\\nFalse\\nFalse\\nFalse\\nFalse\\n True\\nFalse\\nFalse\\nFalse\\nFalse\\nFalse\\nFalse\\nFalse\\nFalse\\nFalse\\nFalse\\nFalse\\nFalse\\nFalse\\n True\\nFalse\\nFalse\\nFalse\\nFalse\\nFalse\\nFalse\\nFalse\\nFalse\\nFalse\\nFalse\\nFalse\\nFalse\\nFalse\\nFalse\\n True\\nFalse\\nFalse\\nFalse\\nFalse\\nFalse\\nFalse\\nFalse\\nFalse\\nFalse\\nFalse\\nFalse\\n True\\nFalse\\nFalse\\nFalse\\nFalse\\nFalse\\nFalse\\nFalse\\nFalse\\n True\\nFalse\\nFalse\\nFalse\\nFalse\\nFalse\\nFalse\\nFalse\\nFalse\\nFalse\\nFalse\\nFalse\\nFalse\\nFalse\\nFalse\\n True\\nFalse\\nFalse\\nFalse\\nFalse\\nFalse\\nFalse\\nFalse\\nFalse\\nFalse\\nFalse\\nFalse\\n True\\nFalse\\nFalse\\nFalse\\nFalse\\nFalse\\nFalse\\nFalse\\nFalse\\nFalse\\nFalse\\nFalse\\nFalse\\nFalse\\nFalse\\nFalse\\nFalse\\nFalse\\nFalse\\nFalse\\nFalse\\nFalse\\nFalse\\nFalse\\nFalse\\nFalse\\nFalse\\nFalse\\nFalse\\nFalse\\nFalse\\nFalse\\n True\\n True\\nFalse\\nFalse\\nFalse\\nFalse\\nFalse\\nFalse\\nFalse\\nFalse\\nFalse\\nFalse\\nFalse\\n True\\nFalse\\nFalse\\nFalse\\nFalse\\nFalse\\nFalse\\nFalse\\n True\\nFalse\\nFalse\\nFalse\\nFalse\\nFalse\\n True\\nFalse\\nFalse\\nFalse\\nFalse\\nFalse\\nFalse\\nFalse\\nFalse\\nFalse\\nFalse\\nFalse\\nFalse\\n True\\n True\\n True\\nFalse\\nFalse\\nFalse\\nFalse\\nFalse\\n True\\nFalse\\nFalse\\n True\\nFalse\\nFalse\\nFalse\\nFalse\\nFalse\\nFalse\\nFalse\\nFalse\\nFalse\\nFalse\\nFalse\\nFalse\\nFalse\\nFalse\\nFalse\\nFalse\\n True\\nFalse\\nFalse\\n True\\nFalse\\nFalse\\nFalse\\nFalse\\nFalse\\nFalse\\nFalse\\nFalse\\nFalse\\nFalse\\nFalse\\n True\\nFalse\\nFalse\\nFalse\\nFalse\\nFalse\\nFalse\\n True\\nFalse\\n True\\nFalse\\nFalse\\nFalse\\nFalse\\nFalse\\nFalse\\nFalse\\nFalse\\nFalse\\nFalse\\nFalse\\nFalse\\n True\\nFalse\\nFalse\\nFalse\\nFalse\\nFalse\\n True\\nFalse\\nFalse\\nFalse\\nFalse\\nFalse\\nFalse\\nFalse\\nFalse\\nFalse\\nFalse\\nFalse\\nFalse\\nFalse\\nFalse\\nFalse\\nFalse\\nFalse\\nFalse\\nFalse\\nFalse\\nFalse\\nFalse\\n True\\nFalse\\nFalse\\nFalse\\nFalse\\nFalse\\nFalse\\nFalse\\nFalse\\nFalse\\nFalse\\nFalse\\nFalse\\nFalse\\nFalse\\nFalse\\n True\\nFalse\\nFalse\\n True\\nFalse\\nFalse\\nFalse\\nFalse\\nFalse\\nFalse\\nFalse\\nFalse\\nFalse\\nFalse\\nFalse\\nFalse\\nFalse\\nFalse\\nFalse\\n True\\nFalse\\n True\\nFalse\\n True\\nFalse\\n True\\nFalse\\n True\\nFalse\\n True\\nFalse\\nFalse\\nFalse\\nFalse\\nFalse\\nFalse\\nFalse\\nFalse\\nFalse\\nFalse\\nFalse\\nFalse\\nFalse\\n True\\nFalse\\nFalse\\n True\\nFalse\\nFalse\\nFalse\\n True\\nFalse\\nFalse\\nFalse\\nFalse\\nFalse\\nFalse\\n True\\nFalse\\nFalse\\n True\\nFalse\\n True\\nFalse\\nFalse\\nFalse\\nFalse\\nFalse\\nFalse\\nFalse\\nFalse\\n True\\n True\\nFalse\\nFalse\\nFalse\\n True\\nFalse\\nFalse\\nFalse\\nFalse\\nFalse\\nFalse\\nFalse\\nFalse\\n True\\nFalse\\nFalse\\nFalse\\nFalse\\nFalse\\nFalse\\nFalse\\n True\\nFalse\\nFalse\\nFalse\\nFalse\\nFalse\\nFalse\\nFalse\\nFalse\\n True\\nFalse\\nFalse\\nFalse\\nFalse\\nFalse\\nFalse\\nFalse\\nFalse\\nFalse\\nFalse\\nFalse\\nFalse\\nFalse\\nFalse\\nFalse\\nFalse\\nFalse\\nFalse\\n True\\nFalse\\n True\\nFalse\\nFalse\\n True\\nFalse\\nFalse\\nFalse\\nFalse\\n True\\nFalse\\nFalse\\n True\\nFalse\\nFalse\\nFalse\\nFalse\\nFalse\\nFalse\\nFalse\\nFalse\\nFalse\\nFalse\\nFalse\\nFalse\\nFalse\\nFalse\\nFalse\\nFalse\\n True\\nFalse\\nFalse\\nFalse\\n True\\nFalse\\nFalse\\nFalse\\nFalse\\nFalse\\n True\\nFalse\\nFalse\\n True\\nFalse\\n True\\nFalse\\nFalse\\nFalse\\nFalse\\nFalse\\nFalse\\nFalse\\nFalse\\nFalse\\nFalse\\nFalse\\n True\\nFalse\\n True\\nFalse\\nFalse\\n True\\nFalse\\nFalse\\nFalse\\nFalse\\nFalse\\nFalse\\nFalse\\nFalse\\nFalse\\n True\\nFalse\\nFalse\\nFalse\\nFalse\\nFalse\\nFalse\\nFalse\\nFalse\\nFalse\\nFalse\\nFalse\\nFalse\\nFalse\\nFalse\\nFalse\\nFalse\\nFalse\\nFalse\\nFalse\\nFalse\\nFalse\\nFalse\\nFalse\\nFalse\\n True\\nFalse\\nFalse\\nFalse\\n True\\nFalse\\nFalse\\nFalse\\nFalse\\nFalse\\nFalse\\nFalse\\nFalse\\nFalse\\nFalse\\nFalse\\nFalse\\n True\\nFalse\\nFalse\\nFalse\\nFalse\\nFalse\\nFalse\\nFalse\\nFalse\\nFalse\\nFalse\\nFalse\\nFalse\\nFalse\\nFalse\\nFalse\\nFalse\\nFalse\\nFalse\\nFalse\\nFalse\\n True\\nFalse\\nFalse\\nFalse\\nFalse\\nFalse\\nFalse\\nFalse\\nFalse\\nFalse\\nFalse\\nFalse\\nFalse\\nFalse\\nFalse\\nFalse\\nFalse\\nFalse\\nFalse\\nFalse\\nFalse\\nFalse\\n True\\nFalse\\nFalse\\nFalse\\nFalse\\nFalse\\n True\\n True\\nFalse\\nFalse\\nFalse\\nFalse\\nFalse\\nFalse\\n True\\nFalse\\nFalse\\nFalse\\nFalse\\n True\\nFalse\\nFalse\\nFalse\\nFalse\\nFalse\\nFalse\\nFalse\\nFalse\\nFalse\\nFalse\\nFalse\\nFalse\\nFalse\\nFalse\\nFalse\\nFalse\\nFalse\\nFalse\\nFalse\\n True\\nFalse\\nFalse\\nFalse\\n True\\n True\\nFalse\\nFalse\\n True\\nFalse\\nFalse\\nFalse\\nFalse\\nFalse\\n True\\nFalse\\n True\\nFalse\\nFalse\\n True\\nFalse\\nFalse\\nFalse\\nFalse\\nFalse\\nFalse\\nFalse\\nFalse\\nFalse\\n True\\nFalse\\nFalse\\nFalse\\nFalse\\nFalse\\nFalse\\nFalse\\nFalse\\nFalse\\nFalse\\nFalse\\nFalse\\nFalse\\nFalse\\nFalse\\nFalse\\nFalse\\nFalse\\nFalse\\nFalse\\nFalse\\nFalse\\nFalse\\nFalse\\nFalse\\nFalse\\n True\\nFalse\\nFalse\\n True\\nFalse\\n True\\n True\\nFalse\\nFalse\\nFalse\\n True\\nFalse\\nFalse\\nFalse\\nFalse\\nFalse\\nFalse\\nFalse\\nFalse\\nFalse\\nFalse\\n True\\nFalse\\nFalse\\nFalse\\nFalse\\nFalse\\nFalse\\nFalse\\nFalse\\n True\\n True\\nFalse\\nFalse\\nFalse\\nFalse\\nFalse\\nFalse\\nFalse\\nFalse\\n True\\nFalse\\n True\\nFalse\\n True\\nFalse\\nFalse\\n True\\nFalse\\nFalse\\nFalse\\nFalse\\n True\\nFalse\\n True\\nFalse\\nFalse\\nFalse\\nFalse\\nFalse\\nFalse\\n True\\nFalse\\nFalse\\nFalse\\nFalse\\nFalse\\nFalse\\nFalse\\nFalse\\nFalse\\nFalse\\nFalse\\nFalse\\nFalse\\nFalse\\nFalse\\nFalse\\nFalse\\nFalse\\nFalse\\nFalse\\nFalse\\nFalse\\nFalse\\nFalse\\nFalse\\nFalse\\nFalse\\nFalse\\nFalse\\nFalse\\nFalse\\nFalse\\nFalse\\nFalse\\nFalse\\nFalse\\nFalse\\nFalse\\nFalse\\nFalse\\n True\\nFalse\\nFalse\\nFalse\\nFalse\\nFalse\\nFalse\\n True\\nFalse\\n True\\nFalse\\nFalse\\nFalse\\nFalse\\nFalse\\nFalse\\nFalse\\nFalse\\nFalse\\n True\\nFalse\\nFalse\\n True\\nFalse\\n True\\nFalse\\nFalse\\nFalse\\nFalse\\n True\\n True\\n True\\nFalse\\nFalse\\nFalse\\nFalse\\nFalse\\nFalse\\nFalse\\n True\\nFalse\\n True\\nFalse\\nFalse\\nFalse\\n True\\nFalse\\nFalse\\nFalse\\nFalse\\n True\\n True\\nFalse\\nFalse\\nFalse\\nFalse\\n True\\nFalse\\nFalse\\n True\\nFalse\\nFalse\\nFalse\\nFalse\\nFalse\\nFalse\\nFalse\\nFalse\\nFalse\\nFalse\\nFalse\\nFalse\\nFalse\\nFalse\\n True\\n True\\nFalse\\nFalse\\n True\\n True\\nFalse\\nFalse\\nFalse\\n True\\nFalse\\nFalse\\nFalse\\nFalse\\nFalse\\nFalse\\n True\\nFalse\\nFalse\\nFalse\\nFalse\\n True\\nFalse\\nFalse\\nFalse\\nFalse\\nFalse\\n True\\n True\\nFalse\\nFalse\\nFalse\\nFalse\\nFalse\\nFalse\\nFalse\\nFalse\\nFalse\\nFalse\\nFalse\\nFalse\\n True\\nFalse\\nFalse\\nFalse\\nFalse\\n True\\nFalse\\nFalse\\nFalse\\nFalse\\nFalse\\nFalse\\nFalse\\n True\\nFalse\\nFalse\\nFalse\\nFalse\\nFalse\\nFalse\\nFalse\\nFalse\\n True\\nFalse\\nFalse\\nFalse\\nFalse\\nFalse\\nFalse\\nFalse\\nFalse\\n True\\n True\\nFalse\\n True\\nFalse\\nFalse\\nFalse\\n True\\nFalse\\n True\\nFalse\\n True\\nFalse\\nFalse\\nFalse\\nFalse\\nFalse\\nFalse\\nFalse\\nFalse\\nFalse\\n True\\nFalse\\nFalse\\nFalse\\n True\\nFalse\\nFalse\\nFalse\\nFalse\\nFalse\\nFalse\\nFalse\\n True\\nFalse\\nFalse\\nFalse\\nFalse\\nFalse\\nFalse\\nFalse\\nFalse\\nFalse\\nFalse\\nFalse\\nFalse\\n True\\nFalse\\n True\\nFalse\\nFalse\\n True\\nFalse\\nFalse\\nFalse\\n True\\nFalse\\n True\\nFalse\\nFalse\\nFalse\\nFalse\\n True\\nFalse\\nFalse\\n True\\n True\\nFalse\\nFalse\\nFalse\\nFalse\\nFalse\\nFalse\\nFalse\\nFalse\\nFalse\\nFalse\\nFalse\\nFalse\\nFalse\\nFalse\\nFalse\\nFalse\\n True\\nFalse\\nFalse\\nFalse\\n True\\nFalse\\nFalse\\n True\\nFalse\\nFalse\\nFalse\\nFalse\\n True\\nFalse\\nFalse\\nFalse\\nFalse\\nFalse\\nFalse\\nFalse\\nFalse\\nFalse\\nFalse\\nFalse\\nFalse\\nFalse\\nFalse\\n True\\nFalse\\nFalse\\n True\\nFalse\\nFalse\\nFalse\\nFalse\\nFalse\\nFalse\\nFalse\\nFalse\\nFalse\\nFalse\\nFalse\\nFalse\\nFalse\\nFalse\\nFalse\\nFalse\\n True\\nFalse\\nFalse\\nFalse\\nFalse\\n True\\n True\\nFalse\\nFalse\\nFalse\\n True\\nFalse\\nFalse\\nFalse\\nFalse\\nFalse\\nFalse\\nFalse\\nFalse\\n True\\n True\\nFalse\\nFalse\\nFalse\\nFalse\\nFalse\\nFalse\\nFalse\\nFalse\\nFalse\\nFalse\\nFalse\\nFalse\\nFalse\\nFalse\\n True\\nFalse\\nFalse\\nFalse\\nFalse\\nFalse\\nFalse\\nFalse\\nFalse\\nFalse\\nFalse\\nFalse\\nFalse\\nFalse\\nFalse\\n True\\nFalse\\nFalse\\nFalse\\n True\\n True\\nFalse\\n True\\nFalse\\nFalse\\n True\\nFalse\\nFalse\\nFalse\\nFalse\\n True\\nFalse\\n True\\nFalse\\nFalse\\nFalse\\nFalse\\nFalse\\n True\\nFalse\\nFalse\\n True\\nFalse\\nFalse\\nFalse\\nFalse\\nFalse\\nFalse\\nFalse\\nFalse\\nFalse\\nFalse\\n True\\nFalse\\nFalse\\nFalse\\n True\\nFalse\\nFalse\\nFalse\\nFalse\\nFalse\\n True\\n True\\nFalse\\nFalse\\nFalse\\nFalse\\nFalse\\nFalse\\nFalse\\nFalse\\nFalse\\n True\\nFalse\\n True\\nFalse\\n True\\nFalse\\nFalse\\nFalse\\n True\\nFalse\\nFalse\\nFalse\\n True\\nFalse\\nFalse\\nFalse\\nFalse\\n True\\nFalse\\nFalse\\nFalse\\nFalse\\nFalse\\n True\\n True\\nFalse\\n True\\nFalse\\nFalse\\nFalse\\nFalse\\nFalse\\nFalse\\nFalse\\n True\\n True\\n True\\nFalse\\n True\\nFalse\\nFalse\\nFalse\\nFalse\\nFalse\\nFalse\\nFalse\\nFalse\\nFalse\\nFalse\\nFalse\\nFalse\\nFalse\\nFalse\\nFalse\\nFalse\\nFalse\\nFalse\\nFalse\\nFalse\\nFalse\\nFalse\\nFalse\\nFalse\\nFalse\\nFalse\\nFalse\\nFalse\\nFalse\\nFalse\\n True\\nFalse\\n True\\nFalse\\nFalse\\nFalse\\n True\\nFalse\\nFalse\\nFalse\\nFalse\\nFalse\\nFalse\\n True\\nFalse\\nFalse\\nFalse\\nFalse\\nFalse\\nFalse\\nFalse\\nFalse\\nFalse\\nFalse\\nFalse\\nFalse\\nFalse\\nFalse\\nFalse\\nFalse\\nFalse\\nFalse\\nFalse\\n True\\nFalse\\nFalse\\nFalse\\nFalse\\nFalse\\n True\\nFalse\\n True\\nFalse\\nFalse\\nFalse\\n True\\nFalse\\n True\\nFalse\\nFalse\\nFalse\\nFalse\\nFalse\\nFalse\\n True\\nFalse\\n True\\nFalse\\nFalse\\nFalse\\nFalse\\nFalse\\n True\\nFalse\\nFalse\\nFalse\\nFalse\\nFalse\\nFalse\\nFalse\\nFalse\\nFalse\\nFalse\\nFalse\\nFalse\\nFalse\\nFalse\\nFalse\\nFalse\\n True\\n True\\nFalse\\nFalse\\nFalse\\nFalse\\n True\\nFalse\\nFalse\\nFalse\\n True\\nFalse\\n True\\nFalse\\nFalse\\nFalse\\nFalse\\nFalse\\nFalse\\n True\\nFalse\\nFalse\\nFalse\\nFalse\\nFalse\\nFalse\\nFalse\\nFalse\\nFalse\\nFalse\\nFalse\\nFalse\\nFalse\\nFalse\\nFalse\\nFalse\\nFalse\\nFalse\\nFalse\\nFalse\\nFalse\\nFalse\\nFalse\\nFalse\\n True\\nFalse\\nFalse\\n True\\nFalse\\nFalse\\nFalse\\nFalse\\nFalse\\n True\\nFalse\\nFalse\\nFalse\\nFalse\\n True\\nFalse\\nFalse\\nFalse\\nFalse\\nFalse\\nFalse\\nFalse\\nFalse\\n True\\n True\\nFalse\\nFalse\\nFalse\\nFalse\\nFalse\\nFalse\\nFalse\\n True\\nFalse\\nFalse\\n True\\n True\\nFalse\\nFalse\\nFalse\\nFalse\\nFalse\\nFalse\\nFalse\\nFalse\\nFalse\\nFalse\\nFalse\\nFalse\\nFalse\\nFalse\\nFalse\\n True\\nFalse\\n True\\nFalse\\n True\\nFalse\\nFalse\\nFalse\\nFalse\\nFalse\\nFalse\\nFalse\\n True\\nFalse\\nFalse\\nFalse\\nFalse\\nFalse\\nFalse\\nFalse\\nFalse\\n True\\nFalse\\n True\\nFalse\\nFalse\\nFalse\\n True\\nFalse\\nFalse\\nFalse\\nFalse\\nFalse\\n True\\nFalse\\n True\\nFalse\\nFalse\\n True\\nFalse\\n True\\nFalse\\nFalse\\nFalse\\n True\\n True\\n True\\nFalse\\nFalse\\n True\\nFalse\\nFalse\\nFalse\\nFalse\\nFalse\\nFalse\\n True\\nFalse\\nFalse\\n True\\n True\\nFalse\\nFalse\\nFalse\\n True\\nFalse\\n True\\nFalse\\nFalse\\nFalse\\nFalse\\nFalse\\nFalse\\nFalse\\nFalse\\nFalse\\nFalse\\nFalse\\nFalse\\nFalse\\n True\\nFalse\\nFalse\\n True\\nFalse\\nFalse\\n True\\nFalse\\n True\\nFalse\\nFalse\\nFalse\\nFalse\\nFalse\\nFalse\\nFalse\\nFalse\\nFalse\\n True\\nFalse\\nFalse\\nFalse\\nFalse\\nFalse\\n True\\nFalse\\nFalse\\nFalse\\nFalse\\nFalse\\nFalse\\nFalse\\nFalse\\nFalse\\nFalse\\n True\\nFalse\\nFalse\\n True\\n True\\nFalse\\nFalse\\n True\\nFalse\\nFalse\\nFalse\\nFalse\\nFalse\\nFalse\\n True\\n True\\nFalse\\nFalse\\nFalse\\n True\\nFalse\\n True\\nFalse\\nFalse\\nFalse\\nFalse\\nFalse\\n True\\nFalse\\nFalse\\nFalse\\n True\\nFalse\\nFalse\\nFalse\\nFalse\\nFalse\\nFalse\\nFalse\\nFalse\\n True\\n True\\nFalse\\n True\\nFalse\\nFalse\\nFalse\\nFalse\\nFalse\\nFalse\\nFalse\\n True\\nFalse\\nFalse\\n True\\nFalse\\nFalse\\nFalse\\nFalse\\n True\\n True\\n True\\nFalse\\nFalse\\nFalse\\nFalse\\nFalse\\n True\\nFalse\\n True\\nFalse\\n True\\nFalse\\n True\\nFalse\\nFalse\\nFalse\\nFalse\\nFalse\\nFalse\\nFalse\\nFalse\\nFalse\\nFalse\\nFalse\\n True\\nFalse\\nFalse\\nFalse\\nFalse\\nFalse\\nFalse\\nFalse\\nFalse\\nFalse\\nFalse\\nFalse\\nFalse\\nFalse\\nFalse\\nFalse\\nFalse\\nFalse\\nFalse\\nFalse\\nFalse\\nFalse\\nFalse\\nFalse\\nFalse\\nFalse\\nFalse\\nFalse\\nFalse\\nFalse\\nFalse\\nFalse\\nFalse\\n True\\nFalse\\nFalse\\nFalse\\nFalse\\nFalse\\nFalse\\n True\\nFalse\\nFalse\\n True\\nFalse\\nFalse\\nFalse\\nFalse\\nFalse\\nFalse\\n True\\nFalse\\nFalse\\nFalse\\nFalse\\n True\\nFalse\\nFalse\\nFalse\\nFalse\\nFalse\\nFalse\\nFalse\\nFalse\\nFalse\\nFalse\\nFalse\\nFalse\\nFalse\\nFalse\\nFalse\\n True\\nFalse\\nFalse\\nFalse\\nFalse\\n True\\nFalse\\nFalse\\nFalse\\n True\\nFalse\\nFalse\\nFalse\\nFalse\\nFalse\\n True\\nFalse\\nFalse\\nFalse\\nFalse\\nFalse\\nFalse\\nFalse\\nFalse\\n True\\nFalse\\nFalse\\nFalse\\n True\\n True\\n True\\nFalse\\n True\\nFalse\\nFalse\\nFalse\\nFalse\\nFalse\\nFalse\\nFalse\\nFalse\\nFalse\\nFalse\\nFalse\\nFalse\\nFalse\\nFalse\\n True\\n True\\nFalse\\nFalse\\nFalse\\nFalse\\nFalse\\nFalse\\nFalse\\n True\\nFalse\\nFalse\\nFalse\\n True\\nFalse\\n True\\nFalse\\n True\\nFalse\\n True\\n True\\n True\\n True\\n True\\n True\\n True\\n True\\n True\\n True\\n True\\n True\\n True\\n True\\n True\\n True\\n True\\n True\\n True\\n True\\n True\\n True\\n True\\n True\\n True\\n True\\n True\\n True\\n True\\n True\\n True\\n True\\n True\\n True\\n True\\n True\\n True\\n True\\n True\\n True\\n True\\n True\\n True\\n True\\n True\\n True\\n True\\n True\\n True\\n True\\n True\\n True\\n True\\n True\\n True\\n True\\n True\\n True\\n True\\n True\\n True\\n True\\n True\\n True\\n True\\n True\\n True\\n True\\n True\\n True\\n True\\n True\\n True\\n True\\n True\\n True\\n True\\n True\\n True\\n True\\n True\\n True\\n True\\n True\\n True\\n True\\nFalse\\nFalse\\nFalse\\n True\\nFalse\\nFalse\\nFalse\\nFalse\\nFalse\\nFalse\\nFalse\\nFalse\\nFalse\\nFalse\\nFalse\\nFalse\\n True\\n True\\nFalse\\nFalse\\nFalse\\n True\\nFalse\\nFalse\\nFalse\\nFalse\\n True\\nFalse\\nFalse\\nFalse\\nFalse\\nFalse\\nFalse\\nFalse\\nFalse\\nFalse\\nFalse\\n True\\nFalse\\nFalse'}\n"
          ]
        },
        {
          "data": {
            "application/javascript": "\n            setTimeout(function() {\n                var nbb_cell_id = 3;\n                var nbb_unformatted_code = \"# begin assembling holder dictionary for heading key and True/False value:\\n# holder={ heading : data[heading].duplicated() }\\n# holder.append() # only works on list use update for dictionary:\\n# holder.update({\\\"heading\\\": \\\"data[heading].duplicated()\\\"})\\nduplicate_boolean=data[heading].duplicated().to_string(index=False)\\nholder.update({Template(\\\"$heading\\\").substitute(heading=heading): Template(\\\"$duplicate_boolean\\\").substitute(duplicate_boolean=duplicate_boolean)})\\n# holder={}\\nprint(holder)\";\n                var nbb_formatted_code = \"# begin assembling holder dictionary for heading key and True/False value:\\n# holder={ heading : data[heading].duplicated() }\\n# holder.append() # only works on list use update for dictionary:\\n# holder.update({\\\"heading\\\": \\\"data[heading].duplicated()\\\"})\\nduplicate_boolean = data[heading].duplicated().to_string(index=False)\\nholder.update(\\n    {\\n        Template(\\\"$heading\\\")\\n        .substitute(heading=heading): Template(\\\"$duplicate_boolean\\\")\\n        .substitute(duplicate_boolean=duplicate_boolean)\\n    }\\n)\\n# holder={}\\nprint(holder)\";\n                var nbb_cells = Jupyter.notebook.get_cells();\n                for (var i = 0; i < nbb_cells.length; ++i) {\n                    if (nbb_cells[i].input_prompt_number == nbb_cell_id) {\n                        if (nbb_cells[i].get_text() == nbb_unformatted_code) {\n                             nbb_cells[i].set_text(nbb_formatted_code);\n                        }\n                        break;\n                    }\n                }\n            }, 500);\n            ",
            "text/plain": [
              "<IPython.core.display.Javascript object>"
            ]
          },
          "metadata": {},
          "output_type": "display_data"
        }
      ],
      "source": [
        "# begin assembling holder dictionary for heading key and True/False value:\n",
        "# holder={ heading : data[heading].duplicated() }\n",
        "# holder.append() # only works on list use update for dictionary:\n",
        "# holder.update({\"heading\": \"data[heading].duplicated()\"})\n",
        "duplicate_boolean=data[heading].duplicated().to_string(index=False)\n",
        "holder.update({Template(\"$heading\").substitute(heading=heading): Template(\"$duplicate_boolean\").substitute(duplicate_boolean=duplicate_boolean)})\n",
        "# holder={}\n",
        "print(holder)"
      ]
    },
    {
      "cell_type": "code",
      "execution_count": 4,
      "metadata": {},
      "outputs": [
        {
          "data": {
            "text/plain": [
              "'normalized_new_price'"
            ]
          },
          "execution_count": 4,
          "metadata": {},
          "output_type": "execute_result"
        },
        {
          "data": {
            "application/javascript": "\n            setTimeout(function() {\n                var nbb_cell_id = 4;\n                var nbb_unformatted_code = \"holder_duplicates_counted={}\\nouter_key=heading\\nTemplate(\\\"$outer_key\\\").substitute(outer_key=outer_key)\";\n                var nbb_formatted_code = \"holder_duplicates_counted = {}\\nouter_key = heading\\nTemplate(\\\"$outer_key\\\").substitute(outer_key=outer_key)\";\n                var nbb_cells = Jupyter.notebook.get_cells();\n                for (var i = 0; i < nbb_cells.length; ++i) {\n                    if (nbb_cells[i].input_prompt_number == nbb_cell_id) {\n                        if (nbb_cells[i].get_text() == nbb_unformatted_code) {\n                             nbb_cells[i].set_text(nbb_formatted_code);\n                        }\n                        break;\n                    }\n                }\n            }, 500);\n            ",
            "text/plain": [
              "<IPython.core.display.Javascript object>"
            ]
          },
          "metadata": {},
          "output_type": "display_data"
        }
      ],
      "source": [
        "holder_duplicates_counted={}\n",
        "outer_key=heading\n",
        "Template(\"$outer_key\").substitute(outer_key=outer_key)"
      ]
    },
    {
      "cell_type": "code",
      "execution_count": 5,
      "metadata": {},
      "outputs": [
        {
          "data": {
            "text/plain": [
              "'False\\nFalse\\nFalse\\nFalse'"
            ]
          },
          "execution_count": 5,
          "metadata": {},
          "output_type": "execute_result"
        },
        {
          "data": {
            "application/javascript": "\n            setTimeout(function() {\n                var nbb_cell_id = 5;\n                var nbb_unformatted_code = \"data[heading].duplicated().head(4).to_string(index=False)\";\n                var nbb_formatted_code = \"data[heading].duplicated().head(4).to_string(index=False)\";\n                var nbb_cells = Jupyter.notebook.get_cells();\n                for (var i = 0; i < nbb_cells.length; ++i) {\n                    if (nbb_cells[i].input_prompt_number == nbb_cell_id) {\n                        if (nbb_cells[i].get_text() == nbb_unformatted_code) {\n                             nbb_cells[i].set_text(nbb_formatted_code);\n                        }\n                        break;\n                    }\n                }\n            }, 500);\n            ",
            "text/plain": [
              "<IPython.core.display.Javascript object>"
            ]
          },
          "metadata": {},
          "output_type": "display_data"
        }
      ],
      "source": [
        "data[heading].duplicated().head(4).to_string(index=False)"
      ]
    },
    {
      "attachments": {},
      "cell_type": "markdown",
      "metadata": {},
      "source": [
        "Check for duplicates for single iteration of 1st for loop - DONE\n",
        "\n",
        "TODO\n",
        "1\n",
        "insert second for loop \n",
        "into \n",
        "first for loop\n",
        "\n",
        "2\n",
        "amalgamate\n",
        "code cells\n",
        "used in \n",
        "making\n",
        "2nd for loop\n",
        "into\n",
        "single block of code\n",
        "to be incorporated\n",
        "into first for loop"
      ]
    },
    {
      "cell_type": "code",
      "execution_count": 6,
      "metadata": {},
      "outputs": [
        {
          "name": "stdout",
          "output_type": "stream",
          "text": [
            "466\n",
            "3454\n"
          ]
        },
        {
          "data": {
            "application/javascript": "\n            setTimeout(function() {\n                var nbb_cell_id = 6;\n                var nbb_unformatted_code = \"current_count_dict={}\\nfor val_count, value in enumerate(data[heading].duplicated()) :\\n    # print(value)\\n    if value == True:\\n        current_count_dict.update({Template(\\\"$val_count\\\").substitute(val_count=val_count) : Template(\\\"$value\\\").substitute(value=value)})\\n# print(current_count_dict)\\nprint(len(current_count_dict))\\nprint(len(data[heading].duplicated()))\";\n                var nbb_formatted_code = \"current_count_dict = {}\\nfor val_count, value in enumerate(data[heading].duplicated()):\\n    # print(value)\\n    if value == True:\\n        current_count_dict.update(\\n            {\\n                Template(\\\"$val_count\\\")\\n                .substitute(val_count=val_count): Template(\\\"$value\\\")\\n                .substitute(value=value)\\n            }\\n        )\\n# print(current_count_dict)\\nprint(len(current_count_dict))\\nprint(len(data[heading].duplicated()))\";\n                var nbb_cells = Jupyter.notebook.get_cells();\n                for (var i = 0; i < nbb_cells.length; ++i) {\n                    if (nbb_cells[i].input_prompt_number == nbb_cell_id) {\n                        if (nbb_cells[i].get_text() == nbb_unformatted_code) {\n                             nbb_cells[i].set_text(nbb_formatted_code);\n                        }\n                        break;\n                    }\n                }\n            }, 500);\n            ",
            "text/plain": [
              "<IPython.core.display.Javascript object>"
            ]
          },
          "metadata": {},
          "output_type": "display_data"
        }
      ],
      "source": [
        "current_count_dict={}\n",
        "for val_count, value in enumerate(data[heading].duplicated()) :\n",
        "    # print(value)\n",
        "    if value == True:\n",
        "        current_count_dict.update({Template(\"$val_count\").substitute(val_count=val_count) : Template(\"$value\").substitute(value=value)})\n",
        "# print(current_count_dict)\n",
        "print(len(current_count_dict))\n",
        "print(len(data[heading].duplicated()))"
      ]
    },
    {
      "cell_type": "code",
      "execution_count": 7,
      "metadata": {},
      "outputs": [
        {
          "data": {
            "text/plain": [
              "2988"
            ]
          },
          "execution_count": 7,
          "metadata": {},
          "output_type": "execute_result"
        },
        {
          "data": {
            "application/javascript": "\n            setTimeout(function() {\n                var nbb_cell_id = 7;\n                var nbb_unformatted_code = \"len(data[heading].duplicated()) - len(current_count_dict)\";\n                var nbb_formatted_code = \"len(data[heading].duplicated()) - len(current_count_dict)\";\n                var nbb_cells = Jupyter.notebook.get_cells();\n                for (var i = 0; i < nbb_cells.length; ++i) {\n                    if (nbb_cells[i].input_prompt_number == nbb_cell_id) {\n                        if (nbb_cells[i].get_text() == nbb_unformatted_code) {\n                             nbb_cells[i].set_text(nbb_formatted_code);\n                        }\n                        break;\n                    }\n                }\n            }, 500);\n            ",
            "text/plain": [
              "<IPython.core.display.Javascript object>"
            ]
          },
          "metadata": {},
          "output_type": "display_data"
        }
      ],
      "source": [
        "len(data[heading].duplicated()) - len(current_count_dict)"
      ]
    },
    {
      "cell_type": "code",
      "execution_count": 8,
      "metadata": {},
      "outputs": [
        {
          "data": {
            "text/plain": [
              "array([4.71510025, 5.51901794, 5.88463072, ..., 6.25153773, 4.62418819,\n",
              "       4.27999391])"
            ]
          },
          "execution_count": 8,
          "metadata": {},
          "output_type": "execute_result"
        },
        {
          "data": {
            "application/javascript": "\n            setTimeout(function() {\n                var nbb_cell_id = 8;\n                var nbb_unformatted_code = \"data[heading].unique()\";\n                var nbb_formatted_code = \"data[heading].unique()\";\n                var nbb_cells = Jupyter.notebook.get_cells();\n                for (var i = 0; i < nbb_cells.length; ++i) {\n                    if (nbb_cells[i].input_prompt_number == nbb_cell_id) {\n                        if (nbb_cells[i].get_text() == nbb_unformatted_code) {\n                             nbb_cells[i].set_text(nbb_formatted_code);\n                        }\n                        break;\n                    }\n                }\n            }, 500);\n            ",
            "text/plain": [
              "<IPython.core.display.Javascript object>"
            ]
          },
          "metadata": {},
          "output_type": "display_data"
        }
      ],
      "source": [
        "data[heading].unique()"
      ]
    },
    {
      "cell_type": "code",
      "execution_count": 9,
      "metadata": {},
      "outputs": [
        {
          "data": {
            "text/plain": [
              "2988"
            ]
          },
          "execution_count": 9,
          "metadata": {},
          "output_type": "execute_result"
        },
        {
          "data": {
            "application/javascript": "\n            setTimeout(function() {\n                var nbb_cell_id = 9;\n                var nbb_unformatted_code = \"len(data[heading].unique())\";\n                var nbb_formatted_code = \"len(data[heading].unique())\";\n                var nbb_cells = Jupyter.notebook.get_cells();\n                for (var i = 0; i < nbb_cells.length; ++i) {\n                    if (nbb_cells[i].input_prompt_number == nbb_cell_id) {\n                        if (nbb_cells[i].get_text() == nbb_unformatted_code) {\n                             nbb_cells[i].set_text(nbb_formatted_code);\n                        }\n                        break;\n                    }\n                }\n            }, 500);\n            ",
            "text/plain": [
              "<IPython.core.display.Javascript object>"
            ]
          },
          "metadata": {},
          "output_type": "display_data"
        }
      ],
      "source": [
        "len(data[heading].unique())"
      ]
    },
    {
      "cell_type": "code",
      "execution_count": 10,
      "metadata": {},
      "outputs": [
        {
          "data": {
            "text/plain": [
              "True"
            ]
          },
          "execution_count": 10,
          "metadata": {},
          "output_type": "execute_result"
        },
        {
          "data": {
            "application/javascript": "\n            setTimeout(function() {\n                var nbb_cell_id = 10;\n                var nbb_unformatted_code = \"# difference between number of duplicated values in column and number of values shown as True equals the number of unique values in the column\\n# That is, once duplicates are removed, only unique values remain (by definition) \\nlen(data[heading].duplicated()) - len(current_count_dict)==len(data[heading].unique())\";\n                var nbb_formatted_code = \"# difference between number of duplicated values in column and number of values shown as True equals the number of unique values in the column\\n# That is, once duplicates are removed, only unique values remain (by definition)\\nlen(data[heading].duplicated()) - len(current_count_dict) == len(data[heading].unique())\";\n                var nbb_cells = Jupyter.notebook.get_cells();\n                for (var i = 0; i < nbb_cells.length; ++i) {\n                    if (nbb_cells[i].input_prompt_number == nbb_cell_id) {\n                        if (nbb_cells[i].get_text() == nbb_unformatted_code) {\n                             nbb_cells[i].set_text(nbb_formatted_code);\n                        }\n                        break;\n                    }\n                }\n            }, 500);\n            ",
            "text/plain": [
              "<IPython.core.display.Javascript object>"
            ]
          },
          "metadata": {},
          "output_type": "display_data"
        }
      ],
      "source": [
        "# difference between number of duplicated values in column and number of values shown as True equals the number of unique values in the column\n",
        "# That is, once duplicates are removed, only unique values remain (by definition) \n",
        "len(data[heading].duplicated()) - len(current_count_dict)==len(data[heading].unique())"
      ]
    },
    {
      "attachments": {},
      "cell_type": "markdown",
      "metadata": {},
      "source": [
        "TODO: next assemble key and value into holder variable\n",
        "    - why? - to show if duplicates\n",
        "    - how?\n",
        "    - note intermediate step: check if col (row?) has duplicates\n",
        "    in above loop\n",
        "        key-value-pair:\n",
        "        part 1 of 3: key\n",
        "        part 2 of 3: string_holder=' : '\n",
        "        part 3 of 3: value\n",
        "\n",
        "    column_x : 'False'\n",
        "\n",
        "    then push this as a key value pair to holder variable\n",
        "        - iteratively"
      ]
    },
    {
      "attachments": {},
      "cell_type": "markdown",
      "metadata": {},
      "source": [
        "1.\n",
        "So, key is not col_el_1{is actually .to_string(index= False) to remove excess output} but \n",
        "current_col_headg_in_brakts_n_quotes{[\"word\"]}\n",
        "(technically just: strg_var{\"word\"}\n",
        "[or just heading{word alone}])\n",
        "\n",
        "2.\n",
        "check for duplicates per row\n",
        "potentially, just: .duplicates(data[strg_val])\n",
        "or .duplicates(data current_col_headg_in_brakts_n_quotes) # without space, so concatenated\n",
        "i.e. .duplicates()\n",
        "\n",
        "2.1\n",
        "https://www.digitalocean.com/community/tutorials/python-string-concatenation\n",
        "a= 'asdf'\n",
        "b= 'lkjh'\n",
        "c= a + b\n",
        "print(c)\n",
        "Output: asdflkjh\n",
        "\n",
        "3.\n",
        "then need to set key and value\n",
        "or push key value to dictionary"
      ]
    },
    {
      "cell_type": "code",
      "execution_count": 11,
      "metadata": {},
      "outputs": [
        {
          "name": "stdout",
          "output_type": "stream",
          "text": [
            "2\n",
            "{'var0': 0, 'var1': 1, 'var2': 2, 'var3': 3, 'var4': 4, 'var5': 5, 'var6': 6, 'var7': 7, 'var8': 8, 'var9': 9}\n"
          ]
        },
        {
          "data": {
            "application/javascript": "\n            setTimeout(function() {\n                var nbb_cell_id = 11;\n                var nbb_unformatted_code = \"# https://pythonprinciples.com/ask/how-do-you-create-a-variable-number-of-variables/\\nmy_vars = {}\\nfor i in range(10):\\n    var_name = \\\"var%d\\\" % i\\n    my_vars[var_name] = i\\n\\nprint(my_vars[\\\"var2\\\"])\\nprint(my_vars)\";\n                var nbb_formatted_code = \"# https://pythonprinciples.com/ask/how-do-you-create-a-variable-number-of-variables/\\nmy_vars = {}\\nfor i in range(10):\\n    var_name = \\\"var%d\\\" % i\\n    my_vars[var_name] = i\\n\\nprint(my_vars[\\\"var2\\\"])\\nprint(my_vars)\";\n                var nbb_cells = Jupyter.notebook.get_cells();\n                for (var i = 0; i < nbb_cells.length; ++i) {\n                    if (nbb_cells[i].input_prompt_number == nbb_cell_id) {\n                        if (nbb_cells[i].get_text() == nbb_unformatted_code) {\n                             nbb_cells[i].set_text(nbb_formatted_code);\n                        }\n                        break;\n                    }\n                }\n            }, 500);\n            ",
            "text/plain": [
              "<IPython.core.display.Javascript object>"
            ]
          },
          "metadata": {},
          "output_type": "display_data"
        }
      ],
      "source": [
        "# https://pythonprinciples.com/ask/how-do-you-create-a-variable-number-of-variables/\n",
        "my_vars = {}\n",
        "for i in range(10):\n",
        "    var_name = \"var%d\" % i\n",
        "    my_vars[var_name] = i\n",
        "\n",
        "print(my_vars[\"var2\"])\n",
        "print(my_vars)"
      ]
    },
    {
      "cell_type": "code",
      "execution_count": 12,
      "metadata": {},
      "outputs": [
        {
          "data": {
            "text/plain": [
              "0       False\n",
              "1       False\n",
              "2       False\n",
              "3       False\n",
              "4       False\n",
              "        ...  \n",
              "3449    False\n",
              "3450    False\n",
              "3451     True\n",
              "3452    False\n",
              "3453    False\n",
              "Name: normalized_new_price, Length: 3454, dtype: bool"
            ]
          },
          "execution_count": 12,
          "metadata": {},
          "output_type": "execute_result"
        },
        {
          "data": {
            "application/javascript": "\n            setTimeout(function() {\n                var nbb_cell_id = 12;\n                var nbb_unformatted_code = \"data[heading].duplicated()\";\n                var nbb_formatted_code = \"data[heading].duplicated()\";\n                var nbb_cells = Jupyter.notebook.get_cells();\n                for (var i = 0; i < nbb_cells.length; ++i) {\n                    if (nbb_cells[i].input_prompt_number == nbb_cell_id) {\n                        if (nbb_cells[i].get_text() == nbb_unformatted_code) {\n                             nbb_cells[i].set_text(nbb_formatted_code);\n                        }\n                        break;\n                    }\n                }\n            }, 500);\n            ",
            "text/plain": [
              "<IPython.core.display.Javascript object>"
            ]
          },
          "metadata": {},
          "output_type": "display_data"
        }
      ],
      "source": [
        "data[heading].duplicated()"
      ]
    },
    {
      "attachments": {},
      "cell_type": "markdown",
      "metadata": {},
      "source": [
        "duplicates final answer:"
      ]
    },
    {
      "cell_type": "code",
      "execution_count": 13,
      "metadata": {},
      "outputs": [
        {
          "data": {
            "text/plain": [
              "0       False\n",
              "1       False\n",
              "2       False\n",
              "3       False\n",
              "4       False\n",
              "        ...  \n",
              "3449    False\n",
              "3450    False\n",
              "3451    False\n",
              "3452    False\n",
              "3453    False\n",
              "Length: 3454, dtype: bool"
            ]
          },
          "execution_count": 13,
          "metadata": {},
          "output_type": "execute_result"
        },
        {
          "data": {
            "application/javascript": "\n            setTimeout(function() {\n                var nbb_cell_id = 13;\n                var nbb_unformatted_code = \"data.duplicated()\";\n                var nbb_formatted_code = \"data.duplicated()\";\n                var nbb_cells = Jupyter.notebook.get_cells();\n                for (var i = 0; i < nbb_cells.length; ++i) {\n                    if (nbb_cells[i].input_prompt_number == nbb_cell_id) {\n                        if (nbb_cells[i].get_text() == nbb_unformatted_code) {\n                             nbb_cells[i].set_text(nbb_formatted_code);\n                        }\n                        break;\n                    }\n                }\n            }, 500);\n            ",
            "text/plain": [
              "<IPython.core.display.Javascript object>"
            ]
          },
          "metadata": {},
          "output_type": "display_data"
        }
      ],
      "source": [
        "data.duplicated()"
      ]
    },
    {
      "cell_type": "code",
      "execution_count": 14,
      "metadata": {},
      "outputs": [
        {
          "data": {
            "application/javascript": "\n            setTimeout(function() {\n                var nbb_cell_id = 14;\n                var nbb_unformatted_code = \"duplicates_list=data.duplicated()\";\n                var nbb_formatted_code = \"duplicates_list = data.duplicated()\";\n                var nbb_cells = Jupyter.notebook.get_cells();\n                for (var i = 0; i < nbb_cells.length; ++i) {\n                    if (nbb_cells[i].input_prompt_number == nbb_cell_id) {\n                        if (nbb_cells[i].get_text() == nbb_unformatted_code) {\n                             nbb_cells[i].set_text(nbb_formatted_code);\n                        }\n                        break;\n                    }\n                }\n            }, 500);\n            ",
            "text/plain": [
              "<IPython.core.display.Javascript object>"
            ]
          },
          "metadata": {},
          "output_type": "display_data"
        }
      ],
      "source": [
        "duplicates_list=data.duplicated()"
      ]
    },
    {
      "cell_type": "code",
      "execution_count": 15,
      "metadata": {},
      "outputs": [
        {
          "data": {
            "application/javascript": "\n            setTimeout(function() {\n                var nbb_cell_id = 15;\n                var nbb_unformatted_code = \"recount_True=0\\nfor duplicate_index_recount, duplicate_boolean_recount in enumerate(duplicates_list):\\n    if (duplicate_boolean_recount==True):\\n        recount_True+=1\";\n                var nbb_formatted_code = \"recount_True = 0\\nfor duplicate_index_recount, duplicate_boolean_recount in enumerate(duplicates_list):\\n    if duplicate_boolean_recount == True:\\n        recount_True += 1\";\n                var nbb_cells = Jupyter.notebook.get_cells();\n                for (var i = 0; i < nbb_cells.length; ++i) {\n                    if (nbb_cells[i].input_prompt_number == nbb_cell_id) {\n                        if (nbb_cells[i].get_text() == nbb_unformatted_code) {\n                             nbb_cells[i].set_text(nbb_formatted_code);\n                        }\n                        break;\n                    }\n                }\n            }, 500);\n            ",
            "text/plain": [
              "<IPython.core.display.Javascript object>"
            ]
          },
          "metadata": {},
          "output_type": "display_data"
        }
      ],
      "source": [
        "recount_True=0\n",
        "for duplicate_index_recount, duplicate_boolean_recount in enumerate(duplicates_list):\n",
        "    if (duplicate_boolean_recount==True):\n",
        "        recount_True+=1\n"
      ]
    },
    {
      "cell_type": "code",
      "execution_count": 16,
      "metadata": {},
      "outputs": [
        {
          "name": "stdout",
          "output_type": "stream",
          "text": [
            "0\n"
          ]
        },
        {
          "data": {
            "application/javascript": "\n            setTimeout(function() {\n                var nbb_cell_id = 16;\n                var nbb_unformatted_code = \"print(recount_True)\";\n                var nbb_formatted_code = \"print(recount_True)\";\n                var nbb_cells = Jupyter.notebook.get_cells();\n                for (var i = 0; i < nbb_cells.length; ++i) {\n                    if (nbb_cells[i].input_prompt_number == nbb_cell_id) {\n                        if (nbb_cells[i].get_text() == nbb_unformatted_code) {\n                             nbb_cells[i].set_text(nbb_formatted_code);\n                        }\n                        break;\n                    }\n                }\n            }, 500);\n            ",
            "text/plain": [
              "<IPython.core.display.Javascript object>"
            ]
          },
          "metadata": {},
          "output_type": "display_data"
        }
      ],
      "source": [
        "print(recount_True)"
      ]
    },
    {
      "attachments": {},
      "cell_type": "markdown",
      "metadata": {},
      "source": [
        "as recount_True is 0, there are duplicates in the data dataset"
      ]
    },
    {
      "attachments": {},
      "cell_type": "markdown",
      "metadata": {},
      "source": [
        "now go one level deeper with duplicate check:"
      ]
    },
    {
      "cell_type": "code",
      "execution_count": 17,
      "metadata": {},
      "outputs": [
        {
          "data": {
            "application/javascript": "\n            setTimeout(function() {\n                var nbb_cell_id = 17;\n                var nbb_unformatted_code = \"# how many?\";\n                var nbb_formatted_code = \"# how many?\";\n                var nbb_cells = Jupyter.notebook.get_cells();\n                for (var i = 0; i < nbb_cells.length; ++i) {\n                    if (nbb_cells[i].input_prompt_number == nbb_cell_id) {\n                        if (nbb_cells[i].get_text() == nbb_unformatted_code) {\n                             nbb_cells[i].set_text(nbb_formatted_code);\n                        }\n                        break;\n                    }\n                }\n            }, 500);\n            ",
            "text/plain": [
              "<IPython.core.display.Javascript object>"
            ]
          },
          "metadata": {},
          "output_type": "display_data"
        }
      ],
      "source": [
        "# how many?"
      ]
    },
    {
      "cell_type": "code",
      "execution_count": 18,
      "metadata": {},
      "outputs": [
        {
          "data": {
            "text/plain": [
              "(3454, 15)"
            ]
          },
          "execution_count": 18,
          "metadata": {},
          "output_type": "execute_result"
        },
        {
          "data": {
            "application/javascript": "\n            setTimeout(function() {\n                var nbb_cell_id = 18;\n                var nbb_unformatted_code = \"data.shape\";\n                var nbb_formatted_code = \"data.shape\";\n                var nbb_cells = Jupyter.notebook.get_cells();\n                for (var i = 0; i < nbb_cells.length; ++i) {\n                    if (nbb_cells[i].input_prompt_number == nbb_cell_id) {\n                        if (nbb_cells[i].get_text() == nbb_unformatted_code) {\n                             nbb_cells[i].set_text(nbb_formatted_code);\n                        }\n                        break;\n                    }\n                }\n            }, 500);\n            ",
            "text/plain": [
              "<IPython.core.display.Javascript object>"
            ]
          },
          "metadata": {},
          "output_type": "display_data"
        }
      ],
      "source": [
        "data.shape"
      ]
    },
    {
      "attachments": {},
      "cell_type": "markdown",
      "metadata": {},
      "source": [
        "15 columns in data set"
      ]
    },
    {
      "attachments": {},
      "cell_type": "markdown",
      "metadata": {},
      "source": [
        "just do first heading instance first:"
      ]
    },
    {
      "cell_type": "code",
      "execution_count": 19,
      "metadata": {},
      "outputs": [
        {
          "name": "stdout",
          "output_type": "stream",
          "text": [
            "heading 0 is brand_name\n"
          ]
        },
        {
          "data": {
            "application/javascript": "\n            setTimeout(function() {\n                var nbb_cell_id = 19;\n                var nbb_unformatted_code = \"for count_3, heading_count_3 in enumerate(headings_list):\\n    if (count_3==0):\\n        print('heading ', count_3, ' is ', heading_count_3, sep='')\\n    if (count_3==0):\\n        break\";\n                var nbb_formatted_code = \"for count_3, heading_count_3 in enumerate(headings_list):\\n    if count_3 == 0:\\n        print(\\\"heading \\\", count_3, \\\" is \\\", heading_count_3, sep=\\\"\\\")\\n    if count_3 == 0:\\n        break\";\n                var nbb_cells = Jupyter.notebook.get_cells();\n                for (var i = 0; i < nbb_cells.length; ++i) {\n                    if (nbb_cells[i].input_prompt_number == nbb_cell_id) {\n                        if (nbb_cells[i].get_text() == nbb_unformatted_code) {\n                             nbb_cells[i].set_text(nbb_formatted_code);\n                        }\n                        break;\n                    }\n                }\n            }, 500);\n            ",
            "text/plain": [
              "<IPython.core.display.Javascript object>"
            ]
          },
          "metadata": {},
          "output_type": "display_data"
        }
      ],
      "source": [
        "for count_3, heading_count_3 in enumerate(headings_list):\n",
        "    if (count_3==0):\n",
        "        print('heading ', count_3, ' is ', heading_count_3, sep='')\n",
        "    if (count_3==0):\n",
        "        break"
      ]
    },
    {
      "attachments": {},
      "cell_type": "markdown",
      "metadata": {},
      "source": [
        "for brand_name: implement the following code block:"
      ]
    },
    {
      "cell_type": "code",
      "execution_count": 20,
      "metadata": {},
      "outputs": [
        {
          "name": "stdout",
          "output_type": "stream",
          "text": [
            "3420\n",
            "0       False\n",
            "1        True\n",
            "2        True\n",
            "3        True\n",
            "4        True\n",
            "        ...  \n",
            "3449     True\n",
            "3450     True\n",
            "3451     True\n",
            "3452     True\n",
            "3453     True\n",
            "Name: brand_name, Length: 3454, dtype: bool\n",
            "3454\n"
          ]
        },
        {
          "data": {
            "application/javascript": "\n            setTimeout(function() {\n                var nbb_cell_id = 20;\n                var nbb_unformatted_code = \"# heading_1 = brand_name\\n# make it def function :\\ndef heading_1():\\n    duplicates_list=data['brand_name'].duplicated()\\n\\n    recount_True=0\\n    for duplicate_index_recount, duplicate_boolean_recount in enumerate(duplicates_list):\\n        if (duplicate_boolean_recount==True):\\n            recount_True+=1\\n\\n    print(recount_True)\\n    print(duplicates_list)\\n    print(len(duplicates_list))\\nheading_1()\";\n                var nbb_formatted_code = \"# heading_1 = brand_name\\n# make it def function :\\ndef heading_1():\\n    duplicates_list = data[\\\"brand_name\\\"].duplicated()\\n\\n    recount_True = 0\\n    for duplicate_index_recount, duplicate_boolean_recount in enumerate(\\n        duplicates_list\\n    ):\\n        if duplicate_boolean_recount == True:\\n            recount_True += 1\\n\\n    print(recount_True)\\n    print(duplicates_list)\\n    print(len(duplicates_list))\\n\\n\\nheading_1()\";\n                var nbb_cells = Jupyter.notebook.get_cells();\n                for (var i = 0; i < nbb_cells.length; ++i) {\n                    if (nbb_cells[i].input_prompt_number == nbb_cell_id) {\n                        if (nbb_cells[i].get_text() == nbb_unformatted_code) {\n                             nbb_cells[i].set_text(nbb_formatted_code);\n                        }\n                        break;\n                    }\n                }\n            }, 500);\n            ",
            "text/plain": [
              "<IPython.core.display.Javascript object>"
            ]
          },
          "metadata": {},
          "output_type": "display_data"
        }
      ],
      "source": [
        "# heading_1 = brand_name\n",
        "# make it def function :\n",
        "def heading_1():\n",
        "    duplicates_list=data['brand_name'].duplicated()\n",
        "\n",
        "    recount_True=0\n",
        "    for duplicate_index_recount, duplicate_boolean_recount in enumerate(duplicates_list):\n",
        "        if (duplicate_boolean_recount==True):\n",
        "            recount_True+=1\n",
        "\n",
        "    print(recount_True)\n",
        "    print(duplicates_list)\n",
        "    print(len(duplicates_list))\n",
        "heading_1()"
      ]
    },
    {
      "cell_type": "code",
      "execution_count": 21,
      "metadata": {},
      "outputs": [
        {
          "data": {
            "text/plain": [
              "'\\n do a check \\n to see if 3420 is actually the number of duplicates.\\n also check length of the data set\\n\\n - DONE\\n'"
            ]
          },
          "execution_count": 21,
          "metadata": {},
          "output_type": "execute_result"
        },
        {
          "data": {
            "application/javascript": "\n            setTimeout(function() {\n                var nbb_cell_id = 21;\n                var nbb_unformatted_code = \"'''\\n do a check \\n to see if 3420 is actually the number of duplicates.\\n also check length of the data set\\n\\n - DONE\\n'''\";\n                var nbb_formatted_code = \"\\\"\\\"\\\"\\n do a check \\n to see if 3420 is actually the number of duplicates.\\n also check length of the data set\\n\\n - DONE\\n\\\"\\\"\\\"\";\n                var nbb_cells = Jupyter.notebook.get_cells();\n                for (var i = 0; i < nbb_cells.length; ++i) {\n                    if (nbb_cells[i].input_prompt_number == nbb_cell_id) {\n                        if (nbb_cells[i].get_text() == nbb_unformatted_code) {\n                             nbb_cells[i].set_text(nbb_formatted_code);\n                        }\n                        break;\n                    }\n                }\n            }, 500);\n            ",
            "text/plain": [
              "<IPython.core.display.Javascript object>"
            ]
          },
          "metadata": {},
          "output_type": "display_data"
        }
      ],
      "source": [
        "'''\n",
        " do a check \n",
        " to see if 3420 is actually the number of duplicates.\n",
        " also check length of the data set\n",
        "\n",
        " - DONE\n",
        "'''"
      ]
    },
    {
      "cell_type": "code",
      "execution_count": 22,
      "metadata": {},
      "outputs": [
        {
          "data": {
            "application/javascript": "\n            setTimeout(function() {\n                var nbb_cell_id = 22;\n                var nbb_unformatted_code = \"# copy def (not call) of function heading_1\\n# use next function for headings 2 through 15:\\n\\ndef heading_2_to_15(heading):\\n    duplicates_list=data[heading].duplicated()\\n\\n    recount_True=0\\n    for duplicate_index_recount, duplicate_boolean_recount in enumerate(duplicates_list):\\n        if (duplicate_boolean_recount==True):\\n            recount_True+=1\\n\\n    print('recount_True:',recount_True)\\n    print('duplicates_list:')\\n    print(duplicates_list)\\n    print('duplicates_list:',len(duplicates_list))\";\n                var nbb_formatted_code = \"# copy def (not call) of function heading_1\\n# use next function for headings 2 through 15:\\n\\n\\ndef heading_2_to_15(heading):\\n    duplicates_list = data[heading].duplicated()\\n\\n    recount_True = 0\\n    for duplicate_index_recount, duplicate_boolean_recount in enumerate(\\n        duplicates_list\\n    ):\\n        if duplicate_boolean_recount == True:\\n            recount_True += 1\\n\\n    print(\\\"recount_True:\\\", recount_True)\\n    print(\\\"duplicates_list:\\\")\\n    print(duplicates_list)\\n    print(\\\"duplicates_list:\\\", len(duplicates_list))\";\n                var nbb_cells = Jupyter.notebook.get_cells();\n                for (var i = 0; i < nbb_cells.length; ++i) {\n                    if (nbb_cells[i].input_prompt_number == nbb_cell_id) {\n                        if (nbb_cells[i].get_text() == nbb_unformatted_code) {\n                             nbb_cells[i].set_text(nbb_formatted_code);\n                        }\n                        break;\n                    }\n                }\n            }, 500);\n            ",
            "text/plain": [
              "<IPython.core.display.Javascript object>"
            ]
          },
          "metadata": {},
          "output_type": "display_data"
        }
      ],
      "source": [
        "# copy def (not call) of function heading_1\n",
        "# use next function for headings 2 through 15:\n",
        "\n",
        "def heading_2_to_15(heading):\n",
        "    duplicates_list=data[heading].duplicated()\n",
        "\n",
        "    recount_True=0\n",
        "    for duplicate_index_recount, duplicate_boolean_recount in enumerate(duplicates_list):\n",
        "        if (duplicate_boolean_recount==True):\n",
        "            recount_True+=1\n",
        "\n",
        "    print('recount_True:',recount_True)\n",
        "    print('duplicates_list:')\n",
        "    print(duplicates_list)\n",
        "    print('duplicates_list:',len(duplicates_list))\n"
      ]
    },
    {
      "cell_type": "code",
      "execution_count": 23,
      "metadata": {},
      "outputs": [
        {
          "name": "stdout",
          "output_type": "stream",
          "text": [
            "heading modified count 2 is os\n"
          ]
        },
        {
          "data": {
            "application/javascript": "\n            setTimeout(function() {\n                var nbb_cell_id = 23;\n                var nbb_unformatted_code = \"for count_3, heading_count_3 in enumerate(headings_list):\\n    if (count_3==1):\\n        print('heading modified count ', count_3 + 1, ' is ', heading_count_3, sep='')\\n\\n    if (count_3==1):\\n        break\";\n                var nbb_formatted_code = \"for count_3, heading_count_3 in enumerate(headings_list):\\n    if count_3 == 1:\\n        print(\\\"heading modified count \\\", count_3 + 1, \\\" is \\\", heading_count_3, sep=\\\"\\\")\\n\\n    if count_3 == 1:\\n        break\";\n                var nbb_cells = Jupyter.notebook.get_cells();\n                for (var i = 0; i < nbb_cells.length; ++i) {\n                    if (nbb_cells[i].input_prompt_number == nbb_cell_id) {\n                        if (nbb_cells[i].get_text() == nbb_unformatted_code) {\n                             nbb_cells[i].set_text(nbb_formatted_code);\n                        }\n                        break;\n                    }\n                }\n            }, 500);\n            ",
            "text/plain": [
              "<IPython.core.display.Javascript object>"
            ]
          },
          "metadata": {},
          "output_type": "display_data"
        }
      ],
      "source": [
        "for count_3, heading_count_3 in enumerate(headings_list):\n",
        "    if (count_3==1):\n",
        "        print('heading modified count ', count_3 + 1, ' is ', heading_count_3, sep='')\n",
        "\n",
        "    if (count_3==1):\n",
        "        break"
      ]
    },
    {
      "cell_type": "code",
      "execution_count": 24,
      "metadata": {},
      "outputs": [
        {
          "name": "stdout",
          "output_type": "stream",
          "text": [
            "recount_True: 3450\n",
            "duplicates_list:\n",
            "0       False\n",
            "1        True\n",
            "2        True\n",
            "3        True\n",
            "4        True\n",
            "        ...  \n",
            "3449     True\n",
            "3450     True\n",
            "3451     True\n",
            "3452     True\n",
            "3453     True\n",
            "Name: os, Length: 3454, dtype: bool\n",
            "duplicates_list: 3454\n"
          ]
        },
        {
          "data": {
            "application/javascript": "\n            setTimeout(function() {\n                var nbb_cell_id = 24;\n                var nbb_unformatted_code = \"# call function \\nheading_2_to_15('os') # (heading 2 is os)\";\n                var nbb_formatted_code = \"# call function\\nheading_2_to_15(\\\"os\\\")  # (heading 2 is os)\";\n                var nbb_cells = Jupyter.notebook.get_cells();\n                for (var i = 0; i < nbb_cells.length; ++i) {\n                    if (nbb_cells[i].input_prompt_number == nbb_cell_id) {\n                        if (nbb_cells[i].get_text() == nbb_unformatted_code) {\n                             nbb_cells[i].set_text(nbb_formatted_code);\n                        }\n                        break;\n                    }\n                }\n            }, 500);\n            ",
            "text/plain": [
              "<IPython.core.display.Javascript object>"
            ]
          },
          "metadata": {},
          "output_type": "display_data"
        }
      ],
      "source": [
        "# call function \n",
        "heading_2_to_15('os') # (heading 2 is os)"
      ]
    },
    {
      "cell_type": "code",
      "execution_count": 25,
      "metadata": {},
      "outputs": [
        {
          "name": "stdout",
          "output_type": "stream",
          "text": [
            "heading modified count 3 is screen_size\n"
          ]
        },
        {
          "data": {
            "application/javascript": "\n            setTimeout(function() {\n                var nbb_cell_id = 25;\n                var nbb_unformatted_code = \"for count_3, heading_count_3 in enumerate(headings_list):\\n    if (count_3==2):\\n        print('heading modified count ', count_3 + 1, ' is ', heading_count_3, sep='')\\n\\n    if (count_3==2):\\n        break\";\n                var nbb_formatted_code = \"for count_3, heading_count_3 in enumerate(headings_list):\\n    if count_3 == 2:\\n        print(\\\"heading modified count \\\", count_3 + 1, \\\" is \\\", heading_count_3, sep=\\\"\\\")\\n\\n    if count_3 == 2:\\n        break\";\n                var nbb_cells = Jupyter.notebook.get_cells();\n                for (var i = 0; i < nbb_cells.length; ++i) {\n                    if (nbb_cells[i].input_prompt_number == nbb_cell_id) {\n                        if (nbb_cells[i].get_text() == nbb_unformatted_code) {\n                             nbb_cells[i].set_text(nbb_formatted_code);\n                        }\n                        break;\n                    }\n                }\n            }, 500);\n            ",
            "text/plain": [
              "<IPython.core.display.Javascript object>"
            ]
          },
          "metadata": {},
          "output_type": "display_data"
        }
      ],
      "source": [
        "for count_3, heading_count_3 in enumerate(headings_list):\n",
        "    if (count_3==2):\n",
        "        print('heading modified count ', count_3 + 1, ' is ', heading_count_3, sep='')\n",
        "\n",
        "    if (count_3==2):\n",
        "        break"
      ]
    },
    {
      "cell_type": "code",
      "execution_count": 26,
      "metadata": {},
      "outputs": [
        {
          "name": "stdout",
          "output_type": "stream",
          "text": [
            "recount_True: 3312\n",
            "duplicates_list:\n",
            "0       False\n",
            "1       False\n",
            "2       False\n",
            "3       False\n",
            "4       False\n",
            "        ...  \n",
            "3449     True\n",
            "3450     True\n",
            "3451     True\n",
            "3452     True\n",
            "3453     True\n",
            "Name: screen_size, Length: 3454, dtype: bool\n",
            "duplicates_list: 3454\n"
          ]
        },
        {
          "data": {
            "application/javascript": "\n            setTimeout(function() {\n                var nbb_cell_id = 26;\n                var nbb_unformatted_code = \"heading_2_to_15('screen_size') # (heading 3 is screen_size)\";\n                var nbb_formatted_code = \"heading_2_to_15(\\\"screen_size\\\")  # (heading 3 is screen_size)\";\n                var nbb_cells = Jupyter.notebook.get_cells();\n                for (var i = 0; i < nbb_cells.length; ++i) {\n                    if (nbb_cells[i].input_prompt_number == nbb_cell_id) {\n                        if (nbb_cells[i].get_text() == nbb_unformatted_code) {\n                             nbb_cells[i].set_text(nbb_formatted_code);\n                        }\n                        break;\n                    }\n                }\n            }, 500);\n            ",
            "text/plain": [
              "<IPython.core.display.Javascript object>"
            ]
          },
          "metadata": {},
          "output_type": "display_data"
        }
      ],
      "source": [
        "heading_2_to_15('screen_size') # (heading 3 is screen_size)"
      ]
    },
    {
      "cell_type": "code",
      "execution_count": 27,
      "metadata": {},
      "outputs": [
        {
          "name": "stdout",
          "output_type": "stream",
          "text": [
            "heading 4 is 4g\n"
          ]
        },
        {
          "data": {
            "application/javascript": "\n            setTimeout(function() {\n                var nbb_cell_id = 27;\n                var nbb_unformatted_code = \"for count_3, heading_count_3 in enumerate(headings_list):\\n    if (count_3==3):\\n        print('heading ', count_3 + 1, ' is ', heading_count_3, sep='')\\n\\n    if (count_3==3):\\n        break\";\n                var nbb_formatted_code = \"for count_3, heading_count_3 in enumerate(headings_list):\\n    if count_3 == 3:\\n        print(\\\"heading \\\", count_3 + 1, \\\" is \\\", heading_count_3, sep=\\\"\\\")\\n\\n    if count_3 == 3:\\n        break\";\n                var nbb_cells = Jupyter.notebook.get_cells();\n                for (var i = 0; i < nbb_cells.length; ++i) {\n                    if (nbb_cells[i].input_prompt_number == nbb_cell_id) {\n                        if (nbb_cells[i].get_text() == nbb_unformatted_code) {\n                             nbb_cells[i].set_text(nbb_formatted_code);\n                        }\n                        break;\n                    }\n                }\n            }, 500);\n            ",
            "text/plain": [
              "<IPython.core.display.Javascript object>"
            ]
          },
          "metadata": {},
          "output_type": "display_data"
        }
      ],
      "source": [
        "for count_3, heading_count_3 in enumerate(headings_list):\n",
        "    if (count_3==3):\n",
        "        print('heading ', count_3 + 1, ' is ', heading_count_3, sep='')\n",
        "\n",
        "    if (count_3==3):\n",
        "        break"
      ]
    },
    {
      "cell_type": "code",
      "execution_count": 28,
      "metadata": {},
      "outputs": [
        {
          "name": "stdout",
          "output_type": "stream",
          "text": [
            "recount_True: 3452\n",
            "duplicates_list:\n",
            "0       False\n",
            "1        True\n",
            "2        True\n",
            "3        True\n",
            "4        True\n",
            "        ...  \n",
            "3449     True\n",
            "3450     True\n",
            "3451     True\n",
            "3452     True\n",
            "3453     True\n",
            "Name: 4g, Length: 3454, dtype: bool\n",
            "duplicates_list: 3454\n"
          ]
        },
        {
          "data": {
            "application/javascript": "\n            setTimeout(function() {\n                var nbb_cell_id = 28;\n                var nbb_unformatted_code = \"heading_2_to_15('4g') # (heading 4 is 4g)\";\n                var nbb_formatted_code = \"heading_2_to_15(\\\"4g\\\")  # (heading 4 is 4g)\";\n                var nbb_cells = Jupyter.notebook.get_cells();\n                for (var i = 0; i < nbb_cells.length; ++i) {\n                    if (nbb_cells[i].input_prompt_number == nbb_cell_id) {\n                        if (nbb_cells[i].get_text() == nbb_unformatted_code) {\n                             nbb_cells[i].set_text(nbb_formatted_code);\n                        }\n                        break;\n                    }\n                }\n            }, 500);\n            ",
            "text/plain": [
              "<IPython.core.display.Javascript object>"
            ]
          },
          "metadata": {},
          "output_type": "display_data"
        }
      ],
      "source": [
        "heading_2_to_15('4g') # (heading 4 is 4g)"
      ]
    },
    {
      "cell_type": "code",
      "execution_count": 29,
      "metadata": {},
      "outputs": [
        {
          "name": "stdout",
          "output_type": "stream",
          "text": [
            "heading 5 is 5g\n"
          ]
        },
        {
          "data": {
            "application/javascript": "\n            setTimeout(function() {\n                var nbb_cell_id = 29;\n                var nbb_unformatted_code = \"for count_3, heading_count_3 in enumerate(headings_list):\\n    if (count_3==4):\\n        print('heading ', count_3 + 1, ' is ', heading_count_3, sep='')\\n\\n    if (count_3==4):\\n        break\";\n                var nbb_formatted_code = \"for count_3, heading_count_3 in enumerate(headings_list):\\n    if count_3 == 4:\\n        print(\\\"heading \\\", count_3 + 1, \\\" is \\\", heading_count_3, sep=\\\"\\\")\\n\\n    if count_3 == 4:\\n        break\";\n                var nbb_cells = Jupyter.notebook.get_cells();\n                for (var i = 0; i < nbb_cells.length; ++i) {\n                    if (nbb_cells[i].input_prompt_number == nbb_cell_id) {\n                        if (nbb_cells[i].get_text() == nbb_unformatted_code) {\n                             nbb_cells[i].set_text(nbb_formatted_code);\n                        }\n                        break;\n                    }\n                }\n            }, 500);\n            ",
            "text/plain": [
              "<IPython.core.display.Javascript object>"
            ]
          },
          "metadata": {},
          "output_type": "display_data"
        }
      ],
      "source": [
        "for count_3, heading_count_3 in enumerate(headings_list):\n",
        "    if (count_3==4):\n",
        "        print('heading ', count_3 + 1, ' is ', heading_count_3, sep='')\n",
        "\n",
        "    if (count_3==4):\n",
        "        break"
      ]
    },
    {
      "cell_type": "code",
      "execution_count": 30,
      "metadata": {},
      "outputs": [
        {
          "name": "stdout",
          "output_type": "stream",
          "text": [
            "recount_True: 3452\n",
            "duplicates_list:\n",
            "0       False\n",
            "1       False\n",
            "2        True\n",
            "3        True\n",
            "4        True\n",
            "        ...  \n",
            "3449     True\n",
            "3450     True\n",
            "3451     True\n",
            "3452     True\n",
            "3453     True\n",
            "Name: 5g, Length: 3454, dtype: bool\n",
            "duplicates_list: 3454\n"
          ]
        },
        {
          "data": {
            "application/javascript": "\n            setTimeout(function() {\n                var nbb_cell_id = 30;\n                var nbb_unformatted_code = \"heading_2_to_15('5g') # (heading 5 is 5g)\";\n                var nbb_formatted_code = \"heading_2_to_15(\\\"5g\\\")  # (heading 5 is 5g)\";\n                var nbb_cells = Jupyter.notebook.get_cells();\n                for (var i = 0; i < nbb_cells.length; ++i) {\n                    if (nbb_cells[i].input_prompt_number == nbb_cell_id) {\n                        if (nbb_cells[i].get_text() == nbb_unformatted_code) {\n                             nbb_cells[i].set_text(nbb_formatted_code);\n                        }\n                        break;\n                    }\n                }\n            }, 500);\n            ",
            "text/plain": [
              "<IPython.core.display.Javascript object>"
            ]
          },
          "metadata": {},
          "output_type": "display_data"
        }
      ],
      "source": [
        "heading_2_to_15('5g') # (heading 5 is 5g)"
      ]
    },
    {
      "cell_type": "code",
      "execution_count": 31,
      "metadata": {},
      "outputs": [
        {
          "name": "stdout",
          "output_type": "stream",
          "text": [
            "heading 6 is main_camera_mp\n",
            "recount_True: 3412\n",
            "duplicates_list:\n",
            "0       False\n",
            "1        True\n",
            "2        True\n",
            "3        True\n",
            "4        True\n",
            "        ...  \n",
            "3449     True\n",
            "3450     True\n",
            "3451     True\n",
            "3452     True\n",
            "3453     True\n",
            "Name: main_camera_mp, Length: 3454, dtype: bool\n",
            "duplicates_list: 3454\n"
          ]
        },
        {
          "data": {
            "application/javascript": "\n            setTimeout(function() {\n                var nbb_cell_id = 31;\n                var nbb_unformatted_code = \"for count_3, heading_count_3 in enumerate(headings_list):\\n    if (count_3==5):\\n        print('heading ', count_3 + 1, ' is ', heading_count_3, sep='')\\n\\n    if (count_3==5):\\n        break\\nheading_2_to_15(heading_count_3) # (heading 6 is main_camera_mp)\";\n                var nbb_formatted_code = \"for count_3, heading_count_3 in enumerate(headings_list):\\n    if count_3 == 5:\\n        print(\\\"heading \\\", count_3 + 1, \\\" is \\\", heading_count_3, sep=\\\"\\\")\\n\\n    if count_3 == 5:\\n        break\\nheading_2_to_15(heading_count_3)  # (heading 6 is main_camera_mp)\";\n                var nbb_cells = Jupyter.notebook.get_cells();\n                for (var i = 0; i < nbb_cells.length; ++i) {\n                    if (nbb_cells[i].input_prompt_number == nbb_cell_id) {\n                        if (nbb_cells[i].get_text() == nbb_unformatted_code) {\n                             nbb_cells[i].set_text(nbb_formatted_code);\n                        }\n                        break;\n                    }\n                }\n            }, 500);\n            ",
            "text/plain": [
              "<IPython.core.display.Javascript object>"
            ]
          },
          "metadata": {},
          "output_type": "display_data"
        }
      ],
      "source": [
        "for count_3, heading_count_3 in enumerate(headings_list):\n",
        "    if (count_3==5):\n",
        "        print('heading ', count_3 + 1, ' is ', heading_count_3, sep='')\n",
        "\n",
        "    if (count_3==5):\n",
        "        break\n",
        "heading_2_to_15(heading_count_3) # (heading 6 is main_camera_mp)"
      ]
    },
    {
      "cell_type": "code",
      "execution_count": 32,
      "metadata": {},
      "outputs": [
        {
          "name": "stdout",
          "output_type": "stream",
          "text": [
            "heading 7 is selfie_camera_mp\n",
            "recount_True: 3416\n",
            "duplicates_list:\n",
            "0       False\n",
            "1       False\n",
            "2       False\n",
            "3        True\n",
            "4        True\n",
            "        ...  \n",
            "3449     True\n",
            "3450     True\n",
            "3451     True\n",
            "3452     True\n",
            "3453     True\n",
            "Name: selfie_camera_mp, Length: 3454, dtype: bool\n",
            "duplicates_list: 3454\n"
          ]
        },
        {
          "data": {
            "application/javascript": "\n            setTimeout(function() {\n                var nbb_cell_id = 32;\n                var nbb_unformatted_code = \"for count_3, heading_count_3 in enumerate(headings_list):\\n    if (count_3==6):\\n        print('heading ', count_3 + 1, ' is ', heading_count_3, sep='')\\n\\n    if (count_3==6):\\n        break\\nheading_2_to_15(heading_count_3) # (heading 7 is selfie_camera_mp)\";\n                var nbb_formatted_code = \"for count_3, heading_count_3 in enumerate(headings_list):\\n    if count_3 == 6:\\n        print(\\\"heading \\\", count_3 + 1, \\\" is \\\", heading_count_3, sep=\\\"\\\")\\n\\n    if count_3 == 6:\\n        break\\nheading_2_to_15(heading_count_3)  # (heading 7 is selfie_camera_mp)\";\n                var nbb_cells = Jupyter.notebook.get_cells();\n                for (var i = 0; i < nbb_cells.length; ++i) {\n                    if (nbb_cells[i].input_prompt_number == nbb_cell_id) {\n                        if (nbb_cells[i].get_text() == nbb_unformatted_code) {\n                             nbb_cells[i].set_text(nbb_formatted_code);\n                        }\n                        break;\n                    }\n                }\n            }, 500);\n            ",
            "text/plain": [
              "<IPython.core.display.Javascript object>"
            ]
          },
          "metadata": {},
          "output_type": "display_data"
        }
      ],
      "source": [
        "for count_3, heading_count_3 in enumerate(headings_list):\n",
        "    if (count_3==6):\n",
        "        print('heading ', count_3 + 1, ' is ', heading_count_3, sep='')\n",
        "\n",
        "    if (count_3==6):\n",
        "        break\n",
        "heading_2_to_15(heading_count_3) # (heading 7 is selfie_camera_mp)"
      ]
    },
    {
      "cell_type": "code",
      "execution_count": 33,
      "metadata": {},
      "outputs": [
        {
          "name": "stdout",
          "output_type": "stream",
          "text": [
            "heading 8 is int_memory\n",
            "recount_True: 3438\n",
            "duplicates_list:\n",
            "0       False\n",
            "1       False\n",
            "2        True\n",
            "3        True\n",
            "4        True\n",
            "        ...  \n",
            "3449     True\n",
            "3450     True\n",
            "3451     True\n",
            "3452     True\n",
            "3453     True\n",
            "Name: int_memory, Length: 3454, dtype: bool\n",
            "duplicates_list: 3454\n"
          ]
        },
        {
          "data": {
            "application/javascript": "\n            setTimeout(function() {\n                var nbb_cell_id = 33;\n                var nbb_unformatted_code = \"for count_3, heading_count_3 in enumerate(headings_list):\\n    if (count_3==7):\\n        print('heading ', count_3 + 1, ' is ', heading_count_3, sep='')\\n\\n    if (count_3==7):\\n        break\\nheading_2_to_15(heading_count_3)\";\n                var nbb_formatted_code = \"for count_3, heading_count_3 in enumerate(headings_list):\\n    if count_3 == 7:\\n        print(\\\"heading \\\", count_3 + 1, \\\" is \\\", heading_count_3, sep=\\\"\\\")\\n\\n    if count_3 == 7:\\n        break\\nheading_2_to_15(heading_count_3)\";\n                var nbb_cells = Jupyter.notebook.get_cells();\n                for (var i = 0; i < nbb_cells.length; ++i) {\n                    if (nbb_cells[i].input_prompt_number == nbb_cell_id) {\n                        if (nbb_cells[i].get_text() == nbb_unformatted_code) {\n                             nbb_cells[i].set_text(nbb_formatted_code);\n                        }\n                        break;\n                    }\n                }\n            }, 500);\n            ",
            "text/plain": [
              "<IPython.core.display.Javascript object>"
            ]
          },
          "metadata": {},
          "output_type": "display_data"
        }
      ],
      "source": [
        "for count_3, heading_count_3 in enumerate(headings_list):\n",
        "    if (count_3==7):\n",
        "        print('heading ', count_3 + 1, ' is ', heading_count_3, sep='')\n",
        "\n",
        "    if (count_3==7):\n",
        "        break\n",
        "heading_2_to_15(heading_count_3)"
      ]
    },
    {
      "cell_type": "code",
      "execution_count": 34,
      "metadata": {},
      "outputs": [
        {
          "name": "stdout",
          "output_type": "stream",
          "text": [
            "heading 9 is ram\n",
            "recount_True: 3441\n",
            "duplicates_list:\n",
            "0       False\n",
            "1       False\n",
            "2        True\n",
            "3       False\n",
            "4        True\n",
            "        ...  \n",
            "3449     True\n",
            "3450     True\n",
            "3451     True\n",
            "3452     True\n",
            "3453     True\n",
            "Name: ram, Length: 3454, dtype: bool\n",
            "duplicates_list: 3454\n"
          ]
        },
        {
          "data": {
            "application/javascript": "\n            setTimeout(function() {\n                var nbb_cell_id = 34;\n                var nbb_unformatted_code = \"for count_3, heading_count_3 in enumerate(headings_list):\\n    if (count_3==8):\\n        print('heading ', count_3 + 1, ' is ', heading_count_3, sep='')\\n\\n    if (count_3==8):\\n        break\\nheading_2_to_15(heading_count_3)\";\n                var nbb_formatted_code = \"for count_3, heading_count_3 in enumerate(headings_list):\\n    if count_3 == 8:\\n        print(\\\"heading \\\", count_3 + 1, \\\" is \\\", heading_count_3, sep=\\\"\\\")\\n\\n    if count_3 == 8:\\n        break\\nheading_2_to_15(heading_count_3)\";\n                var nbb_cells = Jupyter.notebook.get_cells();\n                for (var i = 0; i < nbb_cells.length; ++i) {\n                    if (nbb_cells[i].input_prompt_number == nbb_cell_id) {\n                        if (nbb_cells[i].get_text() == nbb_unformatted_code) {\n                             nbb_cells[i].set_text(nbb_formatted_code);\n                        }\n                        break;\n                    }\n                }\n            }, 500);\n            ",
            "text/plain": [
              "<IPython.core.display.Javascript object>"
            ]
          },
          "metadata": {},
          "output_type": "display_data"
        }
      ],
      "source": [
        "for count_3, heading_count_3 in enumerate(headings_list):\n",
        "    if (count_3==8):\n",
        "        print('heading ', count_3 + 1, ' is ', heading_count_3, sep='')\n",
        "\n",
        "    if (count_3==8):\n",
        "        break\n",
        "heading_2_to_15(heading_count_3)"
      ]
    },
    {
      "cell_type": "code",
      "execution_count": 35,
      "metadata": {},
      "outputs": [
        {
          "name": "stdout",
          "output_type": "stream",
          "text": [
            "heading 10 is battery\n",
            "recount_True: 3129\n",
            "duplicates_list:\n",
            "0       False\n",
            "1       False\n",
            "2       False\n",
            "3       False\n",
            "4       False\n",
            "        ...  \n",
            "3449     True\n",
            "3450     True\n",
            "3451     True\n",
            "3452     True\n",
            "3453     True\n",
            "Name: battery, Length: 3454, dtype: bool\n",
            "duplicates_list: 3454\n"
          ]
        },
        {
          "data": {
            "application/javascript": "\n            setTimeout(function() {\n                var nbb_cell_id = 35;\n                var nbb_unformatted_code = \"for count_3, heading_count_3 in enumerate(headings_list):\\n    if (count_3==9):\\n        print('heading ', count_3 + 1, ' is ', heading_count_3, sep='')\\n\\n    if (count_3==9):\\n        break\\nheading_2_to_15(heading_count_3)\";\n                var nbb_formatted_code = \"for count_3, heading_count_3 in enumerate(headings_list):\\n    if count_3 == 9:\\n        print(\\\"heading \\\", count_3 + 1, \\\" is \\\", heading_count_3, sep=\\\"\\\")\\n\\n    if count_3 == 9:\\n        break\\nheading_2_to_15(heading_count_3)\";\n                var nbb_cells = Jupyter.notebook.get_cells();\n                for (var i = 0; i < nbb_cells.length; ++i) {\n                    if (nbb_cells[i].input_prompt_number == nbb_cell_id) {\n                        if (nbb_cells[i].get_text() == nbb_unformatted_code) {\n                             nbb_cells[i].set_text(nbb_formatted_code);\n                        }\n                        break;\n                    }\n                }\n            }, 500);\n            ",
            "text/plain": [
              "<IPython.core.display.Javascript object>"
            ]
          },
          "metadata": {},
          "output_type": "display_data"
        }
      ],
      "source": [
        "for count_3, heading_count_3 in enumerate(headings_list):\n",
        "    if (count_3==9):\n",
        "        print('heading ', count_3 + 1, ' is ', heading_count_3, sep='')\n",
        "\n",
        "    if (count_3==9):\n",
        "        break\n",
        "heading_2_to_15(heading_count_3)"
      ]
    },
    {
      "cell_type": "code",
      "execution_count": 36,
      "metadata": {},
      "outputs": [
        {
          "name": "stdout",
          "output_type": "stream",
          "text": [
            "heading 11 is weight\n",
            "recount_True: 2898\n",
            "duplicates_list:\n",
            "0       False\n",
            "1       False\n",
            "2        True\n",
            "3       False\n",
            "4       False\n",
            "        ...  \n",
            "3449     True\n",
            "3450     True\n",
            "3451     True\n",
            "3452     True\n",
            "3453     True\n",
            "Name: weight, Length: 3454, dtype: bool\n",
            "duplicates_list: 3454\n"
          ]
        },
        {
          "data": {
            "application/javascript": "\n            setTimeout(function() {\n                var nbb_cell_id = 36;\n                var nbb_unformatted_code = \"for count_3, heading_count_3 in enumerate(headings_list):\\n    if (count_3==10):\\n        print('heading ', count_3 + 1, ' is ', heading_count_3, sep='')\\n\\n    if (count_3==10):\\n        break\\nheading_2_to_15(heading_count_3)\";\n                var nbb_formatted_code = \"for count_3, heading_count_3 in enumerate(headings_list):\\n    if count_3 == 10:\\n        print(\\\"heading \\\", count_3 + 1, \\\" is \\\", heading_count_3, sep=\\\"\\\")\\n\\n    if count_3 == 10:\\n        break\\nheading_2_to_15(heading_count_3)\";\n                var nbb_cells = Jupyter.notebook.get_cells();\n                for (var i = 0; i < nbb_cells.length; ++i) {\n                    if (nbb_cells[i].input_prompt_number == nbb_cell_id) {\n                        if (nbb_cells[i].get_text() == nbb_unformatted_code) {\n                             nbb_cells[i].set_text(nbb_formatted_code);\n                        }\n                        break;\n                    }\n                }\n            }, 500);\n            ",
            "text/plain": [
              "<IPython.core.display.Javascript object>"
            ]
          },
          "metadata": {},
          "output_type": "display_data"
        }
      ],
      "source": [
        "for count_3, heading_count_3 in enumerate(headings_list):\n",
        "    if (count_3==10):\n",
        "        print('heading ', count_3 + 1, ' is ', heading_count_3, sep='')\n",
        "\n",
        "    if (count_3==10):\n",
        "        break\n",
        "heading_2_to_15(heading_count_3)"
      ]
    },
    {
      "cell_type": "code",
      "execution_count": 37,
      "metadata": {},
      "outputs": [
        {
          "name": "stdout",
          "output_type": "stream",
          "text": [
            "heading 12 is release_year\n",
            "recount_True: 3446\n",
            "duplicates_list:\n",
            "0       False\n",
            "1        True\n",
            "2        True\n",
            "3        True\n",
            "4        True\n",
            "        ...  \n",
            "3449     True\n",
            "3450     True\n",
            "3451     True\n",
            "3452     True\n",
            "3453     True\n",
            "Name: release_year, Length: 3454, dtype: bool\n",
            "duplicates_list: 3454\n"
          ]
        },
        {
          "data": {
            "application/javascript": "\n            setTimeout(function() {\n                var nbb_cell_id = 37;\n                var nbb_unformatted_code = \"for count_3, heading_count_3 in enumerate(headings_list):\\n    if (count_3==11):\\n        print('heading ', count_3 + 1, ' is ', heading_count_3, sep='')\\n\\n    if (count_3==11):\\n        break\\nheading_2_to_15(heading_count_3)\";\n                var nbb_formatted_code = \"for count_3, heading_count_3 in enumerate(headings_list):\\n    if count_3 == 11:\\n        print(\\\"heading \\\", count_3 + 1, \\\" is \\\", heading_count_3, sep=\\\"\\\")\\n\\n    if count_3 == 11:\\n        break\\nheading_2_to_15(heading_count_3)\";\n                var nbb_cells = Jupyter.notebook.get_cells();\n                for (var i = 0; i < nbb_cells.length; ++i) {\n                    if (nbb_cells[i].input_prompt_number == nbb_cell_id) {\n                        if (nbb_cells[i].get_text() == nbb_unformatted_code) {\n                             nbb_cells[i].set_text(nbb_formatted_code);\n                        }\n                        break;\n                    }\n                }\n            }, 500);\n            ",
            "text/plain": [
              "<IPython.core.display.Javascript object>"
            ]
          },
          "metadata": {},
          "output_type": "display_data"
        }
      ],
      "source": [
        "for count_3, heading_count_3 in enumerate(headings_list):\n",
        "    if (count_3==11):\n",
        "        print('heading ', count_3 + 1, ' is ', heading_count_3, sep='')\n",
        "\n",
        "    if (count_3==11):\n",
        "        break\n",
        "heading_2_to_15(heading_count_3)"
      ]
    },
    {
      "cell_type": "code",
      "execution_count": 38,
      "metadata": {},
      "outputs": [
        {
          "name": "stdout",
          "output_type": "stream",
          "text": [
            "heading 13 is days_used\n",
            "recount_True: 2530\n",
            "duplicates_list:\n",
            "0       False\n",
            "1       False\n",
            "2       False\n",
            "3       False\n",
            "4       False\n",
            "        ...  \n",
            "3449     True\n",
            "3450     True\n",
            "3451     True\n",
            "3452    False\n",
            "3453     True\n",
            "Name: days_used, Length: 3454, dtype: bool\n",
            "duplicates_list: 3454\n"
          ]
        },
        {
          "data": {
            "application/javascript": "\n            setTimeout(function() {\n                var nbb_cell_id = 38;\n                var nbb_unformatted_code = \"for count_3, heading_count_3 in enumerate(headings_list):\\n    if (count_3==12):\\n        print('heading ', count_3 + 1, ' is ', heading_count_3, sep='')\\n\\n    if (count_3==12):\\n        break\\nheading_2_to_15(heading_count_3)\";\n                var nbb_formatted_code = \"for count_3, heading_count_3 in enumerate(headings_list):\\n    if count_3 == 12:\\n        print(\\\"heading \\\", count_3 + 1, \\\" is \\\", heading_count_3, sep=\\\"\\\")\\n\\n    if count_3 == 12:\\n        break\\nheading_2_to_15(heading_count_3)\";\n                var nbb_cells = Jupyter.notebook.get_cells();\n                for (var i = 0; i < nbb_cells.length; ++i) {\n                    if (nbb_cells[i].input_prompt_number == nbb_cell_id) {\n                        if (nbb_cells[i].get_text() == nbb_unformatted_code) {\n                             nbb_cells[i].set_text(nbb_formatted_code);\n                        }\n                        break;\n                    }\n                }\n            }, 500);\n            ",
            "text/plain": [
              "<IPython.core.display.Javascript object>"
            ]
          },
          "metadata": {},
          "output_type": "display_data"
        }
      ],
      "source": [
        "for count_3, heading_count_3 in enumerate(headings_list):\n",
        "    if (count_3==12):\n",
        "        print('heading ', count_3 + 1, ' is ', heading_count_3, sep='')\n",
        "\n",
        "    if (count_3==12):\n",
        "        break\n",
        "heading_2_to_15(heading_count_3)"
      ]
    },
    {
      "cell_type": "code",
      "execution_count": 39,
      "metadata": {},
      "outputs": [
        {
          "name": "stdout",
          "output_type": "stream",
          "text": [
            "heading 14 is normalized_used_price\n",
            "recount_True: 360\n",
            "duplicates_list:\n",
            "0       False\n",
            "1       False\n",
            "2       False\n",
            "3       False\n",
            "4       False\n",
            "        ...  \n",
            "3449    False\n",
            "3450    False\n",
            "3451    False\n",
            "3452    False\n",
            "3453     True\n",
            "Name: normalized_used_price, Length: 3454, dtype: bool\n",
            "duplicates_list: 3454\n"
          ]
        },
        {
          "data": {
            "application/javascript": "\n            setTimeout(function() {\n                var nbb_cell_id = 39;\n                var nbb_unformatted_code = \"for count_3, heading_count_3 in enumerate(headings_list):\\n    if (count_3==13):\\n        print('heading ', count_3 + 1, ' is ', heading_count_3, sep='')\\n\\n    if (count_3==13):\\n        break\\nheading_2_to_15(heading_count_3)\";\n                var nbb_formatted_code = \"for count_3, heading_count_3 in enumerate(headings_list):\\n    if count_3 == 13:\\n        print(\\\"heading \\\", count_3 + 1, \\\" is \\\", heading_count_3, sep=\\\"\\\")\\n\\n    if count_3 == 13:\\n        break\\nheading_2_to_15(heading_count_3)\";\n                var nbb_cells = Jupyter.notebook.get_cells();\n                for (var i = 0; i < nbb_cells.length; ++i) {\n                    if (nbb_cells[i].input_prompt_number == nbb_cell_id) {\n                        if (nbb_cells[i].get_text() == nbb_unformatted_code) {\n                             nbb_cells[i].set_text(nbb_formatted_code);\n                        }\n                        break;\n                    }\n                }\n            }, 500);\n            ",
            "text/plain": [
              "<IPython.core.display.Javascript object>"
            ]
          },
          "metadata": {},
          "output_type": "display_data"
        }
      ],
      "source": [
        "for count_3, heading_count_3 in enumerate(headings_list):\n",
        "    if (count_3==13):\n",
        "        print('heading ', count_3 + 1, ' is ', heading_count_3, sep='')\n",
        "\n",
        "    if (count_3==13):\n",
        "        break\n",
        "heading_2_to_15(heading_count_3)"
      ]
    },
    {
      "cell_type": "code",
      "execution_count": 40,
      "metadata": {},
      "outputs": [
        {
          "name": "stdout",
          "output_type": "stream",
          "text": [
            "heading 15 is normalized_new_price\n",
            "recount_True: 466\n",
            "duplicates_list:\n",
            "0       False\n",
            "1       False\n",
            "2       False\n",
            "3       False\n",
            "4       False\n",
            "        ...  \n",
            "3449    False\n",
            "3450    False\n",
            "3451     True\n",
            "3452    False\n",
            "3453    False\n",
            "Name: normalized_new_price, Length: 3454, dtype: bool\n",
            "duplicates_list: 3454\n"
          ]
        },
        {
          "data": {
            "application/javascript": "\n            setTimeout(function() {\n                var nbb_cell_id = 40;\n                var nbb_unformatted_code = \"for count_3, heading_count_3 in enumerate(headings_list):\\n    if (count_3==14):\\n        print('heading ', count_3 + 1, ' is ', heading_count_3, sep='')\\n\\n    if (count_3==14):\\n        break\\nheading_2_to_15(heading_count_3)\";\n                var nbb_formatted_code = \"for count_3, heading_count_3 in enumerate(headings_list):\\n    if count_3 == 14:\\n        print(\\\"heading \\\", count_3 + 1, \\\" is \\\", heading_count_3, sep=\\\"\\\")\\n\\n    if count_3 == 14:\\n        break\\nheading_2_to_15(heading_count_3)\";\n                var nbb_cells = Jupyter.notebook.get_cells();\n                for (var i = 0; i < nbb_cells.length; ++i) {\n                    if (nbb_cells[i].input_prompt_number == nbb_cell_id) {\n                        if (nbb_cells[i].get_text() == nbb_unformatted_code) {\n                             nbb_cells[i].set_text(nbb_formatted_code);\n                        }\n                        break;\n                    }\n                }\n            }, 500);\n            ",
            "text/plain": [
              "<IPython.core.display.Javascript object>"
            ]
          },
          "metadata": {},
          "output_type": "display_data"
        }
      ],
      "source": [
        "for count_3, heading_count_3 in enumerate(headings_list):\n",
        "    if (count_3==14):\n",
        "        print('heading ', count_3 + 1, ' is ', heading_count_3, sep='')\n",
        "\n",
        "    if (count_3==14):\n",
        "        break\n",
        "heading_2_to_15(heading_count_3)"
      ]
    },
    {
      "attachments": {},
      "cell_type": "markdown",
      "metadata": {},
      "source": [
        "checkpoint for 15 heading _ s run - DONE"
      ]
    },
    {
      "cell_type": "code",
      "execution_count": 41,
      "metadata": {
        "colab": {
          "base_uri": "https://localhost:8080/"
        },
        "id": "d_-SRjz1qLam",
        "outputId": "20a515a5-13a4-4e15-98b2-8585dcefddbf"
      },
      "outputs": [
        {
          "data": {
            "application/javascript": "\n            setTimeout(function() {\n                var nbb_cell_id = 41;\n                var nbb_unformatted_code = \"# len(duplicates_list)\";\n                var nbb_formatted_code = \"# len(duplicates_list)\";\n                var nbb_cells = Jupyter.notebook.get_cells();\n                for (var i = 0; i < nbb_cells.length; ++i) {\n                    if (nbb_cells[i].input_prompt_number == nbb_cell_id) {\n                        if (nbb_cells[i].get_text() == nbb_unformatted_code) {\n                             nbb_cells[i].set_text(nbb_formatted_code);\n                        }\n                        break;\n                    }\n                }\n            }, 500);\n            ",
            "text/plain": [
              "<IPython.core.display.Javascript object>"
            ]
          },
          "metadata": {},
          "output_type": "display_data"
        }
      ],
      "source": [
        "# len(duplicates_list)"
      ]
    },
    {
      "cell_type": "code",
      "execution_count": 42,
      "metadata": {
        "colab": {
          "base_uri": "https://localhost:8080/"
        },
        "id": "7yhjsEOup3OJ",
        "outputId": "af236f96-4605-4e04-f931-e5b94f9c052e"
      },
      "outputs": [
        {
          "data": {
            "application/javascript": "\n            setTimeout(function() {\n                var nbb_cell_id = 42;\n                var nbb_unformatted_code = \"# if len(duplicates_list)==countF:\\n#   print(\\\"all values are False\\\")\";\n                var nbb_formatted_code = \"# if len(duplicates_list)==countF:\\n#   print(\\\"all values are False\\\")\";\n                var nbb_cells = Jupyter.notebook.get_cells();\n                for (var i = 0; i < nbb_cells.length; ++i) {\n                    if (nbb_cells[i].input_prompt_number == nbb_cell_id) {\n                        if (nbb_cells[i].get_text() == nbb_unformatted_code) {\n                             nbb_cells[i].set_text(nbb_formatted_code);\n                        }\n                        break;\n                    }\n                }\n            }, 500);\n            ",
            "text/plain": [
              "<IPython.core.display.Javascript object>"
            ]
          },
          "metadata": {},
          "output_type": "display_data"
        }
      ],
      "source": [
        "# if len(duplicates_list)==countF:\n",
        "#   print(\"all values are False\")"
      ]
    },
    {
      "cell_type": "code",
      "execution_count": 43,
      "metadata": {},
      "outputs": [
        {
          "data": {
            "text/plain": [
              "0       False\n",
              "1       False\n",
              "2       False\n",
              "3       False\n",
              "4       False\n",
              "        ...  \n",
              "3449    False\n",
              "3450    False\n",
              "3451    False\n",
              "3452    False\n",
              "3453    False\n",
              "Length: 3454, dtype: bool"
            ]
          },
          "execution_count": 43,
          "metadata": {},
          "output_type": "execute_result"
        },
        {
          "data": {
            "application/javascript": "\n            setTimeout(function() {\n                var nbb_cell_id = 43;\n                var nbb_unformatted_code = \"data.duplicated()\";\n                var nbb_formatted_code = \"data.duplicated()\";\n                var nbb_cells = Jupyter.notebook.get_cells();\n                for (var i = 0; i < nbb_cells.length; ++i) {\n                    if (nbb_cells[i].input_prompt_number == nbb_cell_id) {\n                        if (nbb_cells[i].get_text() == nbb_unformatted_code) {\n                             nbb_cells[i].set_text(nbb_formatted_code);\n                        }\n                        break;\n                    }\n                }\n            }, 500);\n            ",
            "text/plain": [
              "<IPython.core.display.Javascript object>"
            ]
          },
          "metadata": {},
          "output_type": "display_data"
        }
      ],
      "source": [
        "data.duplicated()"
      ]
    },
    {
      "cell_type": "code",
      "execution_count": 44,
      "metadata": {
        "colab": {
          "base_uri": "https://localhost:8080/"
        },
        "id": "W9SG4hsk9SXM",
        "outputId": "10ba9c80-a82a-465c-8442-7dc375947cf9"
      },
      "outputs": [
        {
          "name": "stdout",
          "output_type": "stream",
          "text": [
            "Empty DataFrame\n",
            "Columns: [brand_name, os, screen_size, 4g, 5g, main_camera_mp, selfie_camera_mp, int_memory, ram, battery, weight, release_year, days_used, normalized_used_price, normalized_new_price]\n",
            "Index: []\n"
          ]
        },
        {
          "data": {
            "application/javascript": "\n            setTimeout(function() {\n                var nbb_cell_id = 44;\n                var nbb_unformatted_code = \"duplicate = data[data.duplicated()]\\nprint(duplicate)\";\n                var nbb_formatted_code = \"duplicate = data[data.duplicated()]\\nprint(duplicate)\";\n                var nbb_cells = Jupyter.notebook.get_cells();\n                for (var i = 0; i < nbb_cells.length; ++i) {\n                    if (nbb_cells[i].input_prompt_number == nbb_cell_id) {\n                        if (nbb_cells[i].get_text() == nbb_unformatted_code) {\n                             nbb_cells[i].set_text(nbb_formatted_code);\n                        }\n                        break;\n                    }\n                }\n            }, 500);\n            ",
            "text/plain": [
              "<IPython.core.display.Javascript object>"
            ]
          },
          "metadata": {},
          "output_type": "display_data"
        }
      ],
      "source": [
        "duplicate = data[data.duplicated()]\n",
        "print(duplicate)"
      ]
    },
    {
      "cell_type": "markdown",
      "metadata": {
        "id": "Ch_TjRfF-qT5"
      },
      "source": [
        "### Checking for missing values"
      ]
    },
    {
      "cell_type": "code",
      "execution_count": 45,
      "metadata": {
        "id": "c10B9HMNWq9K"
      },
      "outputs": [
        {
          "data": {
            "text/plain": [
              "0       False\n",
              "1       False\n",
              "2       False\n",
              "3       False\n",
              "4       False\n",
              "        ...  \n",
              "3449    False\n",
              "3450    False\n",
              "3451    False\n",
              "3452    False\n",
              "3453    False\n",
              "Length: 3454, dtype: bool"
            ]
          },
          "execution_count": 45,
          "metadata": {},
          "output_type": "execute_result"
        },
        {
          "data": {
            "application/javascript": "\n            setTimeout(function() {\n                var nbb_cell_id = 45;\n                var nbb_unformatted_code = \"data.duplicated() ## Complete the code to check duplicate entries in the data\";\n                var nbb_formatted_code = \"data.duplicated()  ## Complete the code to check duplicate entries in the data\";\n                var nbb_cells = Jupyter.notebook.get_cells();\n                for (var i = 0; i < nbb_cells.length; ++i) {\n                    if (nbb_cells[i].input_prompt_number == nbb_cell_id) {\n                        if (nbb_cells[i].get_text() == nbb_unformatted_code) {\n                             nbb_cells[i].set_text(nbb_formatted_code);\n                        }\n                        break;\n                    }\n                }\n            }, 500);\n            ",
            "text/plain": [
              "<IPython.core.display.Javascript object>"
            ]
          },
          "metadata": {},
          "output_type": "display_data"
        }
      ],
      "source": [
        "data.duplicated() ## Complete the code to check duplicate entries in the data"
      ]
    },
    {
      "cell_type": "code",
      "execution_count": 46,
      "metadata": {
        "id": "Z4HfMUSiWxBT"
      },
      "outputs": [
        {
          "data": {
            "application/javascript": "\n            setTimeout(function() {\n                var nbb_cell_id = 46;\n                var nbb_unformatted_code = \"# creating a copy of the data so that original data remains unchanged\\ndf = data.copy()\";\n                var nbb_formatted_code = \"# creating a copy of the data so that original data remains unchanged\\ndf = data.copy()\";\n                var nbb_cells = Jupyter.notebook.get_cells();\n                for (var i = 0; i < nbb_cells.length; ++i) {\n                    if (nbb_cells[i].input_prompt_number == nbb_cell_id) {\n                        if (nbb_cells[i].get_text() == nbb_unformatted_code) {\n                             nbb_cells[i].set_text(nbb_formatted_code);\n                        }\n                        break;\n                    }\n                }\n            }, 500);\n            ",
            "text/plain": [
              "<IPython.core.display.Javascript object>"
            ]
          },
          "metadata": {},
          "output_type": "display_data"
        }
      ],
      "source": [
        "# creating a copy of the data so that original data remains unchanged\n",
        "df = data.copy()"
      ]
    },
    {
      "cell_type": "markdown",
      "metadata": {
        "id": "DhPuzWO7hmV8"
      },
      "source": [
        "## Exploratory Data Analysis"
      ]
    },
    {
      "cell_type": "markdown",
      "metadata": {
        "id": "uxiNWC9JhmV8"
      },
      "source": [
        "### Univariate Analysis"
      ]
    },
    {
      "cell_type": "code",
      "execution_count": 47,
      "metadata": {
        "id": "opT6eO8qhmV8"
      },
      "outputs": [
        {
          "data": {
            "application/javascript": "\n            setTimeout(function() {\n                var nbb_cell_id = 47;\n                var nbb_unformatted_code = \"# function to plot a boxplot and a histogram along the same scale.\\n\\n\\ndef histogram_boxplot(data, feature, figsize=(15, 10), kde=False, bins=None):\\n    \\\"\\\"\\\"\\n    Boxplot and histogram combined\\n\\n    data: dataframe\\n    feature: dataframe column\\n    figsize: size of figure (default (15,10))\\n    kde: whether to show the density curve (default False)\\n    bins: number of bins for histogram (default None)\\n    \\\"\\\"\\\"\\n    f2, (ax_box2, ax_hist2) = plt.subplots(\\n        nrows=2,  # Number of rows of the subplot grid= 2\\n        sharex=True,  # x-axis will be shared among all subplots\\n        gridspec_kw={\\\"height_ratios\\\": (0.25, 0.75)},\\n        figsize=figsize,\\n    )  # creating the 2 subplots\\n    sns.boxplot(\\n        data=data, x=feature, ax=ax_box2, showmeans=True, color=\\\"violet\\\"\\n    )  # boxplot will be created and a triangle will indicate the mean value of the column\\n    sns.histplot(\\n        data=data, x=feature, kde=kde, ax=ax_hist2, bins=bins\\n    ) if bins else sns.histplot(\\n        data=data, x=feature, kde=kde, ax=ax_hist2\\n    )  # For histogram\\n    ax_hist2.axvline(\\n        data[feature].mean(), color=\\\"green\\\", linestyle=\\\"--\\\"\\n    )  # Add mean to the histogram\\n    ax_hist2.axvline(\\n        data[feature].median(), color=\\\"black\\\", linestyle=\\\"-\\\"\\n    )  # Add median to the histogram\";\n                var nbb_formatted_code = \"# function to plot a boxplot and a histogram along the same scale.\\n\\n\\ndef histogram_boxplot(data, feature, figsize=(15, 10), kde=False, bins=None):\\n    \\\"\\\"\\\"\\n    Boxplot and histogram combined\\n\\n    data: dataframe\\n    feature: dataframe column\\n    figsize: size of figure (default (15,10))\\n    kde: whether to show the density curve (default False)\\n    bins: number of bins for histogram (default None)\\n    \\\"\\\"\\\"\\n    f2, (ax_box2, ax_hist2) = plt.subplots(\\n        nrows=2,  # Number of rows of the subplot grid= 2\\n        sharex=True,  # x-axis will be shared among all subplots\\n        gridspec_kw={\\\"height_ratios\\\": (0.25, 0.75)},\\n        figsize=figsize,\\n    )  # creating the 2 subplots\\n    sns.boxplot(\\n        data=data, x=feature, ax=ax_box2, showmeans=True, color=\\\"violet\\\"\\n    )  # boxplot will be created and a triangle will indicate the mean value of the column\\n    sns.histplot(\\n        data=data, x=feature, kde=kde, ax=ax_hist2, bins=bins\\n    ) if bins else sns.histplot(\\n        data=data, x=feature, kde=kde, ax=ax_hist2\\n    )  # For histogram\\n    ax_hist2.axvline(\\n        data[feature].mean(), color=\\\"green\\\", linestyle=\\\"--\\\"\\n    )  # Add mean to the histogram\\n    ax_hist2.axvline(\\n        data[feature].median(), color=\\\"black\\\", linestyle=\\\"-\\\"\\n    )  # Add median to the histogram\";\n                var nbb_cells = Jupyter.notebook.get_cells();\n                for (var i = 0; i < nbb_cells.length; ++i) {\n                    if (nbb_cells[i].input_prompt_number == nbb_cell_id) {\n                        if (nbb_cells[i].get_text() == nbb_unformatted_code) {\n                             nbb_cells[i].set_text(nbb_formatted_code);\n                        }\n                        break;\n                    }\n                }\n            }, 500);\n            ",
            "text/plain": [
              "<IPython.core.display.Javascript object>"
            ]
          },
          "metadata": {},
          "output_type": "display_data"
        }
      ],
      "source": [
        "# function to plot a boxplot and a histogram along the same scale.\n",
        "\n",
        "\n",
        "def histogram_boxplot(data, feature, figsize=(15, 10), kde=False, bins=None):\n",
        "    \"\"\"\n",
        "    Boxplot and histogram combined\n",
        "\n",
        "    data: dataframe\n",
        "    feature: dataframe column\n",
        "    figsize: size of figure (default (15,10))\n",
        "    kde: whether to show the density curve (default False)\n",
        "    bins: number of bins for histogram (default None)\n",
        "    \"\"\"\n",
        "    f2, (ax_box2, ax_hist2) = plt.subplots(\n",
        "        nrows=2,  # Number of rows of the subplot grid= 2\n",
        "        sharex=True,  # x-axis will be shared among all subplots\n",
        "        gridspec_kw={\"height_ratios\": (0.25, 0.75)},\n",
        "        figsize=figsize,\n",
        "    )  # creating the 2 subplots\n",
        "    sns.boxplot(\n",
        "        data=data, x=feature, ax=ax_box2, showmeans=True, color=\"violet\"\n",
        "    )  # boxplot will be created and a triangle will indicate the mean value of the column\n",
        "    sns.histplot(\n",
        "        data=data, x=feature, kde=kde, ax=ax_hist2, bins=bins\n",
        "    ) if bins else sns.histplot(\n",
        "        data=data, x=feature, kde=kde, ax=ax_hist2\n",
        "    )  # For histogram\n",
        "    ax_hist2.axvline(\n",
        "        data[feature].mean(), color=\"green\", linestyle=\"--\"\n",
        "    )  # Add mean to the histogram\n",
        "    ax_hist2.axvline(\n",
        "        data[feature].median(), color=\"black\", linestyle=\"-\"\n",
        "    )  # Add median to the histogram"
      ]
    },
    {
      "cell_type": "code",
      "execution_count": 48,
      "metadata": {
        "id": "1I7psbWYhmWD"
      },
      "outputs": [
        {
          "data": {
            "application/javascript": "\n            setTimeout(function() {\n                var nbb_cell_id = 48;\n                var nbb_unformatted_code = \"# function to create labeled barplots\\n\\n\\ndef labeled_barplot(data, feature, perc=False, n=None):\\n    \\\"\\\"\\\"\\n    Barplot with percentage at the top\\n\\n    data: dataframe\\n    feature: dataframe column\\n    perc: whether to display percentages instead of count (default is False)\\n    n: displays the top n category levels (default is None, i.e., display all levels)\\n    \\\"\\\"\\\"\\n\\n    total = len(data[feature])  # length of the column\\n    count = data[feature].nunique()\\n    if n is None:\\n        plt.figure(figsize=(count + 2, 6))\\n    else:\\n        plt.figure(figsize=(n + 2, 6))\\n\\n    plt.xticks(rotation=90, fontsize=15)\\n    ax = sns.countplot(\\n        data=data,\\n        x=feature,\\n        palette=\\\"Paired\\\",\\n        order=data[feature].value_counts().index[:n],\\n    )\\n\\n    for p in ax.patches:\\n        if perc == True:\\n            label = \\\"{:.1f}%\\\".format(\\n                100 * p.get_height() / total\\n            )  # percentage of each class of the category\\n        else:\\n            label = p.get_height()  # count of each level of the category\\n\\n        x = p.get_x() + p.get_width() / 2  # width of the plot\\n        y = p.get_height()  # height of the plot\\n\\n        ax.annotate(\\n            label,\\n            (x, y),\\n            ha=\\\"center\\\",\\n            va=\\\"center\\\",\\n            size=12,\\n            xytext=(0, 5),\\n            textcoords=\\\"offset points\\\",\\n        )  # annotate the percentage\\n\\n    plt.show()  # show the plot\";\n                var nbb_formatted_code = \"# function to create labeled barplots\\n\\n\\ndef labeled_barplot(data, feature, perc=False, n=None):\\n    \\\"\\\"\\\"\\n    Barplot with percentage at the top\\n\\n    data: dataframe\\n    feature: dataframe column\\n    perc: whether to display percentages instead of count (default is False)\\n    n: displays the top n category levels (default is None, i.e., display all levels)\\n    \\\"\\\"\\\"\\n\\n    total = len(data[feature])  # length of the column\\n    count = data[feature].nunique()\\n    if n is None:\\n        plt.figure(figsize=(count + 2, 6))\\n    else:\\n        plt.figure(figsize=(n + 2, 6))\\n\\n    plt.xticks(rotation=90, fontsize=15)\\n    ax = sns.countplot(\\n        data=data,\\n        x=feature,\\n        palette=\\\"Paired\\\",\\n        order=data[feature].value_counts().index[:n],\\n    )\\n\\n    for p in ax.patches:\\n        if perc == True:\\n            label = \\\"{:.1f}%\\\".format(\\n                100 * p.get_height() / total\\n            )  # percentage of each class of the category\\n        else:\\n            label = p.get_height()  # count of each level of the category\\n\\n        x = p.get_x() + p.get_width() / 2  # width of the plot\\n        y = p.get_height()  # height of the plot\\n\\n        ax.annotate(\\n            label,\\n            (x, y),\\n            ha=\\\"center\\\",\\n            va=\\\"center\\\",\\n            size=12,\\n            xytext=(0, 5),\\n            textcoords=\\\"offset points\\\",\\n        )  # annotate the percentage\\n\\n    plt.show()  # show the plot\";\n                var nbb_cells = Jupyter.notebook.get_cells();\n                for (var i = 0; i < nbb_cells.length; ++i) {\n                    if (nbb_cells[i].input_prompt_number == nbb_cell_id) {\n                        if (nbb_cells[i].get_text() == nbb_unformatted_code) {\n                             nbb_cells[i].set_text(nbb_formatted_code);\n                        }\n                        break;\n                    }\n                }\n            }, 500);\n            ",
            "text/plain": [
              "<IPython.core.display.Javascript object>"
            ]
          },
          "metadata": {},
          "output_type": "display_data"
        }
      ],
      "source": [
        "# function to create labeled barplots\n",
        "\n",
        "\n",
        "def labeled_barplot(data, feature, perc=False, n=None):\n",
        "    \"\"\"\n",
        "    Barplot with percentage at the top\n",
        "\n",
        "    data: dataframe\n",
        "    feature: dataframe column\n",
        "    perc: whether to display percentages instead of count (default is False)\n",
        "    n: displays the top n category levels (default is None, i.e., display all levels)\n",
        "    \"\"\"\n",
        "\n",
        "    total = len(data[feature])  # length of the column\n",
        "    count = data[feature].nunique()\n",
        "    if n is None:\n",
        "        plt.figure(figsize=(count + 2, 6))\n",
        "    else:\n",
        "        plt.figure(figsize=(n + 2, 6))\n",
        "\n",
        "    plt.xticks(rotation=90, fontsize=15)\n",
        "    ax = sns.countplot(\n",
        "        data=data,\n",
        "        x=feature,\n",
        "        palette=\"Paired\",\n",
        "        order=data[feature].value_counts().index[:n],\n",
        "    )\n",
        "\n",
        "    for p in ax.patches:\n",
        "        if perc == True:\n",
        "            label = \"{:.1f}%\".format(\n",
        "                100 * p.get_height() / total\n",
        "            )  # percentage of each class of the category\n",
        "        else:\n",
        "            label = p.get_height()  # count of each level of the category\n",
        "\n",
        "        x = p.get_x() + p.get_width() / 2  # width of the plot\n",
        "        y = p.get_height()  # height of the plot\n",
        "\n",
        "        ax.annotate(\n",
        "            label,\n",
        "            (x, y),\n",
        "            ha=\"center\",\n",
        "            va=\"center\",\n",
        "            size=12,\n",
        "            xytext=(0, 5),\n",
        "            textcoords=\"offset points\",\n",
        "        )  # annotate the percentage\n",
        "\n",
        "    plt.show()  # show the plot"
      ]
    },
    {
      "cell_type": "code",
      "execution_count": 49,
      "metadata": {},
      "outputs": [
        {
          "data": {
            "application/javascript": "\n            setTimeout(function() {\n                var nbb_cell_id = 49;\n                var nbb_unformatted_code = \"%matplotlib inline\";\n                var nbb_formatted_code = \"%matplotlib inline\";\n                var nbb_cells = Jupyter.notebook.get_cells();\n                for (var i = 0; i < nbb_cells.length; ++i) {\n                    if (nbb_cells[i].input_prompt_number == nbb_cell_id) {\n                        if (nbb_cells[i].get_text() == nbb_unformatted_code) {\n                             nbb_cells[i].set_text(nbb_formatted_code);\n                        }\n                        break;\n                    }\n                }\n            }, 500);\n            ",
            "text/plain": [
              "<IPython.core.display.Javascript object>"
            ]
          },
          "metadata": {},
          "output_type": "display_data"
        }
      ],
      "source": [
        "%matplotlib inline"
      ]
    },
    {
      "cell_type": "code",
      "execution_count": 50,
      "metadata": {},
      "outputs": [
        {
          "data": {
            "application/javascript": "\n            setTimeout(function() {\n                var nbb_cell_id = 50;\n                var nbb_unformatted_code = \"plt.show()  # show the plot\";\n                var nbb_formatted_code = \"plt.show()  # show the plot\";\n                var nbb_cells = Jupyter.notebook.get_cells();\n                for (var i = 0; i < nbb_cells.length; ++i) {\n                    if (nbb_cells[i].input_prompt_number == nbb_cell_id) {\n                        if (nbb_cells[i].get_text() == nbb_unformatted_code) {\n                             nbb_cells[i].set_text(nbb_formatted_code);\n                        }\n                        break;\n                    }\n                }\n            }, 500);\n            ",
            "text/plain": [
              "<IPython.core.display.Javascript object>"
            ]
          },
          "metadata": {},
          "output_type": "display_data"
        }
      ],
      "source": [
        "plt.show()  # show the plot"
      ]
    },
    {
      "attachments": {},
      "cell_type": "markdown",
      "metadata": {},
      "source": [
        "27/01/2022 0056 h checkpoint"
      ]
    },
    {
      "cell_type": "markdown",
      "metadata": {
        "id": "woJI2SC5hmV9"
      },
      "source": [
        "**`normalized_used_price`**"
      ]
    },
    {
      "cell_type": "code",
      "execution_count": 51,
      "metadata": {
        "id": "KOz9j7M_hmV9"
      },
      "outputs": [
        {
          "data": {
            "image/png": "[encoded data removed]",
            "text/plain": [
              "<Figure size 1500x1000 with 2 Axes>"
            ]
          },
          "metadata": {},
          "output_type": "display_data"
        },
        {
          "data": {
            "application/javascript": "\n            setTimeout(function() {\n                var nbb_cell_id = 51;\n                var nbb_unformatted_code = \"histogram_boxplot(df, \\\"normalized_used_price\\\")\";\n                var nbb_formatted_code = \"histogram_boxplot(df, \\\"normalized_used_price\\\")\";\n                var nbb_cells = Jupyter.notebook.get_cells();\n                for (var i = 0; i < nbb_cells.length; ++i) {\n                    if (nbb_cells[i].input_prompt_number == nbb_cell_id) {\n                        if (nbb_cells[i].get_text() == nbb_unformatted_code) {\n                             nbb_cells[i].set_text(nbb_formatted_code);\n                        }\n                        break;\n                    }\n                }\n            }, 500);\n            ",
            "text/plain": [
              "<IPython.core.display.Javascript object>"
            ]
          },
          "metadata": {},
          "output_type": "display_data"
        }
      ],
      "source": [
        "histogram_boxplot(df, \"normalized_used_price\")"
      ]
    },
    {
      "cell_type": "markdown",
      "metadata": {
        "id": "YYIpGoRWhmV9"
      },
      "source": [
        "**`normalized_new_price`**"
      ]
    },
    {
      "attachments": {},
      "cell_type": "markdown",
      "metadata": {},
      "source": [
        "checkpoint 2 27Jan2022 0122 h"
      ]
    },
    {
      "cell_type": "code",
      "execution_count": 59,
      "metadata": {
        "id": "K_AVTS9-hmV_"
      },
      "outputs": [
        {
          "data": {
            "image/png": "[encoded data removed]",
            "text/plain": [
              "<Figure size 1500x1000 with 2 Axes>"
            ]
          },
          "metadata": {},
          "output_type": "display_data"
        },
        {
          "data": {
            "application/javascript": "\n            setTimeout(function() {\n                var nbb_cell_id = 59;\n                var nbb_unformatted_code = \"histogram_boxplot(df, 'normalized_new_price')  ## Complete the code to create histogram_boxplot for 'normalized_new_price'\";\n                var nbb_formatted_code = \"histogram_boxplot(\\n    df, \\\"normalized_new_price\\\"\\n)  ## Complete the code to create histogram_boxplot for 'normalized_new_price'\";\n                var nbb_cells = Jupyter.notebook.get_cells();\n                for (var i = 0; i < nbb_cells.length; ++i) {\n                    if (nbb_cells[i].input_prompt_number == nbb_cell_id) {\n                        if (nbb_cells[i].get_text() == nbb_unformatted_code) {\n                             nbb_cells[i].set_text(nbb_formatted_code);\n                        }\n                        break;\n                    }\n                }\n            }, 500);\n            ",
            "text/plain": [
              "<IPython.core.display.Javascript object>"
            ]
          },
          "metadata": {},
          "output_type": "display_data"
        }
      ],
      "source": [
        "histogram_boxplot(df, 'normalized_new_price')  ## Complete the code to create histogram_boxplot for 'normalized_new_price'"
      ]
    },
    {
      "cell_type": "markdown",
      "metadata": {
        "id": "OVuQ8smPhmV_"
      },
      "source": [
        "**`screen_size`**"
      ]
    },
    {
      "cell_type": "code",
      "execution_count": 60,
      "metadata": {
        "id": "kDcR4t5uhmV_"
      },
      "outputs": [
        {
          "data": {
            "image/png": "[encoded data removed]",
            "text/plain": [
              "<Figure size 1500x1000 with 2 Axes>"
            ]
          },
          "metadata": {},
          "output_type": "display_data"
        },
        {
          "data": {
            "application/javascript": "\n            setTimeout(function() {\n                var nbb_cell_id = 60;\n                var nbb_unformatted_code = \"histogram_boxplot(df, 'screen_size')  ## Complete the code to create histogram_boxplot for 'screen_size'\";\n                var nbb_formatted_code = \"histogram_boxplot(\\n    df, \\\"screen_size\\\"\\n)  ## Complete the code to create histogram_boxplot for 'screen_size'\";\n                var nbb_cells = Jupyter.notebook.get_cells();\n                for (var i = 0; i < nbb_cells.length; ++i) {\n                    if (nbb_cells[i].input_prompt_number == nbb_cell_id) {\n                        if (nbb_cells[i].get_text() == nbb_unformatted_code) {\n                             nbb_cells[i].set_text(nbb_formatted_code);\n                        }\n                        break;\n                    }\n                }\n            }, 500);\n            ",
            "text/plain": [
              "<IPython.core.display.Javascript object>"
            ]
          },
          "metadata": {},
          "output_type": "display_data"
        }
      ],
      "source": [
        "histogram_boxplot(df, 'screen_size')  ## Complete the code to create histogram_boxplot for 'screen_size'"
      ]
    },
    {
      "cell_type": "markdown",
      "metadata": {
        "id": "zeDwMOz6hmV_"
      },
      "source": [
        "**`main_camera_mp`**"
      ]
    },
    {
      "cell_type": "code",
      "execution_count": null,
      "metadata": {
        "id": "qZHkTniOhmWA"
      },
      "outputs": [],
      "source": [
        "histogram_boxplot('_______')  ## Complete the code to create histogram_boxplot for 'main_camera_mp'"
      ]
    },
    {
      "cell_type": "markdown",
      "metadata": {
        "id": "MZav4AxrhmWA"
      },
      "source": [
        "**`selfie_camera_mp`**"
      ]
    },
    {
      "cell_type": "code",
      "execution_count": null,
      "metadata": {
        "id": "ZxX6OlLehmWA"
      },
      "outputs": [],
      "source": [
        "histogram_boxplot('_______')  ## Complete the code to create histogram_boxplot for 'selfie_camera_mp'"
      ]
    },
    {
      "cell_type": "markdown",
      "metadata": {
        "id": "oFXxdInchmWA"
      },
      "source": [
        "**`int_memory`**"
      ]
    },
    {
      "cell_type": "code",
      "execution_count": null,
      "metadata": {
        "id": "FhrZ64l_hmWA"
      },
      "outputs": [],
      "source": [
        "histogram_boxplot('_______')  ## Complete the code to create histogram_boxplot for 'int_memory'"
      ]
    },
    {
      "cell_type": "markdown",
      "metadata": {
        "id": "eXF46221hmWA"
      },
      "source": [
        "**`ram`**"
      ]
    },
    {
      "cell_type": "code",
      "execution_count": null,
      "metadata": {
        "id": "2TfjASGThmWA"
      },
      "outputs": [],
      "source": [
        "histogram_boxplot('_______')  ## Complete the code to create histogram_boxplot for 'ram'"
      ]
    },
    {
      "cell_type": "markdown",
      "metadata": {
        "id": "fTZI2sO1hmWB"
      },
      "source": [
        "**`weight`**"
      ]
    },
    {
      "cell_type": "code",
      "execution_count": null,
      "metadata": {
        "id": "PDxaAIDZhmWB"
      },
      "outputs": [],
      "source": [
        "histogram_boxplot('_______')  ## Complete the code to create histogram_boxplot for 'weight'"
      ]
    },
    {
      "cell_type": "markdown",
      "metadata": {
        "id": "VXgPSxGbhmWB"
      },
      "source": [
        "**`battery`**"
      ]
    },
    {
      "cell_type": "code",
      "execution_count": null,
      "metadata": {
        "id": "9Wo--kEQhmWB"
      },
      "outputs": [],
      "source": [
        "histogram_boxplot('_______')  ## Complete the code to create histogram_boxplot for 'battery'"
      ]
    },
    {
      "cell_type": "markdown",
      "metadata": {
        "id": "9WPI4QMjhmWB"
      },
      "source": [
        "**`days_used`**"
      ]
    },
    {
      "cell_type": "code",
      "execution_count": null,
      "metadata": {
        "colab": {
          "base_uri": "https://localhost:8080/",
          "height": 165
        },
        "id": "v3JU7JxehmWB",
        "outputId": "f8afaa08-3507-47d5-8d58-76c0c3e76aa5"
      },
      "outputs": [
        {
          "ename": "NameError",
          "evalue": "ignored",
          "output_type": "error",
          "traceback": [
            "\u001b[0;31m---------------------------------------------------------------------------\u001b[0m",
            "\u001b[0;31mNameError\u001b[0m                                 Traceback (most recent call last)",
            "\u001b[0;32m<ipython-input-2-08b228970eed>\u001b[0m in \u001b[0;36m<module>\u001b[0;34m\u001b[0m\n\u001b[0;32m----> 1\u001b[0;31m \u001b[0mhistogram_boxplot\u001b[0m\u001b[0;34m(\u001b[0m\u001b[0;34m'_______'\u001b[0m\u001b[0;34m)\u001b[0m  \u001b[0;31m## Complete the code to create histogram_boxplot for 'days_used'\u001b[0m\u001b[0;34m\u001b[0m\u001b[0;34m\u001b[0m\u001b[0m\n\u001b[0m",
            "\u001b[0;31mNameError\u001b[0m: name 'histogram_boxplot' is not defined"
          ]
        }
      ],
      "source": [
        "histogram_boxplot('_______')  ## Complete the code to create histogram_boxplot for 'days_used'"
      ]
    },
    {
      "cell_type": "markdown",
      "metadata": {
        "id": "utY4IudWhmWD"
      },
      "source": [
        "**`brand_name`**"
      ]
    },
    {
      "cell_type": "code",
      "execution_count": null,
      "metadata": {
        "id": "5VvbAPpYhmWD"
      },
      "outputs": [],
      "source": [
        "labeled_barplot(df, \"brand_name\", perc=True, n=10)"
      ]
    },
    {
      "cell_type": "markdown",
      "metadata": {
        "id": "NIqtv7SHhmWD"
      },
      "source": [
        "**`os`**"
      ]
    },
    {
      "cell_type": "code",
      "execution_count": null,
      "metadata": {
        "id": "pG7BdJ30hmWD"
      },
      "outputs": [],
      "source": [
        "labeled_barplot('_______') ## Complete the code to create labeled_barplot for 'os'"
      ]
    },
    {
      "cell_type": "markdown",
      "metadata": {
        "id": "5rGNYyuahmWD"
      },
      "source": [
        "**`4g`**"
      ]
    },
    {
      "cell_type": "code",
      "execution_count": null,
      "metadata": {
        "id": "wtGMz_aEhmWD"
      },
      "outputs": [],
      "source": [
        "labeled_barplot('_______') ## Complete the code to create labeled_barplot for '4g'"
      ]
    },
    {
      "cell_type": "markdown",
      "metadata": {
        "id": "7k69m1GPhmWD"
      },
      "source": [
        "**`5g`**"
      ]
    },
    {
      "cell_type": "code",
      "execution_count": null,
      "metadata": {
        "id": "A5s9SA49hmWE"
      },
      "outputs": [],
      "source": [
        "labeled_barplot('_______') ## Complete the code to create labeled_barplot for '5g'"
      ]
    },
    {
      "cell_type": "markdown",
      "metadata": {
        "id": "bTnwoEZ6hmWE"
      },
      "source": [
        "**`release_year`**"
      ]
    },
    {
      "cell_type": "code",
      "execution_count": null,
      "metadata": {
        "id": "lgV3q1tUhmWE"
      },
      "outputs": [],
      "source": [
        "labeled_barplot('_______') ## Complete the code to create labeled_barplot for 'release_year'"
      ]
    },
    {
      "cell_type": "markdown",
      "metadata": {
        "id": "Ga_huJrnhmWE"
      },
      "source": [
        "### Bivariate Analysis"
      ]
    },
    {
      "cell_type": "markdown",
      "metadata": {
        "id": "Jc8kJMd6VxHC"
      },
      "source": [
        "**Correlation Check**"
      ]
    },
    {
      "cell_type": "code",
      "execution_count": null,
      "metadata": {
        "id": "BpJxawjAhmWE"
      },
      "outputs": [],
      "source": [
        "cols_list = df.select_dtypes(include=np.number).columns.tolist()\n",
        "# dropping release_year as it is a temporal variable\n",
        "cols_list.remove(\"release_year\")\n",
        "\n",
        "plt.figure(figsize=(15, 7))\n",
        "sns.heatmap(\n",
        "    df[cols_list].corr(), annot=True, vmin=-1, vmax=1, fmt=\".2f\", cmap=\"Spectral\"\n",
        ")\n",
        "plt.show()"
      ]
    },
    {
      "cell_type": "markdown",
      "metadata": {
        "id": "QLjArqLFhmWF"
      },
      "source": [
        "**The amount of RAM is important for the smooth functioning of a device. Let's see how the amount of RAM varies across brands.**"
      ]
    },
    {
      "cell_type": "code",
      "execution_count": null,
      "metadata": {
        "id": "q77kiPCxhmWF"
      },
      "outputs": [],
      "source": [
        "plt.figure(figsize=(15, 5))\n",
        "sns.boxplot(data=df, x=\"brand_name\", y=\"ram\")\n",
        "plt.xticks(rotation=90)\n",
        "plt.show()"
      ]
    },
    {
      "cell_type": "markdown",
      "metadata": {
        "id": "HeDTwk21hmWF"
      },
      "source": [
        "**People who travel frequently require devices with large batteries to run through the day. But large battery often increases weight, making it feel uncomfortable in the hands. Let's create a new dataframe of only those devices which offer a large battery and analyze.**"
      ]
    },
    {
      "cell_type": "code",
      "execution_count": null,
      "metadata": {
        "id": "Cbcd1vbZhmWF"
      },
      "outputs": [],
      "source": [
        "df_large_battery = df[df.battery > 4500]\n",
        "df_large_battery.shape"
      ]
    },
    {
      "cell_type": "code",
      "execution_count": null,
      "metadata": {
        "id": "kcrj-ImghmWF"
      },
      "outputs": [],
      "source": [
        "plt.figure(figsize=(15, 5))\n",
        "sns.boxplot('______') ## Complete the code to create a boxplot for 'brand_name' and 'weight'\n",
        "plt.xticks(rotation=90)\n",
        "plt.show()"
      ]
    },
    {
      "cell_type": "markdown",
      "metadata": {
        "id": "E9o5QoShhmWF"
      },
      "source": [
        "**People who buy phones and tablets primarily for entertainment purposes prefer a large screen as they offer a better viewing experience. Let's create a new dataframe of only those devices which are suitable for such people and analyze.**"
      ]
    },
    {
      "cell_type": "code",
      "execution_count": null,
      "metadata": {
        "id": "i1DT9SDBhmWF"
      },
      "outputs": [],
      "source": [
        "df_large_screen = df[df.screen_size > 6 * 2.54]\n",
        "df_large_screen.shape"
      ]
    },
    {
      "cell_type": "code",
      "execution_count": null,
      "metadata": {
        "id": "CkSkJ0GIhmWG"
      },
      "outputs": [],
      "source": [
        "labeled_barplot('_______') ## Complete the code to create labeled_barplot for 'brand_name' in large screen dataframe"
      ]
    },
    {
      "cell_type": "markdown",
      "metadata": {
        "id": "UZ4IWWn7hmWG"
      },
      "source": [
        "**Everyone likes a good camera to capture their favorite moments with loved ones. Some customers specifically look for good front cameras to click cool selfies. Let's create a new dataframe of only those devices which are suitable for this customer segment and analyze.**"
      ]
    },
    {
      "cell_type": "code",
      "execution_count": null,
      "metadata": {
        "id": "lAond0uQhmWG"
      },
      "outputs": [],
      "source": [
        "df_selfie_camera = df[df.selfie_camera_mp > 8]\n",
        "df_selfie_camera.shape"
      ]
    },
    {
      "cell_type": "code",
      "execution_count": null,
      "metadata": {
        "id": "OdP27nZBhmWG"
      },
      "outputs": [],
      "source": [
        "labeled_barplot('_______') ## Complete the code to create labeled_barplot for 'brand_name' in high selfie camera dataframe"
      ]
    },
    {
      "cell_type": "markdown",
      "metadata": {
        "id": "BmFNBDmxhmWH"
      },
      "source": [
        "**Let's do a similar analysis for rear cameras.**\n",
        "\n",
        "- Rear cameras generally have a better resolution than front cameras, so we set the threshold higher for them at 16MP."
      ]
    },
    {
      "cell_type": "code",
      "execution_count": null,
      "metadata": {
        "id": "-xoY4afZhmWH"
      },
      "outputs": [],
      "source": [
        "df_main_camera = df[df.main_camera_mp > 16]\n",
        "df_main_camera.shape"
      ]
    },
    {
      "cell_type": "code",
      "execution_count": null,
      "metadata": {
        "id": "gegyv89HhmWH"
      },
      "outputs": [],
      "source": [
        "labeled_barplot('_______') ## Complete the code to create labeled_barplot for 'brand_name' in high main camera dataframe"
      ]
    },
    {
      "cell_type": "markdown",
      "metadata": {
        "id": "SDx7dJtEhmWH"
      },
      "source": [
        "**Let's see how the price of used devices varies across the years.**"
      ]
    },
    {
      "cell_type": "code",
      "execution_count": null,
      "metadata": {
        "id": "HrdhOpHthmWH"
      },
      "outputs": [],
      "source": [
        "plt.figure(figsize=(12, 5))\n",
        "sns.lineplot('_____') ## Complete the code to create a lineplot for release year and used price\n",
        "plt.show()"
      ]
    },
    {
      "cell_type": "markdown",
      "metadata": {
        "id": "vvLSkuZ2hmWI"
      },
      "source": [
        "**Let's check how the prices vary for used phones and tablets offering 4G and 5G networks.**"
      ]
    },
    {
      "cell_type": "code",
      "execution_count": null,
      "metadata": {
        "id": "x5ni9yVPhmWI"
      },
      "outputs": [],
      "source": [
        "plt.figure(figsize=(10, 4))\n",
        "\n",
        "plt.subplot(121)\n",
        "sns.boxplot(data=df, x=\"4g\", y=\"normalized_used_price\")\n",
        "\n",
        "plt.subplot(122)\n",
        "sns.boxplot(data=df, x=\"5g\", y=\"normalized_used_price\")\n",
        "\n",
        "plt.show()"
      ]
    },
    {
      "cell_type": "markdown",
      "metadata": {
        "id": "sbDJ_Vl8hmWI"
      },
      "source": [
        "## Data Preprocessing"
      ]
    },
    {
      "cell_type": "markdown",
      "metadata": {
        "id": "9Jnj657ShmWI"
      },
      "source": [
        "### Missing Value Imputation\n",
        "\n",
        "- We will impute the missing values in the data by the column medians grouped by `release_year` and `brand_name`."
      ]
    },
    {
      "cell_type": "code",
      "execution_count": null,
      "metadata": {
        "id": "dzp0-E7rKffM"
      },
      "outputs": [],
      "source": [
        "# let's create a copy of the data\n",
        "df1 = df.copy()"
      ]
    },
    {
      "cell_type": "code",
      "execution_count": null,
      "metadata": {
        "id": "0QfWi8PYhmWI"
      },
      "outputs": [],
      "source": [
        "# checking for missing values\n",
        "df1.'_______' ## Complete the code to check missing values in all the columns"
      ]
    },
    {
      "cell_type": "code",
      "execution_count": null,
      "metadata": {
        "id": "KQEug5qNhmWJ"
      },
      "outputs": [],
      "source": [
        "cols_impute = [\n",
        "    \"main_camera_mp\",\n",
        "    \"selfie_camera_mp\",\n",
        "    \"int_memory\",\n",
        "    \"ram\",\n",
        "    \"battery\",\n",
        "    \"weight\",\n",
        "]\n",
        "\n",
        "for col in cols_impute:\n",
        "    df1[col] = df1[col].fillna(\n",
        "        value=df1.groupby(['_____'])[col].transform(\"median\")\n",
        "    )   ## Complete the code to impute missing values in cols_impute with median by grouping the data on release year and brand name \n",
        "\n",
        "# checking for missing values\n",
        "df1.'_______' ## Complete the code to check missing values after imputing the above columns"
      ]
    },
    {
      "cell_type": "markdown",
      "metadata": {
        "id": "XF_SHRjPhmWJ"
      },
      "source": [
        "- We will impute the remaining missing values in the data by the column medians grouped by `brand_name`."
      ]
    },
    {
      "cell_type": "code",
      "execution_count": null,
      "metadata": {
        "id": "IzHBI4C6hmWJ"
      },
      "outputs": [],
      "source": [
        "cols_impute = [\n",
        "    \"main_camera_mp\",\n",
        "    \"selfie_camera_mp\",\n",
        "    \"battery\",\n",
        "    \"weight\",\n",
        "]\n",
        "\n",
        "for col in cols_impute:\n",
        "    df1[col] = df1[col].fillna(\n",
        "        value=df1.groupby(['_____'])[col].transform(\"median\")\n",
        "    ) ## Complete the code to impute the missing values in cols_impute with median by grouping the data on brand name\n",
        "\n",
        "# checking for missing values\n",
        "df1.'_______' ## Complete the code to check missing values after imputing the above columns"
      ]
    },
    {
      "cell_type": "markdown",
      "metadata": {
        "id": "B6JWbAyQhmWJ"
      },
      "source": [
        "- We will fill the remaining missing values in the `main_camera_mp` column by the column median."
      ]
    },
    {
      "cell_type": "code",
      "execution_count": null,
      "metadata": {
        "id": "uQJgQmzohmWJ"
      },
      "outputs": [],
      "source": [
        "df1[\"main_camera_mp\"] = df1[\"main_camera_mp\"].fillna(df1[\"main_camera_mp\"].'_______') ## Complete the code to impute the data with median\n",
        "\n",
        "# checking for missing values\n",
        "df1.'_______' ## Complete the code to check missing values after imputing the above columns"
      ]
    },
    {
      "cell_type": "markdown",
      "metadata": {
        "id": "OPB6dxxmWq1s"
      },
      "source": [
        "### Feature Engineering"
      ]
    },
    {
      "cell_type": "markdown",
      "metadata": {
        "id": "zYOa-FxlhmWG"
      },
      "source": [
        "\n",
        "\n",
        "- Let's create a new column `years_since_release` from the `release_year` column.\n",
        "- We will consider the year of data collection, 2021, as the baseline.\n",
        "- We will drop the `release_year` column."
      ]
    },
    {
      "cell_type": "code",
      "execution_count": null,
      "metadata": {
        "id": "ihTY3XRkhmWG"
      },
      "outputs": [],
      "source": [
        "df1[\"years_since_release\"] = 2021 - df1[\"release_year\"]\n",
        "df1.drop(\"release_year\", axis=1, inplace=True)\n",
        "df1[\"years_since_release\"].describe()"
      ]
    },
    {
      "cell_type": "markdown",
      "metadata": {
        "id": "4jUrmT40Wx7M"
      },
      "source": [
        "### Outlier Check\n"
      ]
    },
    {
      "cell_type": "markdown",
      "metadata": {
        "id": "nLoHqqf1hmWJ"
      },
      "source": [
        "\n",
        "- Let's check for outliers in the data."
      ]
    },
    {
      "cell_type": "code",
      "execution_count": null,
      "metadata": {
        "id": "2RSTq3PWhmWJ"
      },
      "outputs": [],
      "source": [
        "# outlier detection using boxplot\n",
        "num_cols = df1.select_dtypes(include=np.number).columns.tolist()\n",
        "\n",
        "plt.figure(figsize=(15, 15))\n",
        "\n",
        "for i, variable in enumerate(num_cols):\n",
        "    plt.subplot(4, 3, i + 1)\n",
        "    sns.boxplot(data=df1, x=variable)\n",
        "    plt.tight_layout(pad=2)\n",
        "\n",
        "plt.show()"
      ]
    },
    {
      "cell_type": "markdown",
      "metadata": {
        "id": "QChrTYFaKvTk"
      },
      "source": [
        "### Data Preparation for modeling"
      ]
    },
    {
      "cell_type": "markdown",
      "metadata": {
        "id": "wwu8iCRQhmWK"
      },
      "source": [
        "- We want to predict the normalized price of used devices\n",
        "- Before we proceed to build a model, we'll have to encode categorical features\n",
        "- We'll split the data into train and test to be able to evaluate the model that we build on the train data\n",
        "- We will build a Linear Regression model using the train data and then check it's performance"
      ]
    },
    {
      "cell_type": "code",
      "execution_count": null,
      "metadata": {
        "id": "372WHRhJGpj4"
      },
      "outputs": [],
      "source": [
        "## Complete the code to define the dependent and independent variables\n",
        "X = '_______'\n",
        "y = '_______'\n",
        "\n",
        "print(X.head())\n",
        "print()\n",
        "print(y.head())"
      ]
    },
    {
      "cell_type": "code",
      "execution_count": null,
      "metadata": {
        "id": "Py6xQDcfLQLk"
      },
      "outputs": [],
      "source": [
        "# let's add the intercept to data\n",
        "X = sm.add_constant(X)"
      ]
    },
    {
      "cell_type": "code",
      "execution_count": null,
      "metadata": {
        "id": "xWw6sT0yhmWK"
      },
      "outputs": [],
      "source": [
        "# creating dummy variables\n",
        "X = pd.'_______'(\n",
        "    X,\n",
        "    columns=X.select_dtypes(include=[\"object\", \"category\"]).columns.tolist(),\n",
        "    drop_first=True,\n",
        ")  ## Complete the code to create dummies for independent features\n",
        "\n",
        "X.head()"
      ]
    },
    {
      "cell_type": "code",
      "execution_count": null,
      "metadata": {
        "id": "CBXfTtAPGoaF"
      },
      "outputs": [],
      "source": [
        "# splitting the data in 70:30 ratio for train to test data\n",
        "\n",
        "x_train, x_test, y_train, y_test = '_______' ## Complete the code to split the data into train and test in specified ratio"
      ]
    },
    {
      "cell_type": "code",
      "execution_count": null,
      "metadata": {
        "id": "xUGp866qhmWK"
      },
      "outputs": [],
      "source": [
        "print(\"Number of rows in train data =\", x_train.shape[0])\n",
        "print(\"Number of rows in test data =\", x_test.shape[0])"
      ]
    },
    {
      "cell_type": "markdown",
      "metadata": {
        "id": "1JsqBJEohmWK"
      },
      "source": [
        "## Model Building - Linear Regression\n"
      ]
    },
    {
      "cell_type": "code",
      "execution_count": null,
      "metadata": {
        "id": "-uylJTNMqH8b",
        "scrolled": false
      },
      "outputs": [],
      "source": [
        "olsmodel1 = sm.'_______' ## Complete the code to fit OLS model\n",
        "print(olsmodel1.summary())"
      ]
    },
    {
      "cell_type": "markdown",
      "metadata": {
        "id": "9dgIbf7ALlYm"
      },
      "source": [
        "### Model Performance Check"
      ]
    },
    {
      "cell_type": "markdown",
      "metadata": {
        "id": "5MyYq4vaKffS"
      },
      "source": [
        "**Let's check the performance of the model using different metrics.**\n",
        "\n",
        "* We will be using metric functions defined in sklearn for RMSE, MAE, and $R^2$.\n",
        "* We will define a function to calculate MAPE and adjusted $R^2$.    \n",
        "* We will create a function which will print out all the above metrics in one go."
      ]
    },
    {
      "cell_type": "code",
      "execution_count": null,
      "metadata": {
        "id": "deaapIIvlJIL"
      },
      "outputs": [],
      "source": [
        "# function to compute adjusted R-squared\n",
        "def adj_r2_score(predictors, targets, predictions):\n",
        "    r2 = r2_score(targets, predictions)\n",
        "    n = predictors.shape[0]\n",
        "    k = predictors.shape[1]\n",
        "    return 1 - ((1 - r2) * (n - 1) / (n - k - 1))\n",
        "\n",
        "\n",
        "# function to compute MAPE\n",
        "def mape_score(targets, predictions):\n",
        "    return np.mean(np.abs(targets - predictions) / targets) * 100\n",
        "\n",
        "\n",
        "# function to compute different metrics to check performance of a regression model\n",
        "def model_performance_regression(model, predictors, target):\n",
        "    \"\"\"\n",
        "    Function to compute different metrics to check regression model performance\n",
        "\n",
        "    model: regressor\n",
        "    predictors: independent variables\n",
        "    target: dependent variable\n",
        "    \"\"\"\n",
        "\n",
        "    # predicting using the independent variables\n",
        "    pred = model.predict(predictors)\n",
        "\n",
        "    r2 = r2_score(target, pred)  # to compute R-squared\n",
        "    adjr2 = adj_r2_score(predictors, target, pred)  # to compute adjusted R-squared\n",
        "    rmse = np.sqrt(mean_squared_error(target, pred))  # to compute RMSE\n",
        "    mae = mean_absolute_error(target, pred)  # to compute MAE\n",
        "    mape = mape_score(target, pred)  # to compute MAPE\n",
        "\n",
        "    # creating a dataframe of metrics\n",
        "    df_perf = pd.DataFrame(\n",
        "        {\n",
        "            \"RMSE\": rmse,\n",
        "            \"MAE\": mae,\n",
        "            \"R-squared\": r2,\n",
        "            \"Adj. R-squared\": adjr2,\n",
        "            \"MAPE\": mape,\n",
        "        },\n",
        "        index=[0],\n",
        "    )\n",
        "\n",
        "    return df_perf"
      ]
    },
    {
      "cell_type": "code",
      "execution_count": null,
      "metadata": {
        "id": "vVBBaPtf-BZd"
      },
      "outputs": [],
      "source": [
        "# checking model performance on train set (seen 70% data)\n",
        "print(\"Training Performance\\n\")\n",
        "olsmodel1_train_perf = model_performance_regression(olsmodel1, x_train, y_train)\n",
        "olsmodel1_train_perf"
      ]
    },
    {
      "cell_type": "code",
      "execution_count": null,
      "metadata": {
        "id": "Sv51vNBhlJIL"
      },
      "outputs": [],
      "source": [
        "# checking model performance on test set (seen 30% data)\n",
        "print(\"Test Performance\\n\")\n",
        "olsmodel1_test_perf = model_performance_regression('_______') ## Complete the code to check the performance on test data\n",
        "olsmodel1_test_perf"
      ]
    },
    {
      "cell_type": "markdown",
      "metadata": {
        "id": "a9GxSQf-qH8e"
      },
      "source": [
        "## Checking Linear Regression Assumptions"
      ]
    },
    {
      "cell_type": "markdown",
      "metadata": {
        "id": "5Wr6XkwoqH8f"
      },
      "source": [
        "We will be checking the following Linear Regression assumptions:\n",
        "\n",
        "1. **No Multicollinearity**\n",
        "\n",
        "2. **Linearity of variables**\n",
        "\n",
        "3. **Independence of error terms**\n",
        "\n",
        "4. **Normality of error terms**\n",
        "\n",
        "5. **No Heteroscedasticity**"
      ]
    },
    {
      "cell_type": "markdown",
      "metadata": {
        "id": "SB4GanGWSOBT"
      },
      "source": [
        "### TEST FOR MULTICOLLINEARITY\n"
      ]
    },
    {
      "cell_type": "markdown",
      "metadata": {
        "id": "mROHQdzZqH8f"
      },
      "source": [
        "\n",
        "- We will test for multicollinearity using VIF.\n",
        "\n",
        "- **General Rule of thumb**:\n",
        "    - If VIF is 1 then there is no correlation between the $k$th predictor and the remaining predictor variables.\n",
        "    - If VIF exceeds 5 or is close to exceeding 5, we say there is moderate multicollinearity.\n",
        "    - If VIF is 10 or exceeding 10, it shows signs of high multicollinearity."
      ]
    },
    {
      "cell_type": "markdown",
      "metadata": {
        "id": "Hm6Y_e-mTvDl"
      },
      "source": [
        "Let's define a function to check VIF."
      ]
    },
    {
      "cell_type": "code",
      "execution_count": null,
      "metadata": {
        "id": "ZV-69rVWqH8g"
      },
      "outputs": [],
      "source": [
        "#Let's define a function to check VIF.\n",
        "\n",
        "def checking_vif(predictors):\n",
        "    vif = pd.DataFrame()\n",
        "    vif[\"feature\"] = predictors.columns\n",
        "\n",
        "    # calculating VIF for each feature\n",
        "    vif[\"VIF\"] = [\n",
        "        variance_inflation_factor(predictors.values, i)\n",
        "        for i in range(len(predictors.columns))\n",
        "    ]\n",
        "    return vif"
      ]
    },
    {
      "cell_type": "code",
      "execution_count": null,
      "metadata": {
        "id": "xPdvX4xZhmWL"
      },
      "outputs": [],
      "source": [
        "checking_vif('_______')  ## Complete the code to check VIF on train data"
      ]
    },
    {
      "cell_type": "markdown",
      "metadata": {
        "id": "ulUc-ceISeyu"
      },
      "source": [
        "### Removing Multicollinearity (if needed)\n"
      ]
    },
    {
      "cell_type": "markdown",
      "metadata": {
        "id": "XSiS4SRaqH8q"
      },
      "source": [
        "\n",
        "To remove multicollinearity\n",
        "\n",
        "1. Drop every column one by one that has a VIF score greater than 5.\n",
        "2. Look at the adjusted R-squared and RMSE of all these models.\n",
        "3. Drop the variable that makes the least change in adjusted R-squared.\n",
        "4. Check the VIF scores again.\n",
        "5. Continue till you get all VIF scores under 5.\n",
        "\n",
        "Let's define a function that will help us do this."
      ]
    },
    {
      "cell_type": "code",
      "execution_count": null,
      "metadata": {
        "id": "93U9udWjKffT"
      },
      "outputs": [],
      "source": [
        "def treating_multicollinearity(predictors, target, high_vif_columns):\n",
        "    \"\"\"\n",
        "    Checking the effect of dropping the columns showing high multicollinearity\n",
        "    on model performance (adj. R-squared and RMSE)\n",
        "\n",
        "    predictors: independent variables\n",
        "    target: dependent variable\n",
        "    high_vif_columns: columns having high VIF\n",
        "    \"\"\"\n",
        "    # empty lists to store adj. R-squared and RMSE values\n",
        "    adj_r2 = []\n",
        "    rmse = []\n",
        "\n",
        "    # build ols models by dropping one of the high VIF columns at a time\n",
        "    # store the adjusted R-squared and RMSE in the lists defined previously\n",
        "    for cols in high_vif_columns:\n",
        "        # defining the new train set\n",
        "        train = predictors.loc[:, ~predictors.columns.str.startswith(cols)]\n",
        "\n",
        "        # create the model\n",
        "        olsmodel = sm.OLS(target, train).fit()\n",
        "\n",
        "        # adding adj. R-squared and RMSE to the lists\n",
        "        adj_r2.append(olsmodel.rsquared_adj)\n",
        "        rmse.append(np.sqrt(olsmodel.mse_resid))\n",
        "\n",
        "    # creating a dataframe for the results\n",
        "    temp = pd.DataFrame(\n",
        "        {\n",
        "            \"col\": high_vif_columns,\n",
        "            \"Adj. R-squared after_dropping col\": adj_r2,\n",
        "            \"RMSE after dropping col\": rmse,\n",
        "        }\n",
        "    ).sort_values(by=\"Adj. R-squared after_dropping col\", ascending=False)\n",
        "    temp.reset_index(drop=True, inplace=True)\n",
        "\n",
        "    return temp"
      ]
    },
    {
      "cell_type": "code",
      "execution_count": null,
      "metadata": {
        "id": "r08PiCLiKffT"
      },
      "outputs": [],
      "source": [
        "col_list = ['____'] ## Complete the code to specify the columns with high VIF\n",
        "\n",
        "res = treating_multicollinearity('_____', y_train, col_list) ## Complete the code to check the effect on model performance after dropping specified columns from train data\n",
        "res"
      ]
    },
    {
      "cell_type": "code",
      "execution_count": null,
      "metadata": {
        "id": "JDJlsR2dKffU"
      },
      "outputs": [],
      "source": [
        "col_to_drop = '_____' ## Complete the code to specify the column to drop\n",
        "x_train2 = '_____'.loc[:, ~'_____'.columns.str.startswith(col_to_drop)] ## Complete the code to specify the train data from which to drop the column specified\n",
        "x_test2 = '_____'.loc[:, ~'_____'.columns.str.startswith(col_to_drop)] ## Complete the code to specify the test data from which to drop the column specified\n",
        "\n",
        "# Check VIF now\n",
        "vif = checking_vif(x_train2)\n",
        "print(\"VIF after dropping \", col_to_drop)\n",
        "vif"
      ]
    },
    {
      "cell_type": "markdown",
      "metadata": {
        "id": "j2hb9VujhmWL"
      },
      "source": [
        "### Dropping high p-value variables (if needed)\n",
        "\n",
        "- We will drop the predictor variables having a p-value greater than 0.05 as they do not significantly impact the target variable.\n",
        "- But sometimes p-values change after dropping a variable. So, we'll not drop all variables at once.\n",
        "- Instead, we will do the following:\n",
        "    - Build a model, check the p-values of the variables, and drop the column with the highest p-value.\n",
        "    - Create a new model without the dropped feature, check the p-values of the variables, and drop the column with the highest p-value.\n",
        "    - Repeat the above two steps till there are no columns with p-value > 0.05.\n",
        "\n",
        "The above process can also be done manually by picking one variable at a time that has a high p-value, dropping it, and building a model again. But that might be a little tedious and using a loop will be more efficient."
      ]
    },
    {
      "cell_type": "code",
      "execution_count": null,
      "metadata": {
        "id": "kTFISTQlSy6K"
      },
      "outputs": [],
      "source": [
        "# initial list of columns\n",
        "predictors = '_____'.copy()  ## Complete the code to check for p-values on the right dataset\n",
        "cols = predictors.columns.tolist()\n",
        "\n",
        "# setting an initial max p-value\n",
        "max_p_value = 1\n",
        "\n",
        "while len(cols) > 0:\n",
        "    # defining the train set\n",
        "    x_train_aux = predictors[cols]\n",
        "\n",
        "    # fitting the model\n",
        "    model = sm.OLS(y_train, x_train_aux).fit()\n",
        "\n",
        "    # getting the p-values and the maximum p-value\n",
        "    p_values = model.pvalues\n",
        "    max_p_value = max(p_values)\n",
        "\n",
        "    # name of the variable with maximum p-value\n",
        "    feature_with_p_max = p_values.idxmax()\n",
        "\n",
        "    if max_p_value > 0.05:\n",
        "        cols.remove(feature_with_p_max)\n",
        "    else:\n",
        "        break\n",
        "\n",
        "selected_features = cols\n",
        "print(selected_features)"
      ]
    },
    {
      "cell_type": "code",
      "execution_count": null,
      "metadata": {
        "id": "p0CfofLchmWL"
      },
      "outputs": [],
      "source": [
        "x_train3 = '____'[selected_features]  ## Complete the code to specify the train data from which to select the specified columns\n",
        "x_test3 = '____'[selected_features]  ## Complete the code to specify the test data from which to select the specified columns"
      ]
    },
    {
      "cell_type": "code",
      "execution_count": null,
      "metadata": {
        "id": "qaaUG3jDhmWM"
      },
      "outputs": [],
      "source": [
        "olsmodel2 = sm.'_______' ## Complete the code fit OLS() on updated dataset (no multicollinearity and no insignificant predictors)\n",
        "print(olsmodel2.summary())"
      ]
    },
    {
      "cell_type": "code",
      "execution_count": null,
      "metadata": {
        "id": "pgmwbtRXhmWM"
      },
      "outputs": [],
      "source": [
        "# checking model performance on train set (seen 70% data)\n",
        "print(\"Training Performance\\n\")\n",
        "olsmodel2_train_perf = model_performance_regression('_______') ## Complete the code to check performance on train data\n",
        "olsmodel2_train_perf"
      ]
    },
    {
      "cell_type": "code",
      "execution_count": null,
      "metadata": {
        "id": "-xMPZ9pRhmWM"
      },
      "outputs": [],
      "source": [
        "# checking model performance on test set (seen 30% data)\n",
        "print(\"Test Performance\\n\")\n",
        "olsmodel2_test_perf = model_performance_regression('_______') ## Complete the code to check performance on test data\n",
        "olsmodel2_test_perf"
      ]
    },
    {
      "cell_type": "markdown",
      "metadata": {
        "id": "Ctk29PsRqH90"
      },
      "source": [
        "**Now we'll check the rest of the assumptions on *olsmod2*.**\n",
        "\n",
        "2. **Linearity of variables**\n",
        "\n",
        "3. **Independence of error terms**\n",
        "\n",
        "4. **Normality of error terms**\n",
        "\n",
        "5. **No Heteroscedasticity**"
      ]
    },
    {
      "cell_type": "markdown",
      "metadata": {
        "id": "ykvaeUZ-TkjD"
      },
      "source": [
        "### TEST FOR LINEARITY AND INDEPENDENCE\n"
      ]
    },
    {
      "cell_type": "markdown",
      "metadata": {
        "id": "MnOY6E5uqH-C"
      },
      "source": [
        "\n",
        "- We will test for linearity and independence by making a plot of fitted values vs residuals and checking for patterns.\n",
        "- If there is no pattern, then we say the model is linear and residuals are independent.\n",
        "- Otherwise, the model is showing signs of non-linearity and residuals are not independent."
      ]
    },
    {
      "cell_type": "code",
      "execution_count": null,
      "metadata": {
        "id": "aNkYG_qihmWM"
      },
      "outputs": [],
      "source": [
        "# let us create a dataframe with actual, fitted and residual values\n",
        "df_pred = pd.DataFrame()\n",
        "\n",
        "df_pred[\"Actual Values\"] = y_train  # actual values\n",
        "df_pred[\"Fitted Values\"] = olsmodel2.fittedvalues  # predicted values\n",
        "df_pred[\"Residuals\"] = olsmodel2.resid  # residuals\n",
        "\n",
        "df_pred.head()"
      ]
    },
    {
      "cell_type": "code",
      "execution_count": null,
      "metadata": {
        "id": "NJ4ivHQiqH-G"
      },
      "outputs": [],
      "source": [
        "# let's plot the fitted values vs residuals\n",
        "\n",
        "sns.residplot(\n",
        "    data=df_pred, x=\"Fitted Values\", y=\"Residuals\", color=\"purple\", lowess=True\n",
        ")\n",
        "plt.xlabel(\"Fitted Values\")\n",
        "plt.ylabel(\"Residuals\")\n",
        "plt.title(\"Fitted vs Residual plot\")\n",
        "plt.show()"
      ]
    },
    {
      "cell_type": "markdown",
      "metadata": {
        "id": "VOxf_qsQqH-N"
      },
      "source": [
        "### TEST FOR NORMALITY\n",
        "\n",
        "- We will test for normality by checking the distribution of residuals, by checking the Q-Q plot of residuals, and by using the Shapiro-Wilk test.\n",
        "- If the residuals follow a normal distribution, they will make a straight line plot, otherwise not.\n",
        "- If the p-value of the Shapiro-Wilk test is greater than 0.05, we can say the residuals are normally distributed."
      ]
    },
    {
      "cell_type": "code",
      "execution_count": null,
      "metadata": {
        "id": "MUdQ6XJLqH-N"
      },
      "outputs": [],
      "source": [
        "sns.histplot(data=df_pred, '_______') ## Complete the code to plot the distribution of residuals\n",
        "plt.title(\"Normality of residuals\")\n",
        "plt.show()"
      ]
    },
    {
      "cell_type": "code",
      "execution_count": null,
      "metadata": {
        "id": "Wj8y7-1nqH-Q"
      },
      "outputs": [],
      "source": [
        "import pylab\n",
        "import scipy.stats as stats\n",
        "\n",
        "stats.probplot('_____', dist=\"norm\", plot=pylab) ## Complete the code check Q-Q plot\n",
        "plt.show()"
      ]
    },
    {
      "cell_type": "code",
      "execution_count": null,
      "metadata": {
        "id": "b1LIATpBqH-U"
      },
      "outputs": [],
      "source": [
        "stats.shapiro('_______') ## Complete the code to apply the Shapiro-Wilks test"
      ]
    },
    {
      "cell_type": "markdown",
      "metadata": {
        "id": "FTnuLaLBXvdR"
      },
      "source": [
        "### TEST FOR HOMOSCEDASTICITY\n"
      ]
    },
    {
      "cell_type": "markdown",
      "metadata": {
        "id": "6gZ4GKY_qH-Z"
      },
      "source": [
        "\n",
        "- We will test for homoscedasticity by using the goldfeldquandt test.\n",
        "- If we get a p-value greater than 0.05, we can say that the residuals are homoscedastic. Otherwise, they are heteroscedastic."
      ]
    },
    {
      "cell_type": "code",
      "execution_count": null,
      "metadata": {
        "id": "naX-iXItqH-b"
      },
      "outputs": [],
      "source": [
        "import statsmodels.stats.api as sms\n",
        "from statsmodels.compat import lzip\n",
        "\n",
        "name = [\"F statistic\", \"p-value\"]\n",
        "test = sms.het_goldfeldquandt(df_pred[\"Residuals\"], '_____') ## Complete the code with the right train data to apply the Goldfeldquandt test\n",
        "lzip(name, test)"
      ]
    },
    {
      "cell_type": "markdown",
      "metadata": {
        "id": "aIjiQ1NghmWN"
      },
      "source": [
        "## Final Model Summary"
      ]
    },
    {
      "cell_type": "code",
      "execution_count": null,
      "metadata": {
        "id": "x_Sqvs4TMKtn"
      },
      "outputs": [],
      "source": [
        "olsmodel_final = sm.'_______' ## Complete the code to fit the final model\n",
        "print(olsmodel_final.summary())"
      ]
    },
    {
      "cell_type": "code",
      "execution_count": null,
      "metadata": {
        "id": "4KbUJPfhhmWN"
      },
      "outputs": [],
      "source": [
        "# checking model performance on train set (seen 70% data)\n",
        "print(\"Training Performance\\n\")\n",
        "olsmodel_final_train_perf = model_performance_regression('_______') ## Complete the code to check the performance on train data\n",
        "olsmodel_final_train_perf"
      ]
    },
    {
      "cell_type": "code",
      "execution_count": null,
      "metadata": {
        "id": "T-WL13KBhmWN"
      },
      "outputs": [],
      "source": [
        "# checking model performance on test set (seen 30% data)\n",
        "print(\"Test Performance\\n\")\n",
        "olsmodel_final_test_perf = model_performance_regression('_______') ## Complete the code to check performance on test data\n",
        "olsmodel_final_test_perf"
      ]
    },
    {
      "cell_type": "markdown",
      "metadata": {
        "id": "2BkZh6eHluZK"
      },
      "source": [
        "##  Actionable Insights and Recommendations"
      ]
    },
    {
      "cell_type": "markdown",
      "metadata": {
        "id": "pj1rya_NXY-y"
      },
      "source": [
        "- \n"
      ]
    },
    {
      "cell_type": "markdown",
      "metadata": {
        "id": "W9V-w49_ULvd"
      },
      "source": [
        "---------"
      ]
    }
  ],
  "metadata": {
    "colab": {
      "include_colab_link": true,
      "provenance": []
    },
    "kernelspec": {
      "display_name": ".venv",
      "language": "python",
      "name": "python3"
    },
    "language_info": {
      "codemirror_mode": {
        "name": "ipython",
        "version": 3
      },
      "file_extension": ".py",
      "mimetype": "text/x-python",
      "name": "python",
      "nbconvert_exporter": "python",
      "pygments_lexer": "ipython3",
      "version": "3.10.9"
    },
    "vscode": {
      "interpreter": {
        "hash": "823cb65169fcc9fd523d7b12009603f85182acd29bd8145459f3a4c6ef9d2936"
      }
    }
  },
  "nbformat": 4,
  "nbformat_minor": 0
}
